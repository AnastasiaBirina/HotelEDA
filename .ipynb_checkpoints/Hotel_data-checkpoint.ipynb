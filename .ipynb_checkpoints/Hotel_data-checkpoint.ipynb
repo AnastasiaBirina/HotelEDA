{
 "cells": [
  {
   "cell_type": "markdown",
   "id": "dfeace2f-38bd-41a1-bd71-70b09be54eb0",
   "metadata": {},
   "source": [
    "This dataset contains 119390 observations for a City Hotel and a Resort Hotel. Each observation represents a hotel booking between the 1st of July 2015 and 31st of August 2017, including booking that effectively arrived and booking that were canceled.\n",
    "\n",
    "**hotel** - The datasets contains the booking information of two hotel. One of the hotels is a resort hotel and the other is a city hotel.\n",
    "\n",
    "**is_canceled** - Value indicating if the booking was canceled (1) or not (0).\n",
    "\n",
    "**lead_time** - Number of days that elapsed between the entering date of the booking into the PMS and the arrival date.\n",
    "\n",
    "**arrival_date_year** - Year of arrival date.\n",
    "\n",
    "**arrival_date_month** - Month of arrival date with 12 categories: “January” to “December”\n",
    "\n",
    "**arrival_date_week_number** - Week number of the arrival date\n",
    "\n",
    "**arrival_date_day_of_month** - Day of the month of the arrival date\n",
    "\n",
    "**stays_in_weekend_nights** - Number of weekend nights (Saturday or Sunday) the guest stayed or booked to stay at the hotel\n",
    "\n",
    "**stays_in_week_nights** - Number of week nights (Monday to Friday) the guest stayed or booked to stay at the hotel BO and BL/Calculated by counting the number of week nights.\n",
    "\n",
    "**adults** - Number of adults\n",
    "\n",
    "**children** - Number of children\n",
    "\n",
    "**babies** - Number of babies\n",
    "\n",
    "**meal** - BB – Bed & Breakfast\n",
    "\n",
    "**country** - Country of origin.\n",
    "\n",
    "**market_segment** - Market segment designation. \n",
    "* TA - Travel Agents \n",
    "* TO - Tour Operators\n",
    "\n",
    "**distribution_channel** - Booking distribution channel. The term “TA” means “Travel Agents” and “TO” means “Tour Operators”\n",
    "\n",
    "**is_repeated_guest** - Value indicating if the booking name was from a repeated guest (1) or not (0)\n",
    "\n",
    "**previous_cancellations** - Number of previous bookings that were cancelled by the customer prior to the current booking\n",
    "\n",
    "**previous_bookings_not_canceled** - Number of previous bookings not cancelled by the customer prior to the current booking\n",
    "\n",
    "**reserved_room_type** - Code of room type reserved. Code is presented instead of designation for anonymity reasons\n",
    "\n",
    "**assigned_room_type** - Code for the type of room assigned to the booking. Sometimes the assigned room type differs from the reserved room type due to hotel operation reasons (e.g. overbooking) or by customer request. Code is presented instead of designation for anonymity reasons\n",
    "\n",
    "**booking_changes** - Number of changes/amendments made to the booking from the moment the booking was entered on the PMS until the moment of check-in or cancellation\n",
    "\n",
    " **deposit_type** \n",
    " * No Deposit – no deposit was made; \n",
    " * Non Refund – a deposit was made in the value of the total stay cost; \n",
    " * Refundable – a deposit was made with a value under the total cost of stay.\n",
    " \n",
    "**agent** - ID of the travel agency that made the booking\n",
    "\n",
    "**company** - ID of the company/entity that made the booking or responsible for paying the booking. ID is presented instead of designation for anonymity reasons\n",
    "\n",
    "**days_in_waiting_list** - Number of days the booking was in the waiting list before it was confirmed to the customer\n",
    "\n",
    "**customer_type** \n",
    "* Group – when the booking is associated to a group; \n",
    "* Transient – when the booking is not part of a group or contract, and is not associated to other transient booking; Transient-party – when the booking is transient, but is associated to at least other transient booking\n",
    "\n",
    "**adr** - Average Daily Rate (Calculated by dividing the sum of all lodging transactions by the total number of staying nights)\n",
    "\n",
    "**required_car_parking_spaces** - Number of car parking spaces required by the customer\n",
    "\n",
    "**total_of_special_requests** - Number of special requests made by the customer (e.g. twin bed or high floor)\n",
    "\n",
    "**reservation_status** \n",
    "* Check-Out – customer has checked in but already departed; \n",
    "* No-Show – customer did not check-in and did inform the hotel of the reason why\n",
    "\n",
    "**reservation_status_date** - Date at which the last status was set. This variable can be used in conjunction with the ReservationStatus to understand when was the booking canceled or when did the customer checked-out of the hotel"
   ]
  },
  {
   "cell_type": "code",
   "execution_count": 1,
   "id": "dac68bb6-13ad-47cf-8f1d-76007e893cab",
   "metadata": {},
   "outputs": [],
   "source": [
    "import pandas as pd\n",
    "import numpy as np\n",
    "\n",
    "import warnings \n",
    "warnings.filterwarnings(\"ignore\")\n",
    "import calendar\n",
    "\n",
    "import matplotlib.pyplot as plt\n",
    "%matplotlib inline\n",
    "import seaborn as sns\n",
    "\n",
    "from sklearn.model_selection import train_test_split, cross_val_score, GridSearchCV, StratifiedKFold, RandomizedSearchCV\n",
    "from sklearn.preprocessing import StandardScaler, OneHotEncoder \n",
    "from sklearn.ensemble import RandomForestClassifier, StackingClassifier, BaggingClassifier\n",
    "from sklearn.metrics import classification_report\n",
    "from sklearn.svm import LinearSVC\n",
    "from sklearn.neighbors import KNeighborsClassifier\n",
    "from sklearn.linear_model import LogisticRegression,  RidgeClassifier\n",
    "from sklearn.pipeline import make_pipeline\n",
    "\n",
    "from xgboost import XGBClassifier\n",
    "from catboost import Pool, CatBoostClassifier #CatBoost\n",
    "from lightgbm import * \n",
    "import scikitplot as skplt"
   ]
  },
  {
   "cell_type": "code",
   "execution_count": 2,
   "id": "6b291287-49d5-46bc-8254-f83bd28047a0",
   "metadata": {},
   "outputs": [
    {
     "data": {
      "text/html": [
       "<div>\n",
       "<style scoped>\n",
       "    .dataframe tbody tr th:only-of-type {\n",
       "        vertical-align: middle;\n",
       "    }\n",
       "\n",
       "    .dataframe tbody tr th {\n",
       "        vertical-align: top;\n",
       "    }\n",
       "\n",
       "    .dataframe thead th {\n",
       "        text-align: right;\n",
       "    }\n",
       "</style>\n",
       "<table border=\"1\" class=\"dataframe\">\n",
       "  <thead>\n",
       "    <tr style=\"text-align: right;\">\n",
       "      <th></th>\n",
       "      <th>hotel</th>\n",
       "      <th>is_canceled</th>\n",
       "      <th>lead_time</th>\n",
       "      <th>arrival_date_year</th>\n",
       "      <th>arrival_date_month</th>\n",
       "      <th>arrival_date_week_number</th>\n",
       "      <th>arrival_date_day_of_month</th>\n",
       "      <th>stays_in_weekend_nights</th>\n",
       "      <th>stays_in_week_nights</th>\n",
       "      <th>adults</th>\n",
       "      <th>...</th>\n",
       "      <th>customer_type</th>\n",
       "      <th>adr</th>\n",
       "      <th>required_car_parking_spaces</th>\n",
       "      <th>total_of_special_requests</th>\n",
       "      <th>reservation_status</th>\n",
       "      <th>reservation_status_date</th>\n",
       "      <th>name</th>\n",
       "      <th>email</th>\n",
       "      <th>phone-number</th>\n",
       "      <th>credit_card</th>\n",
       "    </tr>\n",
       "  </thead>\n",
       "  <tbody>\n",
       "    <tr>\n",
       "      <th>0</th>\n",
       "      <td>Resort Hotel</td>\n",
       "      <td>0</td>\n",
       "      <td>342</td>\n",
       "      <td>2015</td>\n",
       "      <td>July</td>\n",
       "      <td>27</td>\n",
       "      <td>1</td>\n",
       "      <td>0</td>\n",
       "      <td>0</td>\n",
       "      <td>2</td>\n",
       "      <td>...</td>\n",
       "      <td>Transient</td>\n",
       "      <td>0.0</td>\n",
       "      <td>0</td>\n",
       "      <td>0</td>\n",
       "      <td>Check-Out</td>\n",
       "      <td>2015-07-01</td>\n",
       "      <td>Ernest Barnes</td>\n",
       "      <td>Ernest.Barnes31@outlook.com</td>\n",
       "      <td>669-792-1661</td>\n",
       "      <td>************4322</td>\n",
       "    </tr>\n",
       "    <tr>\n",
       "      <th>1</th>\n",
       "      <td>Resort Hotel</td>\n",
       "      <td>0</td>\n",
       "      <td>737</td>\n",
       "      <td>2015</td>\n",
       "      <td>July</td>\n",
       "      <td>27</td>\n",
       "      <td>1</td>\n",
       "      <td>0</td>\n",
       "      <td>0</td>\n",
       "      <td>2</td>\n",
       "      <td>...</td>\n",
       "      <td>Transient</td>\n",
       "      <td>0.0</td>\n",
       "      <td>0</td>\n",
       "      <td>0</td>\n",
       "      <td>Check-Out</td>\n",
       "      <td>2015-07-01</td>\n",
       "      <td>Andrea Baker</td>\n",
       "      <td>Andrea_Baker94@aol.com</td>\n",
       "      <td>858-637-6955</td>\n",
       "      <td>************9157</td>\n",
       "    </tr>\n",
       "    <tr>\n",
       "      <th>2</th>\n",
       "      <td>Resort Hotel</td>\n",
       "      <td>0</td>\n",
       "      <td>7</td>\n",
       "      <td>2015</td>\n",
       "      <td>July</td>\n",
       "      <td>27</td>\n",
       "      <td>1</td>\n",
       "      <td>0</td>\n",
       "      <td>1</td>\n",
       "      <td>1</td>\n",
       "      <td>...</td>\n",
       "      <td>Transient</td>\n",
       "      <td>75.0</td>\n",
       "      <td>0</td>\n",
       "      <td>0</td>\n",
       "      <td>Check-Out</td>\n",
       "      <td>2015-07-02</td>\n",
       "      <td>Rebecca Parker</td>\n",
       "      <td>Rebecca_Parker@comcast.net</td>\n",
       "      <td>652-885-2745</td>\n",
       "      <td>************3734</td>\n",
       "    </tr>\n",
       "    <tr>\n",
       "      <th>3</th>\n",
       "      <td>Resort Hotel</td>\n",
       "      <td>0</td>\n",
       "      <td>13</td>\n",
       "      <td>2015</td>\n",
       "      <td>July</td>\n",
       "      <td>27</td>\n",
       "      <td>1</td>\n",
       "      <td>0</td>\n",
       "      <td>1</td>\n",
       "      <td>1</td>\n",
       "      <td>...</td>\n",
       "      <td>Transient</td>\n",
       "      <td>75.0</td>\n",
       "      <td>0</td>\n",
       "      <td>0</td>\n",
       "      <td>Check-Out</td>\n",
       "      <td>2015-07-02</td>\n",
       "      <td>Laura Murray</td>\n",
       "      <td>Laura_M@gmail.com</td>\n",
       "      <td>364-656-8427</td>\n",
       "      <td>************5677</td>\n",
       "    </tr>\n",
       "    <tr>\n",
       "      <th>4</th>\n",
       "      <td>Resort Hotel</td>\n",
       "      <td>0</td>\n",
       "      <td>14</td>\n",
       "      <td>2015</td>\n",
       "      <td>July</td>\n",
       "      <td>27</td>\n",
       "      <td>1</td>\n",
       "      <td>0</td>\n",
       "      <td>2</td>\n",
       "      <td>2</td>\n",
       "      <td>...</td>\n",
       "      <td>Transient</td>\n",
       "      <td>98.0</td>\n",
       "      <td>0</td>\n",
       "      <td>1</td>\n",
       "      <td>Check-Out</td>\n",
       "      <td>2015-07-03</td>\n",
       "      <td>Linda Hines</td>\n",
       "      <td>LHines@verizon.com</td>\n",
       "      <td>713-226-5883</td>\n",
       "      <td>************5498</td>\n",
       "    </tr>\n",
       "  </tbody>\n",
       "</table>\n",
       "<p>5 rows × 36 columns</p>\n",
       "</div>"
      ],
      "text/plain": [
       "          hotel  is_canceled  lead_time  arrival_date_year arrival_date_month  \\\n",
       "0  Resort Hotel            0        342               2015               July   \n",
       "1  Resort Hotel            0        737               2015               July   \n",
       "2  Resort Hotel            0          7               2015               July   \n",
       "3  Resort Hotel            0         13               2015               July   \n",
       "4  Resort Hotel            0         14               2015               July   \n",
       "\n",
       "   arrival_date_week_number  arrival_date_day_of_month  \\\n",
       "0                        27                          1   \n",
       "1                        27                          1   \n",
       "2                        27                          1   \n",
       "3                        27                          1   \n",
       "4                        27                          1   \n",
       "\n",
       "   stays_in_weekend_nights  stays_in_week_nights  adults  ...  customer_type  \\\n",
       "0                        0                     0       2  ...      Transient   \n",
       "1                        0                     0       2  ...      Transient   \n",
       "2                        0                     1       1  ...      Transient   \n",
       "3                        0                     1       1  ...      Transient   \n",
       "4                        0                     2       2  ...      Transient   \n",
       "\n",
       "    adr required_car_parking_spaces total_of_special_requests  \\\n",
       "0   0.0                           0                         0   \n",
       "1   0.0                           0                         0   \n",
       "2  75.0                           0                         0   \n",
       "3  75.0                           0                         0   \n",
       "4  98.0                           0                         1   \n",
       "\n",
       "  reservation_status reservation_status_date            name  \\\n",
       "0          Check-Out              2015-07-01   Ernest Barnes   \n",
       "1          Check-Out              2015-07-01    Andrea Baker   \n",
       "2          Check-Out              2015-07-02  Rebecca Parker   \n",
       "3          Check-Out              2015-07-02    Laura Murray   \n",
       "4          Check-Out              2015-07-03     Linda Hines   \n",
       "\n",
       "                         email  phone-number       credit_card  \n",
       "0  Ernest.Barnes31@outlook.com  669-792-1661  ************4322  \n",
       "1       Andrea_Baker94@aol.com  858-637-6955  ************9157  \n",
       "2   Rebecca_Parker@comcast.net  652-885-2745  ************3734  \n",
       "3            Laura_M@gmail.com  364-656-8427  ************5677  \n",
       "4           LHines@verizon.com  713-226-5883  ************5498  \n",
       "\n",
       "[5 rows x 36 columns]"
      ]
     },
     "execution_count": 2,
     "metadata": {},
     "output_type": "execute_result"
    }
   ],
   "source": [
    "data = pd.read_csv(\"../datasets/hotel_booking.csv\")\n",
    "data.head()"
   ]
  },
  {
   "cell_type": "markdown",
   "id": "af49be52-9d20-472d-9323-96e83ce56721",
   "metadata": {},
   "source": [
    "First at all check size and drop duplicates"
   ]
  },
  {
   "cell_type": "code",
   "execution_count": 3,
   "id": "49abf7f5-1f3a-453e-8b16-79c4b02ab121",
   "metadata": {},
   "outputs": [],
   "source": [
    "def size_of_df(data):\n",
    "    print(f\"| {data.shape[0]} rows, {data.shape[1]} columns \\n| {data.size} elements summary \\n| {round(data.memory_usage().sum()/1048576, 1)} Mb\")"
   ]
  },
  {
   "cell_type": "code",
   "execution_count": 4,
   "id": "b35d5741-399a-43a6-8eb1-2e3ebe4586ec",
   "metadata": {},
   "outputs": [
    {
     "name": "stdout",
     "output_type": "stream",
     "text": [
      "| 119390 rows, 36 columns \n",
      "| 4298040 elements summary \n",
      "| 32.8 Mb\n"
     ]
    }
   ],
   "source": [
    "size_of_df(data)"
   ]
  },
  {
   "cell_type": "code",
   "execution_count": 5,
   "id": "b7ed4d2f-b5d7-404c-aea6-edea3b151a06",
   "metadata": {},
   "outputs": [
    {
     "name": "stdout",
     "output_type": "stream",
     "text": [
      "| 119390 rows, 36 columns \n",
      "| 4298040 elements summary \n",
      "| 32.8 Mb\n"
     ]
    }
   ],
   "source": [
    "data.drop_duplicates(inplace=True, ignore_index=True)\n",
    "size_of_df(data)"
   ]
  },
  {
   "cell_type": "markdown",
   "id": "6c141fd3-845d-4806-9d22-4490c030df8b",
   "metadata": {},
   "source": [
    "Create function for display information about DF"
   ]
  },
  {
   "cell_type": "code",
   "execution_count": 6,
   "id": "b04372b4-e1c8-4fad-887e-7d62ce9e258b",
   "metadata": {},
   "outputs": [],
   "source": [
    "def data_info(data, set_color=False):\n",
    "    #  most popular unique values in DF\n",
    "    unique_data = [data[x].value_counts().index[:2] for x in data.columns]\n",
    "    unique_res_data = pd.DataFrame()\n",
    "    for index, x in enumerate(data.columns):\n",
    "        unique_res_data[x] = unique_data[index] \n",
    "        \n",
    "    #  create new DF with all information about our DF - unique values, data types, num. unique values, num. NAs    \n",
    "    df_info = pd.concat([unique_res_data, \n",
    "                     pd.DataFrame(data.dtypes).T, \n",
    "                     pd.DataFrame(data.nunique()).T, \n",
    "                     pd.DataFrame(data.isna().sum()).T], ignore_index=True)\n",
    "\n",
    "    df_info.rename(index={0:\"unique_value_1\",\n",
    "                          1:\"unique_value_2\",\n",
    "                          2:\"type\", \n",
    "                          3:\"num_unique\", \n",
    "                          4:\"is_na\"}, inplace=True)\n",
    "    \n",
    "    # for convenience highlight the information in color\n",
    "    if set_color:\n",
    "        props = [(\"background-color\", \"lavender\")]\n",
    "        df_info = df_info.style.set_table_styles({\"type\": [{\"selector\": \"\", \"props\": props}],\n",
    "                                          \"num_unique\": [{\"selector\": '', \"props\": props}],\n",
    "                                          \"is_na\": [{\"selector\": \"\", \"props\": props}]}, \n",
    "                                          axis=1, \n",
    "                                          overwrite=False)\n",
    "    return(df_info)"
   ]
  },
  {
   "cell_type": "code",
   "execution_count": 7,
   "id": "cee5fbc3-4c17-4693-83ee-ab3ef2b7590d",
   "metadata": {},
   "outputs": [
    {
     "data": {
      "text/html": [
       "<div>\n",
       "<style scoped>\n",
       "    .dataframe tbody tr th:only-of-type {\n",
       "        vertical-align: middle;\n",
       "    }\n",
       "\n",
       "    .dataframe tbody tr th {\n",
       "        vertical-align: top;\n",
       "    }\n",
       "\n",
       "    .dataframe thead th {\n",
       "        text-align: right;\n",
       "    }\n",
       "</style>\n",
       "<table border=\"1\" class=\"dataframe\">\n",
       "  <thead>\n",
       "    <tr style=\"text-align: right;\">\n",
       "      <th></th>\n",
       "      <th>unique_value_1</th>\n",
       "      <th>unique_value_2</th>\n",
       "      <th>type</th>\n",
       "      <th>num_unique</th>\n",
       "      <th>is_na</th>\n",
       "    </tr>\n",
       "  </thead>\n",
       "  <tbody>\n",
       "    <tr>\n",
       "      <th>hotel</th>\n",
       "      <td>City Hotel</td>\n",
       "      <td>Resort Hotel</td>\n",
       "      <td>object</td>\n",
       "      <td>2</td>\n",
       "      <td>0</td>\n",
       "    </tr>\n",
       "    <tr>\n",
       "      <th>is_canceled</th>\n",
       "      <td>0</td>\n",
       "      <td>1</td>\n",
       "      <td>int64</td>\n",
       "      <td>2</td>\n",
       "      <td>0</td>\n",
       "    </tr>\n",
       "    <tr>\n",
       "      <th>lead_time</th>\n",
       "      <td>0</td>\n",
       "      <td>1</td>\n",
       "      <td>int64</td>\n",
       "      <td>479</td>\n",
       "      <td>0</td>\n",
       "    </tr>\n",
       "    <tr>\n",
       "      <th>arrival_date_year</th>\n",
       "      <td>2016</td>\n",
       "      <td>2017</td>\n",
       "      <td>int64</td>\n",
       "      <td>3</td>\n",
       "      <td>0</td>\n",
       "    </tr>\n",
       "    <tr>\n",
       "      <th>arrival_date_month</th>\n",
       "      <td>August</td>\n",
       "      <td>July</td>\n",
       "      <td>object</td>\n",
       "      <td>12</td>\n",
       "      <td>0</td>\n",
       "    </tr>\n",
       "    <tr>\n",
       "      <th>arrival_date_week_number</th>\n",
       "      <td>33</td>\n",
       "      <td>30</td>\n",
       "      <td>int64</td>\n",
       "      <td>53</td>\n",
       "      <td>0</td>\n",
       "    </tr>\n",
       "    <tr>\n",
       "      <th>arrival_date_day_of_month</th>\n",
       "      <td>17</td>\n",
       "      <td>5</td>\n",
       "      <td>int64</td>\n",
       "      <td>31</td>\n",
       "      <td>0</td>\n",
       "    </tr>\n",
       "    <tr>\n",
       "      <th>stays_in_weekend_nights</th>\n",
       "      <td>0</td>\n",
       "      <td>2</td>\n",
       "      <td>int64</td>\n",
       "      <td>17</td>\n",
       "      <td>0</td>\n",
       "    </tr>\n",
       "    <tr>\n",
       "      <th>stays_in_week_nights</th>\n",
       "      <td>2</td>\n",
       "      <td>1</td>\n",
       "      <td>int64</td>\n",
       "      <td>35</td>\n",
       "      <td>0</td>\n",
       "    </tr>\n",
       "    <tr>\n",
       "      <th>adults</th>\n",
       "      <td>2</td>\n",
       "      <td>1</td>\n",
       "      <td>int64</td>\n",
       "      <td>14</td>\n",
       "      <td>0</td>\n",
       "    </tr>\n",
       "    <tr>\n",
       "      <th>children</th>\n",
       "      <td>0.0</td>\n",
       "      <td>1.0</td>\n",
       "      <td>float64</td>\n",
       "      <td>5</td>\n",
       "      <td>4</td>\n",
       "    </tr>\n",
       "    <tr>\n",
       "      <th>babies</th>\n",
       "      <td>0</td>\n",
       "      <td>1</td>\n",
       "      <td>int64</td>\n",
       "      <td>5</td>\n",
       "      <td>0</td>\n",
       "    </tr>\n",
       "    <tr>\n",
       "      <th>meal</th>\n",
       "      <td>BB</td>\n",
       "      <td>HB</td>\n",
       "      <td>object</td>\n",
       "      <td>5</td>\n",
       "      <td>0</td>\n",
       "    </tr>\n",
       "    <tr>\n",
       "      <th>country</th>\n",
       "      <td>PRT</td>\n",
       "      <td>GBR</td>\n",
       "      <td>object</td>\n",
       "      <td>177</td>\n",
       "      <td>488</td>\n",
       "    </tr>\n",
       "    <tr>\n",
       "      <th>market_segment</th>\n",
       "      <td>Online TA</td>\n",
       "      <td>Offline TA/TO</td>\n",
       "      <td>object</td>\n",
       "      <td>8</td>\n",
       "      <td>0</td>\n",
       "    </tr>\n",
       "    <tr>\n",
       "      <th>distribution_channel</th>\n",
       "      <td>TA/TO</td>\n",
       "      <td>Direct</td>\n",
       "      <td>object</td>\n",
       "      <td>5</td>\n",
       "      <td>0</td>\n",
       "    </tr>\n",
       "    <tr>\n",
       "      <th>is_repeated_guest</th>\n",
       "      <td>0</td>\n",
       "      <td>1</td>\n",
       "      <td>int64</td>\n",
       "      <td>2</td>\n",
       "      <td>0</td>\n",
       "    </tr>\n",
       "    <tr>\n",
       "      <th>previous_cancellations</th>\n",
       "      <td>0</td>\n",
       "      <td>1</td>\n",
       "      <td>int64</td>\n",
       "      <td>15</td>\n",
       "      <td>0</td>\n",
       "    </tr>\n",
       "    <tr>\n",
       "      <th>previous_bookings_not_canceled</th>\n",
       "      <td>0</td>\n",
       "      <td>1</td>\n",
       "      <td>int64</td>\n",
       "      <td>73</td>\n",
       "      <td>0</td>\n",
       "    </tr>\n",
       "    <tr>\n",
       "      <th>reserved_room_type</th>\n",
       "      <td>A</td>\n",
       "      <td>D</td>\n",
       "      <td>object</td>\n",
       "      <td>10</td>\n",
       "      <td>0</td>\n",
       "    </tr>\n",
       "    <tr>\n",
       "      <th>assigned_room_type</th>\n",
       "      <td>A</td>\n",
       "      <td>D</td>\n",
       "      <td>object</td>\n",
       "      <td>12</td>\n",
       "      <td>0</td>\n",
       "    </tr>\n",
       "    <tr>\n",
       "      <th>booking_changes</th>\n",
       "      <td>0</td>\n",
       "      <td>1</td>\n",
       "      <td>int64</td>\n",
       "      <td>21</td>\n",
       "      <td>0</td>\n",
       "    </tr>\n",
       "    <tr>\n",
       "      <th>deposit_type</th>\n",
       "      <td>No Deposit</td>\n",
       "      <td>Non Refund</td>\n",
       "      <td>object</td>\n",
       "      <td>3</td>\n",
       "      <td>0</td>\n",
       "    </tr>\n",
       "    <tr>\n",
       "      <th>agent</th>\n",
       "      <td>9.0</td>\n",
       "      <td>240.0</td>\n",
       "      <td>float64</td>\n",
       "      <td>333</td>\n",
       "      <td>16340</td>\n",
       "    </tr>\n",
       "    <tr>\n",
       "      <th>company</th>\n",
       "      <td>40.0</td>\n",
       "      <td>223.0</td>\n",
       "      <td>float64</td>\n",
       "      <td>352</td>\n",
       "      <td>112593</td>\n",
       "    </tr>\n",
       "    <tr>\n",
       "      <th>days_in_waiting_list</th>\n",
       "      <td>0</td>\n",
       "      <td>39</td>\n",
       "      <td>int64</td>\n",
       "      <td>128</td>\n",
       "      <td>0</td>\n",
       "    </tr>\n",
       "    <tr>\n",
       "      <th>customer_type</th>\n",
       "      <td>Transient</td>\n",
       "      <td>Transient-Party</td>\n",
       "      <td>object</td>\n",
       "      <td>4</td>\n",
       "      <td>0</td>\n",
       "    </tr>\n",
       "    <tr>\n",
       "      <th>adr</th>\n",
       "      <td>62.0</td>\n",
       "      <td>75.0</td>\n",
       "      <td>float64</td>\n",
       "      <td>8879</td>\n",
       "      <td>0</td>\n",
       "    </tr>\n",
       "    <tr>\n",
       "      <th>required_car_parking_spaces</th>\n",
       "      <td>0</td>\n",
       "      <td>1</td>\n",
       "      <td>int64</td>\n",
       "      <td>5</td>\n",
       "      <td>0</td>\n",
       "    </tr>\n",
       "    <tr>\n",
       "      <th>total_of_special_requests</th>\n",
       "      <td>0</td>\n",
       "      <td>1</td>\n",
       "      <td>int64</td>\n",
       "      <td>6</td>\n",
       "      <td>0</td>\n",
       "    </tr>\n",
       "    <tr>\n",
       "      <th>reservation_status</th>\n",
       "      <td>Check-Out</td>\n",
       "      <td>Canceled</td>\n",
       "      <td>object</td>\n",
       "      <td>3</td>\n",
       "      <td>0</td>\n",
       "    </tr>\n",
       "    <tr>\n",
       "      <th>reservation_status_date</th>\n",
       "      <td>2015-10-21</td>\n",
       "      <td>2015-07-06</td>\n",
       "      <td>object</td>\n",
       "      <td>926</td>\n",
       "      <td>0</td>\n",
       "    </tr>\n",
       "    <tr>\n",
       "      <th>name</th>\n",
       "      <td>Robert Smith</td>\n",
       "      <td>Michael Johnson</td>\n",
       "      <td>object</td>\n",
       "      <td>81503</td>\n",
       "      <td>0</td>\n",
       "    </tr>\n",
       "    <tr>\n",
       "      <th>email</th>\n",
       "      <td>Michael.C@gmail.com</td>\n",
       "      <td>JSmith@gmail.com</td>\n",
       "      <td>object</td>\n",
       "      <td>115889</td>\n",
       "      <td>0</td>\n",
       "    </tr>\n",
       "    <tr>\n",
       "      <th>phone-number</th>\n",
       "      <td>525-309-6309</td>\n",
       "      <td>983-839-3707</td>\n",
       "      <td>object</td>\n",
       "      <td>119390</td>\n",
       "      <td>0</td>\n",
       "    </tr>\n",
       "    <tr>\n",
       "      <th>credit_card</th>\n",
       "      <td>************4923</td>\n",
       "      <td>************3627</td>\n",
       "      <td>object</td>\n",
       "      <td>9000</td>\n",
       "      <td>0</td>\n",
       "    </tr>\n",
       "  </tbody>\n",
       "</table>\n",
       "</div>"
      ],
      "text/plain": [
       "                                     unique_value_1    unique_value_2  \\\n",
       "hotel                                    City Hotel      Resort Hotel   \n",
       "is_canceled                                       0                 1   \n",
       "lead_time                                         0                 1   \n",
       "arrival_date_year                              2016              2017   \n",
       "arrival_date_month                           August              July   \n",
       "arrival_date_week_number                         33                30   \n",
       "arrival_date_day_of_month                        17                 5   \n",
       "stays_in_weekend_nights                           0                 2   \n",
       "stays_in_week_nights                              2                 1   \n",
       "adults                                            2                 1   \n",
       "children                                        0.0               1.0   \n",
       "babies                                            0                 1   \n",
       "meal                                             BB                HB   \n",
       "country                                         PRT               GBR   \n",
       "market_segment                            Online TA     Offline TA/TO   \n",
       "distribution_channel                          TA/TO            Direct   \n",
       "is_repeated_guest                                 0                 1   \n",
       "previous_cancellations                            0                 1   \n",
       "previous_bookings_not_canceled                    0                 1   \n",
       "reserved_room_type                                A                 D   \n",
       "assigned_room_type                                A                 D   \n",
       "booking_changes                                   0                 1   \n",
       "deposit_type                             No Deposit        Non Refund   \n",
       "agent                                           9.0             240.0   \n",
       "company                                        40.0             223.0   \n",
       "days_in_waiting_list                              0                39   \n",
       "customer_type                             Transient   Transient-Party   \n",
       "adr                                            62.0              75.0   \n",
       "required_car_parking_spaces                       0                 1   \n",
       "total_of_special_requests                         0                 1   \n",
       "reservation_status                        Check-Out          Canceled   \n",
       "reservation_status_date                  2015-10-21        2015-07-06   \n",
       "name                                   Robert Smith   Michael Johnson   \n",
       "email                           Michael.C@gmail.com  JSmith@gmail.com   \n",
       "phone-number                           525-309-6309      983-839-3707   \n",
       "credit_card                        ************4923  ************3627   \n",
       "\n",
       "                                   type num_unique   is_na  \n",
       "hotel                            object          2       0  \n",
       "is_canceled                       int64          2       0  \n",
       "lead_time                         int64        479       0  \n",
       "arrival_date_year                 int64          3       0  \n",
       "arrival_date_month               object         12       0  \n",
       "arrival_date_week_number          int64         53       0  \n",
       "arrival_date_day_of_month         int64         31       0  \n",
       "stays_in_weekend_nights           int64         17       0  \n",
       "stays_in_week_nights              int64         35       0  \n",
       "adults                            int64         14       0  \n",
       "children                        float64          5       4  \n",
       "babies                            int64          5       0  \n",
       "meal                             object          5       0  \n",
       "country                          object        177     488  \n",
       "market_segment                   object          8       0  \n",
       "distribution_channel             object          5       0  \n",
       "is_repeated_guest                 int64          2       0  \n",
       "previous_cancellations            int64         15       0  \n",
       "previous_bookings_not_canceled    int64         73       0  \n",
       "reserved_room_type               object         10       0  \n",
       "assigned_room_type               object         12       0  \n",
       "booking_changes                   int64         21       0  \n",
       "deposit_type                     object          3       0  \n",
       "agent                           float64        333   16340  \n",
       "company                         float64        352  112593  \n",
       "days_in_waiting_list              int64        128       0  \n",
       "customer_type                    object          4       0  \n",
       "adr                             float64       8879       0  \n",
       "required_car_parking_spaces       int64          5       0  \n",
       "total_of_special_requests         int64          6       0  \n",
       "reservation_status               object          3       0  \n",
       "reservation_status_date          object        926       0  \n",
       "name                             object      81503       0  \n",
       "email                            object     115889       0  \n",
       "phone-number                     object     119390       0  \n",
       "credit_card                      object       9000       0  "
      ]
     },
     "execution_count": 7,
     "metadata": {},
     "output_type": "execute_result"
    }
   ],
   "source": [
    "data_info(data).T"
   ]
  },
  {
   "cell_type": "code",
   "execution_count": 8,
   "id": "c74c1365-ffd8-482b-8de8-6ad2f18f7ba5",
   "metadata": {},
   "outputs": [
    {
     "data": {
      "text/html": [
       "<div>\n",
       "<style scoped>\n",
       "    .dataframe tbody tr th:only-of-type {\n",
       "        vertical-align: middle;\n",
       "    }\n",
       "\n",
       "    .dataframe tbody tr th {\n",
       "        vertical-align: top;\n",
       "    }\n",
       "\n",
       "    .dataframe thead th {\n",
       "        text-align: right;\n",
       "    }\n",
       "</style>\n",
       "<table border=\"1\" class=\"dataframe\">\n",
       "  <thead>\n",
       "    <tr style=\"text-align: right;\">\n",
       "      <th></th>\n",
       "      <th>count</th>\n",
       "      <th>mean</th>\n",
       "      <th>std</th>\n",
       "      <th>min</th>\n",
       "      <th>25%</th>\n",
       "      <th>50%</th>\n",
       "      <th>75%</th>\n",
       "      <th>max</th>\n",
       "    </tr>\n",
       "  </thead>\n",
       "  <tbody>\n",
       "    <tr>\n",
       "      <th>is_canceled</th>\n",
       "      <td>119390.0</td>\n",
       "      <td>0.370416</td>\n",
       "      <td>0.482918</td>\n",
       "      <td>0.00</td>\n",
       "      <td>0.00</td>\n",
       "      <td>0.000</td>\n",
       "      <td>1.0</td>\n",
       "      <td>1.0</td>\n",
       "    </tr>\n",
       "    <tr>\n",
       "      <th>lead_time</th>\n",
       "      <td>119390.0</td>\n",
       "      <td>104.011416</td>\n",
       "      <td>106.863097</td>\n",
       "      <td>0.00</td>\n",
       "      <td>18.00</td>\n",
       "      <td>69.000</td>\n",
       "      <td>160.0</td>\n",
       "      <td>737.0</td>\n",
       "    </tr>\n",
       "    <tr>\n",
       "      <th>arrival_date_year</th>\n",
       "      <td>119390.0</td>\n",
       "      <td>2016.156554</td>\n",
       "      <td>0.707476</td>\n",
       "      <td>2015.00</td>\n",
       "      <td>2016.00</td>\n",
       "      <td>2016.000</td>\n",
       "      <td>2017.0</td>\n",
       "      <td>2017.0</td>\n",
       "    </tr>\n",
       "    <tr>\n",
       "      <th>arrival_date_week_number</th>\n",
       "      <td>119390.0</td>\n",
       "      <td>27.165173</td>\n",
       "      <td>13.605138</td>\n",
       "      <td>1.00</td>\n",
       "      <td>16.00</td>\n",
       "      <td>28.000</td>\n",
       "      <td>38.0</td>\n",
       "      <td>53.0</td>\n",
       "    </tr>\n",
       "    <tr>\n",
       "      <th>arrival_date_day_of_month</th>\n",
       "      <td>119390.0</td>\n",
       "      <td>15.798241</td>\n",
       "      <td>8.780829</td>\n",
       "      <td>1.00</td>\n",
       "      <td>8.00</td>\n",
       "      <td>16.000</td>\n",
       "      <td>23.0</td>\n",
       "      <td>31.0</td>\n",
       "    </tr>\n",
       "    <tr>\n",
       "      <th>stays_in_weekend_nights</th>\n",
       "      <td>119390.0</td>\n",
       "      <td>0.927599</td>\n",
       "      <td>0.998613</td>\n",
       "      <td>0.00</td>\n",
       "      <td>0.00</td>\n",
       "      <td>1.000</td>\n",
       "      <td>2.0</td>\n",
       "      <td>19.0</td>\n",
       "    </tr>\n",
       "    <tr>\n",
       "      <th>stays_in_week_nights</th>\n",
       "      <td>119390.0</td>\n",
       "      <td>2.500302</td>\n",
       "      <td>1.908286</td>\n",
       "      <td>0.00</td>\n",
       "      <td>1.00</td>\n",
       "      <td>2.000</td>\n",
       "      <td>3.0</td>\n",
       "      <td>50.0</td>\n",
       "    </tr>\n",
       "    <tr>\n",
       "      <th>adults</th>\n",
       "      <td>119390.0</td>\n",
       "      <td>1.856403</td>\n",
       "      <td>0.579261</td>\n",
       "      <td>0.00</td>\n",
       "      <td>2.00</td>\n",
       "      <td>2.000</td>\n",
       "      <td>2.0</td>\n",
       "      <td>55.0</td>\n",
       "    </tr>\n",
       "    <tr>\n",
       "      <th>children</th>\n",
       "      <td>119386.0</td>\n",
       "      <td>0.103890</td>\n",
       "      <td>0.398561</td>\n",
       "      <td>0.00</td>\n",
       "      <td>0.00</td>\n",
       "      <td>0.000</td>\n",
       "      <td>0.0</td>\n",
       "      <td>10.0</td>\n",
       "    </tr>\n",
       "    <tr>\n",
       "      <th>babies</th>\n",
       "      <td>119390.0</td>\n",
       "      <td>0.007949</td>\n",
       "      <td>0.097436</td>\n",
       "      <td>0.00</td>\n",
       "      <td>0.00</td>\n",
       "      <td>0.000</td>\n",
       "      <td>0.0</td>\n",
       "      <td>10.0</td>\n",
       "    </tr>\n",
       "    <tr>\n",
       "      <th>is_repeated_guest</th>\n",
       "      <td>119390.0</td>\n",
       "      <td>0.031912</td>\n",
       "      <td>0.175767</td>\n",
       "      <td>0.00</td>\n",
       "      <td>0.00</td>\n",
       "      <td>0.000</td>\n",
       "      <td>0.0</td>\n",
       "      <td>1.0</td>\n",
       "    </tr>\n",
       "    <tr>\n",
       "      <th>previous_cancellations</th>\n",
       "      <td>119390.0</td>\n",
       "      <td>0.087118</td>\n",
       "      <td>0.844336</td>\n",
       "      <td>0.00</td>\n",
       "      <td>0.00</td>\n",
       "      <td>0.000</td>\n",
       "      <td>0.0</td>\n",
       "      <td>26.0</td>\n",
       "    </tr>\n",
       "    <tr>\n",
       "      <th>previous_bookings_not_canceled</th>\n",
       "      <td>119390.0</td>\n",
       "      <td>0.137097</td>\n",
       "      <td>1.497437</td>\n",
       "      <td>0.00</td>\n",
       "      <td>0.00</td>\n",
       "      <td>0.000</td>\n",
       "      <td>0.0</td>\n",
       "      <td>72.0</td>\n",
       "    </tr>\n",
       "    <tr>\n",
       "      <th>booking_changes</th>\n",
       "      <td>119390.0</td>\n",
       "      <td>0.221124</td>\n",
       "      <td>0.652306</td>\n",
       "      <td>0.00</td>\n",
       "      <td>0.00</td>\n",
       "      <td>0.000</td>\n",
       "      <td>0.0</td>\n",
       "      <td>21.0</td>\n",
       "    </tr>\n",
       "    <tr>\n",
       "      <th>agent</th>\n",
       "      <td>103050.0</td>\n",
       "      <td>86.693382</td>\n",
       "      <td>110.774548</td>\n",
       "      <td>1.00</td>\n",
       "      <td>9.00</td>\n",
       "      <td>14.000</td>\n",
       "      <td>229.0</td>\n",
       "      <td>535.0</td>\n",
       "    </tr>\n",
       "    <tr>\n",
       "      <th>company</th>\n",
       "      <td>6797.0</td>\n",
       "      <td>189.266735</td>\n",
       "      <td>131.655015</td>\n",
       "      <td>6.00</td>\n",
       "      <td>62.00</td>\n",
       "      <td>179.000</td>\n",
       "      <td>270.0</td>\n",
       "      <td>543.0</td>\n",
       "    </tr>\n",
       "    <tr>\n",
       "      <th>days_in_waiting_list</th>\n",
       "      <td>119390.0</td>\n",
       "      <td>2.321149</td>\n",
       "      <td>17.594721</td>\n",
       "      <td>0.00</td>\n",
       "      <td>0.00</td>\n",
       "      <td>0.000</td>\n",
       "      <td>0.0</td>\n",
       "      <td>391.0</td>\n",
       "    </tr>\n",
       "    <tr>\n",
       "      <th>adr</th>\n",
       "      <td>119390.0</td>\n",
       "      <td>101.831122</td>\n",
       "      <td>50.535790</td>\n",
       "      <td>-6.38</td>\n",
       "      <td>69.29</td>\n",
       "      <td>94.575</td>\n",
       "      <td>126.0</td>\n",
       "      <td>5400.0</td>\n",
       "    </tr>\n",
       "    <tr>\n",
       "      <th>required_car_parking_spaces</th>\n",
       "      <td>119390.0</td>\n",
       "      <td>0.062518</td>\n",
       "      <td>0.245291</td>\n",
       "      <td>0.00</td>\n",
       "      <td>0.00</td>\n",
       "      <td>0.000</td>\n",
       "      <td>0.0</td>\n",
       "      <td>8.0</td>\n",
       "    </tr>\n",
       "    <tr>\n",
       "      <th>total_of_special_requests</th>\n",
       "      <td>119390.0</td>\n",
       "      <td>0.571363</td>\n",
       "      <td>0.792798</td>\n",
       "      <td>0.00</td>\n",
       "      <td>0.00</td>\n",
       "      <td>0.000</td>\n",
       "      <td>1.0</td>\n",
       "      <td>5.0</td>\n",
       "    </tr>\n",
       "  </tbody>\n",
       "</table>\n",
       "</div>"
      ],
      "text/plain": [
       "                                   count         mean         std      min  \\\n",
       "is_canceled                     119390.0     0.370416    0.482918     0.00   \n",
       "lead_time                       119390.0   104.011416  106.863097     0.00   \n",
       "arrival_date_year               119390.0  2016.156554    0.707476  2015.00   \n",
       "arrival_date_week_number        119390.0    27.165173   13.605138     1.00   \n",
       "arrival_date_day_of_month       119390.0    15.798241    8.780829     1.00   \n",
       "stays_in_weekend_nights         119390.0     0.927599    0.998613     0.00   \n",
       "stays_in_week_nights            119390.0     2.500302    1.908286     0.00   \n",
       "adults                          119390.0     1.856403    0.579261     0.00   \n",
       "children                        119386.0     0.103890    0.398561     0.00   \n",
       "babies                          119390.0     0.007949    0.097436     0.00   \n",
       "is_repeated_guest               119390.0     0.031912    0.175767     0.00   \n",
       "previous_cancellations          119390.0     0.087118    0.844336     0.00   \n",
       "previous_bookings_not_canceled  119390.0     0.137097    1.497437     0.00   \n",
       "booking_changes                 119390.0     0.221124    0.652306     0.00   \n",
       "agent                           103050.0    86.693382  110.774548     1.00   \n",
       "company                           6797.0   189.266735  131.655015     6.00   \n",
       "days_in_waiting_list            119390.0     2.321149   17.594721     0.00   \n",
       "adr                             119390.0   101.831122   50.535790    -6.38   \n",
       "required_car_parking_spaces     119390.0     0.062518    0.245291     0.00   \n",
       "total_of_special_requests       119390.0     0.571363    0.792798     0.00   \n",
       "\n",
       "                                    25%       50%     75%     max  \n",
       "is_canceled                        0.00     0.000     1.0     1.0  \n",
       "lead_time                         18.00    69.000   160.0   737.0  \n",
       "arrival_date_year               2016.00  2016.000  2017.0  2017.0  \n",
       "arrival_date_week_number          16.00    28.000    38.0    53.0  \n",
       "arrival_date_day_of_month          8.00    16.000    23.0    31.0  \n",
       "stays_in_weekend_nights            0.00     1.000     2.0    19.0  \n",
       "stays_in_week_nights               1.00     2.000     3.0    50.0  \n",
       "adults                             2.00     2.000     2.0    55.0  \n",
       "children                           0.00     0.000     0.0    10.0  \n",
       "babies                             0.00     0.000     0.0    10.0  \n",
       "is_repeated_guest                  0.00     0.000     0.0     1.0  \n",
       "previous_cancellations             0.00     0.000     0.0    26.0  \n",
       "previous_bookings_not_canceled     0.00     0.000     0.0    72.0  \n",
       "booking_changes                    0.00     0.000     0.0    21.0  \n",
       "agent                              9.00    14.000   229.0   535.0  \n",
       "company                           62.00   179.000   270.0   543.0  \n",
       "days_in_waiting_list               0.00     0.000     0.0   391.0  \n",
       "adr                               69.29    94.575   126.0  5400.0  \n",
       "required_car_parking_spaces        0.00     0.000     0.0     8.0  \n",
       "total_of_special_requests          0.00     0.000     1.0     5.0  "
      ]
     },
     "execution_count": 8,
     "metadata": {},
     "output_type": "execute_result"
    }
   ],
   "source": [
    "data.describe().T"
   ]
  },
  {
   "cell_type": "code",
   "execution_count": 9,
   "id": "b02c56e4-5fef-4d82-8b72-607ea914f550",
   "metadata": {},
   "outputs": [],
   "source": [
    "# drop orders with options \"adults\" = 0 (or > quantile = 0.99) and some rows with miss values\n",
    "data = data[~((data.children.isna()) | (data.country.isna()))]\n",
    "data = data[data.adults>0]\n",
    "data = data[data.adults<data.adults.quantile(0.99)]"
   ]
  },
  {
   "cell_type": "markdown",
   "id": "b8ea07d1-49ed-497a-b1d1-3fd229e8966c",
   "metadata": {},
   "source": [
    "Who are the most common customers by each hotel"
   ]
  },
  {
   "cell_type": "code",
   "execution_count": 10,
   "id": "eba2e622-8f14-4112-9890-5005937d62e4",
   "metadata": {},
   "outputs": [
    {
     "data": {
      "text/html": [
       "<div>\n",
       "<style scoped>\n",
       "    .dataframe tbody tr th:only-of-type {\n",
       "        vertical-align: middle;\n",
       "    }\n",
       "\n",
       "    .dataframe tbody tr th {\n",
       "        vertical-align: top;\n",
       "    }\n",
       "\n",
       "    .dataframe thead th {\n",
       "        text-align: right;\n",
       "    }\n",
       "</style>\n",
       "<table border=\"1\" class=\"dataframe\">\n",
       "  <thead>\n",
       "    <tr style=\"text-align: right;\">\n",
       "      <th></th>\n",
       "      <th>Resort Hotel</th>\n",
       "      <th>City Hotel</th>\n",
       "    </tr>\n",
       "  </thead>\n",
       "  <tbody>\n",
       "    <tr>\n",
       "      <th>Robert Smith</th>\n",
       "      <td>20.0</td>\n",
       "      <td>-</td>\n",
       "    </tr>\n",
       "    <tr>\n",
       "      <th>John Smith</th>\n",
       "      <td>19.0</td>\n",
       "      <td>26.0</td>\n",
       "    </tr>\n",
       "    <tr>\n",
       "      <th>Christopher Smith</th>\n",
       "      <td>15.0</td>\n",
       "      <td>28.0</td>\n",
       "    </tr>\n",
       "    <tr>\n",
       "      <th>Michael Johnson</th>\n",
       "      <td>15.0</td>\n",
       "      <td>30.0</td>\n",
       "    </tr>\n",
       "    <tr>\n",
       "      <th>Jennifer Smith</th>\n",
       "      <td>13.0</td>\n",
       "      <td>-</td>\n",
       "    </tr>\n",
       "    <tr>\n",
       "      <th>Michael Smith</th>\n",
       "      <td>-</td>\n",
       "      <td>33.0</td>\n",
       "    </tr>\n",
       "    <tr>\n",
       "      <th>James Smith</th>\n",
       "      <td>-</td>\n",
       "      <td>30.0</td>\n",
       "    </tr>\n",
       "  </tbody>\n",
       "</table>\n",
       "</div>"
      ],
      "text/plain": [
       "                  Resort Hotel City Hotel\n",
       "Robert Smith              20.0          -\n",
       "John Smith                19.0       26.0\n",
       "Christopher Smith         15.0       28.0\n",
       "Michael Johnson           15.0       30.0\n",
       "Jennifer Smith            13.0          -\n",
       "Michael Smith                -       33.0\n",
       "James Smith                  -       30.0"
      ]
     },
     "execution_count": 10,
     "metadata": {},
     "output_type": "execute_result"
    }
   ],
   "source": [
    "pd.concat([data[data.hotel=='Resort Hotel'].name.value_counts().head(), \n",
    "           data[data.hotel=='City Hotel'].name.value_counts().head()], \n",
    "           axis=1, keys=(\"Resort Hotel\", \"City Hotel\")).fillna(\"-\")"
   ]
  },
  {
   "cell_type": "code",
   "execution_count": 11,
   "id": "5e70d801-e165-4ab4-af75-dfaa898f6e51",
   "metadata": {},
   "outputs": [],
   "source": [
    "# data22 = pd.DataFrame(data.groupby(['hotel', 'name']).size()).reset_index().sort_values(0, ascending=False)\n",
    "# data22"
   ]
  },
  {
   "cell_type": "markdown",
   "id": "9c79ba09-d18e-40c2-a7f6-12d3e9e3cdb1",
   "metadata": {},
   "source": [
    "What country is the most popular by each hotel"
   ]
  },
  {
   "cell_type": "code",
   "execution_count": 12,
   "id": "dcdd57cc-4893-4b3b-bb26-5eeb6e5872b0",
   "metadata": {},
   "outputs": [
    {
     "data": {
      "text/html": [
       "<div>\n",
       "<style scoped>\n",
       "    .dataframe tbody tr th:only-of-type {\n",
       "        vertical-align: middle;\n",
       "    }\n",
       "\n",
       "    .dataframe tbody tr th {\n",
       "        vertical-align: top;\n",
       "    }\n",
       "\n",
       "    .dataframe thead th {\n",
       "        text-align: right;\n",
       "    }\n",
       "</style>\n",
       "<table border=\"1\" class=\"dataframe\">\n",
       "  <thead>\n",
       "    <tr style=\"text-align: right;\">\n",
       "      <th></th>\n",
       "      <th>Resort Hotel</th>\n",
       "      <th>City Hotel</th>\n",
       "    </tr>\n",
       "  </thead>\n",
       "  <tbody>\n",
       "    <tr>\n",
       "      <th>PRT</th>\n",
       "      <td>16968.0</td>\n",
       "      <td>30158.0</td>\n",
       "    </tr>\n",
       "    <tr>\n",
       "      <th>GBR</th>\n",
       "      <td>6571.0</td>\n",
       "      <td>4883.0</td>\n",
       "    </tr>\n",
       "    <tr>\n",
       "      <th>ESP</th>\n",
       "      <td>3790.0</td>\n",
       "      <td>4125.0</td>\n",
       "    </tr>\n",
       "    <tr>\n",
       "      <th>IRL</th>\n",
       "      <td>2088.0</td>\n",
       "      <td>-</td>\n",
       "    </tr>\n",
       "    <tr>\n",
       "      <th>FRA</th>\n",
       "      <td>1564.0</td>\n",
       "      <td>8049.0</td>\n",
       "    </tr>\n",
       "    <tr>\n",
       "      <th>DEU</th>\n",
       "      <td>-</td>\n",
       "      <td>5670.0</td>\n",
       "    </tr>\n",
       "  </tbody>\n",
       "</table>\n",
       "</div>"
      ],
      "text/plain": [
       "    Resort Hotel City Hotel\n",
       "PRT      16968.0    30158.0\n",
       "GBR       6571.0     4883.0\n",
       "ESP       3790.0     4125.0\n",
       "IRL       2088.0          -\n",
       "FRA       1564.0     8049.0\n",
       "DEU            -     5670.0"
      ]
     },
     "execution_count": 12,
     "metadata": {},
     "output_type": "execute_result"
    }
   ],
   "source": [
    "pd.concat([data[data.hotel=='Resort Hotel'].country.value_counts().head(), \n",
    "           data[data.hotel=='City Hotel'].country.value_counts().head()], \n",
    "           axis=1, keys=(\"Resort Hotel\", \"City Hotel\")).fillna(\"-\")"
   ]
  },
  {
   "cell_type": "code",
   "execution_count": 13,
   "id": "fafbdd7c-1bc7-45f8-b810-2a46c61a594a",
   "metadata": {},
   "outputs": [],
   "source": [
    "# add column babies to children\n",
    "data[\"children\"] = data.babies + data.children"
   ]
  },
  {
   "cell_type": "code",
   "execution_count": 14,
   "id": "ec980559-d193-45ce-a594-55ec8a5db511",
   "metadata": {},
   "outputs": [],
   "source": [
    "# drop excess data\n",
    "data.drop([\"company\", \"name\", \"email\", \"phone-number\", \"agent\", \"credit_card\", \n",
    "           \"distribution_channel\", \"babies\", \"assigned_room_type\", \"reservation_status\", \"reservation_status_date\"], \n",
    "          axis=1, inplace=True)"
   ]
  },
  {
   "cell_type": "code",
   "execution_count": 15,
   "id": "fac102eb-a2ff-4ad9-8bde-09ae0282a724",
   "metadata": {},
   "outputs": [
    {
     "data": {
      "text/html": [
       "<style  type=\"text/css\" >\n",
       "    #T_4e16d_ .row2 {\n",
       "          background-color: lavender;\n",
       "    }    #T_4e16d_ .row3 {\n",
       "          background-color: lavender;\n",
       "    }    #T_4e16d_ .row4 {\n",
       "          background-color: lavender;\n",
       "    }</style><table id=\"T_4e16d_\" ><thead>    <tr>        <th class=\"blank level0\" ></th>        <th class=\"col_heading level0 col0\" >hotel</th>        <th class=\"col_heading level0 col1\" >is_canceled</th>        <th class=\"col_heading level0 col2\" >lead_time</th>        <th class=\"col_heading level0 col3\" >arrival_date_year</th>        <th class=\"col_heading level0 col4\" >arrival_date_month</th>        <th class=\"col_heading level0 col5\" >arrival_date_week_number</th>        <th class=\"col_heading level0 col6\" >arrival_date_day_of_month</th>        <th class=\"col_heading level0 col7\" >stays_in_weekend_nights</th>        <th class=\"col_heading level0 col8\" >stays_in_week_nights</th>        <th class=\"col_heading level0 col9\" >adults</th>        <th class=\"col_heading level0 col10\" >children</th>        <th class=\"col_heading level0 col11\" >meal</th>        <th class=\"col_heading level0 col12\" >country</th>        <th class=\"col_heading level0 col13\" >market_segment</th>        <th class=\"col_heading level0 col14\" >is_repeated_guest</th>        <th class=\"col_heading level0 col15\" >previous_cancellations</th>        <th class=\"col_heading level0 col16\" >previous_bookings_not_canceled</th>        <th class=\"col_heading level0 col17\" >reserved_room_type</th>        <th class=\"col_heading level0 col18\" >booking_changes</th>        <th class=\"col_heading level0 col19\" >deposit_type</th>        <th class=\"col_heading level0 col20\" >days_in_waiting_list</th>        <th class=\"col_heading level0 col21\" >customer_type</th>        <th class=\"col_heading level0 col22\" >adr</th>        <th class=\"col_heading level0 col23\" >required_car_parking_spaces</th>        <th class=\"col_heading level0 col24\" >total_of_special_requests</th>    </tr></thead><tbody>\n",
       "                <tr>\n",
       "                        <th id=\"T_4e16d_level0_row0\" class=\"row_heading level0 row0\" >unique_value_1</th>\n",
       "                        <td id=\"T_4e16d_row0_col0\" class=\"data row0 col0\" >City Hotel</td>\n",
       "                        <td id=\"T_4e16d_row0_col1\" class=\"data row0 col1\" >0</td>\n",
       "                        <td id=\"T_4e16d_row0_col2\" class=\"data row0 col2\" >0</td>\n",
       "                        <td id=\"T_4e16d_row0_col3\" class=\"data row0 col3\" >2016</td>\n",
       "                        <td id=\"T_4e16d_row0_col4\" class=\"data row0 col4\" >August</td>\n",
       "                        <td id=\"T_4e16d_row0_col5\" class=\"data row0 col5\" >33</td>\n",
       "                        <td id=\"T_4e16d_row0_col6\" class=\"data row0 col6\" >17</td>\n",
       "                        <td id=\"T_4e16d_row0_col7\" class=\"data row0 col7\" >0</td>\n",
       "                        <td id=\"T_4e16d_row0_col8\" class=\"data row0 col8\" >2</td>\n",
       "                        <td id=\"T_4e16d_row0_col9\" class=\"data row0 col9\" >2</td>\n",
       "                        <td id=\"T_4e16d_row0_col10\" class=\"data row0 col10\" >0.000000</td>\n",
       "                        <td id=\"T_4e16d_row0_col11\" class=\"data row0 col11\" >BB</td>\n",
       "                        <td id=\"T_4e16d_row0_col12\" class=\"data row0 col12\" >PRT</td>\n",
       "                        <td id=\"T_4e16d_row0_col13\" class=\"data row0 col13\" >Online TA</td>\n",
       "                        <td id=\"T_4e16d_row0_col14\" class=\"data row0 col14\" >0</td>\n",
       "                        <td id=\"T_4e16d_row0_col15\" class=\"data row0 col15\" >0</td>\n",
       "                        <td id=\"T_4e16d_row0_col16\" class=\"data row0 col16\" >0</td>\n",
       "                        <td id=\"T_4e16d_row0_col17\" class=\"data row0 col17\" >A</td>\n",
       "                        <td id=\"T_4e16d_row0_col18\" class=\"data row0 col18\" >0</td>\n",
       "                        <td id=\"T_4e16d_row0_col19\" class=\"data row0 col19\" >No Deposit</td>\n",
       "                        <td id=\"T_4e16d_row0_col20\" class=\"data row0 col20\" >0</td>\n",
       "                        <td id=\"T_4e16d_row0_col21\" class=\"data row0 col21\" >Transient</td>\n",
       "                        <td id=\"T_4e16d_row0_col22\" class=\"data row0 col22\" >62.000000</td>\n",
       "                        <td id=\"T_4e16d_row0_col23\" class=\"data row0 col23\" >0</td>\n",
       "                        <td id=\"T_4e16d_row0_col24\" class=\"data row0 col24\" >0</td>\n",
       "            </tr>\n",
       "            <tr>\n",
       "                        <th id=\"T_4e16d_level0_row1\" class=\"row_heading level0 row1\" >unique_value_2</th>\n",
       "                        <td id=\"T_4e16d_row1_col0\" class=\"data row1 col0\" >Resort Hotel</td>\n",
       "                        <td id=\"T_4e16d_row1_col1\" class=\"data row1 col1\" >1</td>\n",
       "                        <td id=\"T_4e16d_row1_col2\" class=\"data row1 col2\" >1</td>\n",
       "                        <td id=\"T_4e16d_row1_col3\" class=\"data row1 col3\" >2017</td>\n",
       "                        <td id=\"T_4e16d_row1_col4\" class=\"data row1 col4\" >July</td>\n",
       "                        <td id=\"T_4e16d_row1_col5\" class=\"data row1 col5\" >18</td>\n",
       "                        <td id=\"T_4e16d_row1_col6\" class=\"data row1 col6\" >5</td>\n",
       "                        <td id=\"T_4e16d_row1_col7\" class=\"data row1 col7\" >2</td>\n",
       "                        <td id=\"T_4e16d_row1_col8\" class=\"data row1 col8\" >1</td>\n",
       "                        <td id=\"T_4e16d_row1_col9\" class=\"data row1 col9\" >1</td>\n",
       "                        <td id=\"T_4e16d_row1_col10\" class=\"data row1 col10\" >1.000000</td>\n",
       "                        <td id=\"T_4e16d_row1_col11\" class=\"data row1 col11\" >HB</td>\n",
       "                        <td id=\"T_4e16d_row1_col12\" class=\"data row1 col12\" >GBR</td>\n",
       "                        <td id=\"T_4e16d_row1_col13\" class=\"data row1 col13\" >Offline TA/TO</td>\n",
       "                        <td id=\"T_4e16d_row1_col14\" class=\"data row1 col14\" >1</td>\n",
       "                        <td id=\"T_4e16d_row1_col15\" class=\"data row1 col15\" >1</td>\n",
       "                        <td id=\"T_4e16d_row1_col16\" class=\"data row1 col16\" >1</td>\n",
       "                        <td id=\"T_4e16d_row1_col17\" class=\"data row1 col17\" >D</td>\n",
       "                        <td id=\"T_4e16d_row1_col18\" class=\"data row1 col18\" >1</td>\n",
       "                        <td id=\"T_4e16d_row1_col19\" class=\"data row1 col19\" >Non Refund</td>\n",
       "                        <td id=\"T_4e16d_row1_col20\" class=\"data row1 col20\" >39</td>\n",
       "                        <td id=\"T_4e16d_row1_col21\" class=\"data row1 col21\" >Transient-Party</td>\n",
       "                        <td id=\"T_4e16d_row1_col22\" class=\"data row1 col22\" >75.000000</td>\n",
       "                        <td id=\"T_4e16d_row1_col23\" class=\"data row1 col23\" >1</td>\n",
       "                        <td id=\"T_4e16d_row1_col24\" class=\"data row1 col24\" >1</td>\n",
       "            </tr>\n",
       "            <tr>\n",
       "                        <th id=\"T_4e16d_level0_row2\" class=\"row_heading level0 row2\" >type</th>\n",
       "                        <td id=\"T_4e16d_row2_col0\" class=\"data row2 col0\" >object</td>\n",
       "                        <td id=\"T_4e16d_row2_col1\" class=\"data row2 col1\" >int64</td>\n",
       "                        <td id=\"T_4e16d_row2_col2\" class=\"data row2 col2\" >int64</td>\n",
       "                        <td id=\"T_4e16d_row2_col3\" class=\"data row2 col3\" >int64</td>\n",
       "                        <td id=\"T_4e16d_row2_col4\" class=\"data row2 col4\" >object</td>\n",
       "                        <td id=\"T_4e16d_row2_col5\" class=\"data row2 col5\" >int64</td>\n",
       "                        <td id=\"T_4e16d_row2_col6\" class=\"data row2 col6\" >int64</td>\n",
       "                        <td id=\"T_4e16d_row2_col7\" class=\"data row2 col7\" >int64</td>\n",
       "                        <td id=\"T_4e16d_row2_col8\" class=\"data row2 col8\" >int64</td>\n",
       "                        <td id=\"T_4e16d_row2_col9\" class=\"data row2 col9\" >int64</td>\n",
       "                        <td id=\"T_4e16d_row2_col10\" class=\"data row2 col10\" >float64</td>\n",
       "                        <td id=\"T_4e16d_row2_col11\" class=\"data row2 col11\" >object</td>\n",
       "                        <td id=\"T_4e16d_row2_col12\" class=\"data row2 col12\" >object</td>\n",
       "                        <td id=\"T_4e16d_row2_col13\" class=\"data row2 col13\" >object</td>\n",
       "                        <td id=\"T_4e16d_row2_col14\" class=\"data row2 col14\" >int64</td>\n",
       "                        <td id=\"T_4e16d_row2_col15\" class=\"data row2 col15\" >int64</td>\n",
       "                        <td id=\"T_4e16d_row2_col16\" class=\"data row2 col16\" >int64</td>\n",
       "                        <td id=\"T_4e16d_row2_col17\" class=\"data row2 col17\" >object</td>\n",
       "                        <td id=\"T_4e16d_row2_col18\" class=\"data row2 col18\" >int64</td>\n",
       "                        <td id=\"T_4e16d_row2_col19\" class=\"data row2 col19\" >object</td>\n",
       "                        <td id=\"T_4e16d_row2_col20\" class=\"data row2 col20\" >int64</td>\n",
       "                        <td id=\"T_4e16d_row2_col21\" class=\"data row2 col21\" >object</td>\n",
       "                        <td id=\"T_4e16d_row2_col22\" class=\"data row2 col22\" >float64</td>\n",
       "                        <td id=\"T_4e16d_row2_col23\" class=\"data row2 col23\" >int64</td>\n",
       "                        <td id=\"T_4e16d_row2_col24\" class=\"data row2 col24\" >int64</td>\n",
       "            </tr>\n",
       "            <tr>\n",
       "                        <th id=\"T_4e16d_level0_row3\" class=\"row_heading level0 row3\" >num_unique</th>\n",
       "                        <td id=\"T_4e16d_row3_col0\" class=\"data row3 col0\" >2</td>\n",
       "                        <td id=\"T_4e16d_row3_col1\" class=\"data row3 col1\" >2</td>\n",
       "                        <td id=\"T_4e16d_row3_col2\" class=\"data row3 col2\" >479</td>\n",
       "                        <td id=\"T_4e16d_row3_col3\" class=\"data row3 col3\" >3</td>\n",
       "                        <td id=\"T_4e16d_row3_col4\" class=\"data row3 col4\" >12</td>\n",
       "                        <td id=\"T_4e16d_row3_col5\" class=\"data row3 col5\" >53</td>\n",
       "                        <td id=\"T_4e16d_row3_col6\" class=\"data row3 col6\" >31</td>\n",
       "                        <td id=\"T_4e16d_row3_col7\" class=\"data row3 col7\" >15</td>\n",
       "                        <td id=\"T_4e16d_row3_col8\" class=\"data row3 col8\" >31</td>\n",
       "                        <td id=\"T_4e16d_row3_col9\" class=\"data row3 col9\" >2</td>\n",
       "                        <td id=\"T_4e16d_row3_col10\" class=\"data row3 col10\" >6</td>\n",
       "                        <td id=\"T_4e16d_row3_col11\" class=\"data row3 col11\" >5</td>\n",
       "                        <td id=\"T_4e16d_row3_col12\" class=\"data row3 col12\" >175</td>\n",
       "                        <td id=\"T_4e16d_row3_col13\" class=\"data row3 col13\" >7</td>\n",
       "                        <td id=\"T_4e16d_row3_col14\" class=\"data row3 col14\" >2</td>\n",
       "                        <td id=\"T_4e16d_row3_col15\" class=\"data row3 col15\" >15</td>\n",
       "                        <td id=\"T_4e16d_row3_col16\" class=\"data row3 col16\" >73</td>\n",
       "                        <td id=\"T_4e16d_row3_col17\" class=\"data row3 col17\" >9</td>\n",
       "                        <td id=\"T_4e16d_row3_col18\" class=\"data row3 col18\" >19</td>\n",
       "                        <td id=\"T_4e16d_row3_col19\" class=\"data row3 col19\" >3</td>\n",
       "                        <td id=\"T_4e16d_row3_col20\" class=\"data row3 col20\" >127</td>\n",
       "                        <td id=\"T_4e16d_row3_col21\" class=\"data row3 col21\" >4</td>\n",
       "                        <td id=\"T_4e16d_row3_col22\" class=\"data row3 col22\" >8212</td>\n",
       "                        <td id=\"T_4e16d_row3_col23\" class=\"data row3 col23\" >5</td>\n",
       "                        <td id=\"T_4e16d_row3_col24\" class=\"data row3 col24\" >6</td>\n",
       "            </tr>\n",
       "            <tr>\n",
       "                        <th id=\"T_4e16d_level0_row4\" class=\"row_heading level0 row4\" >is_na</th>\n",
       "                        <td id=\"T_4e16d_row4_col0\" class=\"data row4 col0\" >0</td>\n",
       "                        <td id=\"T_4e16d_row4_col1\" class=\"data row4 col1\" >0</td>\n",
       "                        <td id=\"T_4e16d_row4_col2\" class=\"data row4 col2\" >0</td>\n",
       "                        <td id=\"T_4e16d_row4_col3\" class=\"data row4 col3\" >0</td>\n",
       "                        <td id=\"T_4e16d_row4_col4\" class=\"data row4 col4\" >0</td>\n",
       "                        <td id=\"T_4e16d_row4_col5\" class=\"data row4 col5\" >0</td>\n",
       "                        <td id=\"T_4e16d_row4_col6\" class=\"data row4 col6\" >0</td>\n",
       "                        <td id=\"T_4e16d_row4_col7\" class=\"data row4 col7\" >0</td>\n",
       "                        <td id=\"T_4e16d_row4_col8\" class=\"data row4 col8\" >0</td>\n",
       "                        <td id=\"T_4e16d_row4_col9\" class=\"data row4 col9\" >0</td>\n",
       "                        <td id=\"T_4e16d_row4_col10\" class=\"data row4 col10\" >0</td>\n",
       "                        <td id=\"T_4e16d_row4_col11\" class=\"data row4 col11\" >0</td>\n",
       "                        <td id=\"T_4e16d_row4_col12\" class=\"data row4 col12\" >0</td>\n",
       "                        <td id=\"T_4e16d_row4_col13\" class=\"data row4 col13\" >0</td>\n",
       "                        <td id=\"T_4e16d_row4_col14\" class=\"data row4 col14\" >0</td>\n",
       "                        <td id=\"T_4e16d_row4_col15\" class=\"data row4 col15\" >0</td>\n",
       "                        <td id=\"T_4e16d_row4_col16\" class=\"data row4 col16\" >0</td>\n",
       "                        <td id=\"T_4e16d_row4_col17\" class=\"data row4 col17\" >0</td>\n",
       "                        <td id=\"T_4e16d_row4_col18\" class=\"data row4 col18\" >0</td>\n",
       "                        <td id=\"T_4e16d_row4_col19\" class=\"data row4 col19\" >0</td>\n",
       "                        <td id=\"T_4e16d_row4_col20\" class=\"data row4 col20\" >0</td>\n",
       "                        <td id=\"T_4e16d_row4_col21\" class=\"data row4 col21\" >0</td>\n",
       "                        <td id=\"T_4e16d_row4_col22\" class=\"data row4 col22\" >0</td>\n",
       "                        <td id=\"T_4e16d_row4_col23\" class=\"data row4 col23\" >0</td>\n",
       "                        <td id=\"T_4e16d_row4_col24\" class=\"data row4 col24\" >0</td>\n",
       "            </tr>\n",
       "    </tbody></table>"
      ],
      "text/plain": [
       "<pandas.io.formats.style.Styler at 0x19eecd19ac0>"
      ]
     },
     "execution_count": 15,
     "metadata": {},
     "output_type": "execute_result"
    }
   ],
   "source": [
    "data_info(data, True)"
   ]
  },
  {
   "cell_type": "code",
   "execution_count": 16,
   "id": "3a88bbfc-5468-46c0-9243-2b798038fcb6",
   "metadata": {},
   "outputs": [],
   "source": [
    "#  change data types\n",
    "cat_data = [\"hotel\", \"is_canceled\", \"arrival_date_month\", \"meal\", \"market_segment\", \n",
    "      \"is_repeated_guest\", \"reserved_room_type\", \"country\", \n",
    "      \"deposit_type\", \"customer_type\"]\n",
    "int_data = [\"children\", \"adr\"]\n",
    "\n",
    "# data[cat_data] = data[cat_data].astype(\"category\")\n",
    "data[int_data] = data[int_data].astype(\"int\")"
   ]
  },
  {
   "cell_type": "markdown",
   "id": "a91e96a7-33d4-416d-9e9a-08cea7e2dde5",
   "metadata": {},
   "source": [
    "Check DF size after transformations (32.8 Mb before)"
   ]
  },
  {
   "cell_type": "code",
   "execution_count": 17,
   "id": "e743cd75-7167-4b45-a01a-62e21df8df4f",
   "metadata": {},
   "outputs": [
    {
     "name": "stdout",
     "output_type": "stream",
     "text": [
      "| 112230 rows, 25 columns \n",
      "| 2805750 elements summary \n",
      "| 21.4 Mb\n"
     ]
    }
   ],
   "source": [
    "size_of_df(data)"
   ]
  },
  {
   "cell_type": "code",
   "execution_count": 18,
   "id": "1b2cb543-4796-49fc-b215-a720d003e2d5",
   "metadata": {},
   "outputs": [
    {
     "data": {
      "text/html": [
       "<style  type=\"text/css\" >\n",
       "    #T_390be_ .row2 {\n",
       "          background-color: lavender;\n",
       "    }    #T_390be_ .row3 {\n",
       "          background-color: lavender;\n",
       "    }    #T_390be_ .row4 {\n",
       "          background-color: lavender;\n",
       "    }</style><table id=\"T_390be_\" ><thead>    <tr>        <th class=\"blank level0\" ></th>        <th class=\"col_heading level0 col0\" >hotel</th>        <th class=\"col_heading level0 col1\" >is_canceled</th>        <th class=\"col_heading level0 col2\" >lead_time</th>        <th class=\"col_heading level0 col3\" >arrival_date_year</th>        <th class=\"col_heading level0 col4\" >arrival_date_month</th>        <th class=\"col_heading level0 col5\" >arrival_date_week_number</th>        <th class=\"col_heading level0 col6\" >arrival_date_day_of_month</th>        <th class=\"col_heading level0 col7\" >stays_in_weekend_nights</th>        <th class=\"col_heading level0 col8\" >stays_in_week_nights</th>        <th class=\"col_heading level0 col9\" >adults</th>        <th class=\"col_heading level0 col10\" >children</th>        <th class=\"col_heading level0 col11\" >meal</th>        <th class=\"col_heading level0 col12\" >country</th>        <th class=\"col_heading level0 col13\" >market_segment</th>        <th class=\"col_heading level0 col14\" >is_repeated_guest</th>        <th class=\"col_heading level0 col15\" >previous_cancellations</th>        <th class=\"col_heading level0 col16\" >previous_bookings_not_canceled</th>        <th class=\"col_heading level0 col17\" >reserved_room_type</th>        <th class=\"col_heading level0 col18\" >booking_changes</th>        <th class=\"col_heading level0 col19\" >deposit_type</th>        <th class=\"col_heading level0 col20\" >days_in_waiting_list</th>        <th class=\"col_heading level0 col21\" >customer_type</th>        <th class=\"col_heading level0 col22\" >adr</th>        <th class=\"col_heading level0 col23\" >required_car_parking_spaces</th>        <th class=\"col_heading level0 col24\" >total_of_special_requests</th>    </tr></thead><tbody>\n",
       "                <tr>\n",
       "                        <th id=\"T_390be_level0_row0\" class=\"row_heading level0 row0\" >unique_value_1</th>\n",
       "                        <td id=\"T_390be_row0_col0\" class=\"data row0 col0\" >City Hotel</td>\n",
       "                        <td id=\"T_390be_row0_col1\" class=\"data row0 col1\" >0</td>\n",
       "                        <td id=\"T_390be_row0_col2\" class=\"data row0 col2\" >0</td>\n",
       "                        <td id=\"T_390be_row0_col3\" class=\"data row0 col3\" >2016</td>\n",
       "                        <td id=\"T_390be_row0_col4\" class=\"data row0 col4\" >August</td>\n",
       "                        <td id=\"T_390be_row0_col5\" class=\"data row0 col5\" >33</td>\n",
       "                        <td id=\"T_390be_row0_col6\" class=\"data row0 col6\" >17</td>\n",
       "                        <td id=\"T_390be_row0_col7\" class=\"data row0 col7\" >0</td>\n",
       "                        <td id=\"T_390be_row0_col8\" class=\"data row0 col8\" >2</td>\n",
       "                        <td id=\"T_390be_row0_col9\" class=\"data row0 col9\" >2</td>\n",
       "                        <td id=\"T_390be_row0_col10\" class=\"data row0 col10\" >0</td>\n",
       "                        <td id=\"T_390be_row0_col11\" class=\"data row0 col11\" >BB</td>\n",
       "                        <td id=\"T_390be_row0_col12\" class=\"data row0 col12\" >PRT</td>\n",
       "                        <td id=\"T_390be_row0_col13\" class=\"data row0 col13\" >Online TA</td>\n",
       "                        <td id=\"T_390be_row0_col14\" class=\"data row0 col14\" >0</td>\n",
       "                        <td id=\"T_390be_row0_col15\" class=\"data row0 col15\" >0</td>\n",
       "                        <td id=\"T_390be_row0_col16\" class=\"data row0 col16\" >0</td>\n",
       "                        <td id=\"T_390be_row0_col17\" class=\"data row0 col17\" >A</td>\n",
       "                        <td id=\"T_390be_row0_col18\" class=\"data row0 col18\" >0</td>\n",
       "                        <td id=\"T_390be_row0_col19\" class=\"data row0 col19\" >No Deposit</td>\n",
       "                        <td id=\"T_390be_row0_col20\" class=\"data row0 col20\" >0</td>\n",
       "                        <td id=\"T_390be_row0_col21\" class=\"data row0 col21\" >Transient</td>\n",
       "                        <td id=\"T_390be_row0_col22\" class=\"data row0 col22\" >62</td>\n",
       "                        <td id=\"T_390be_row0_col23\" class=\"data row0 col23\" >0</td>\n",
       "                        <td id=\"T_390be_row0_col24\" class=\"data row0 col24\" >0</td>\n",
       "            </tr>\n",
       "            <tr>\n",
       "                        <th id=\"T_390be_level0_row1\" class=\"row_heading level0 row1\" >unique_value_2</th>\n",
       "                        <td id=\"T_390be_row1_col0\" class=\"data row1 col0\" >Resort Hotel</td>\n",
       "                        <td id=\"T_390be_row1_col1\" class=\"data row1 col1\" >1</td>\n",
       "                        <td id=\"T_390be_row1_col2\" class=\"data row1 col2\" >1</td>\n",
       "                        <td id=\"T_390be_row1_col3\" class=\"data row1 col3\" >2017</td>\n",
       "                        <td id=\"T_390be_row1_col4\" class=\"data row1 col4\" >July</td>\n",
       "                        <td id=\"T_390be_row1_col5\" class=\"data row1 col5\" >18</td>\n",
       "                        <td id=\"T_390be_row1_col6\" class=\"data row1 col6\" >5</td>\n",
       "                        <td id=\"T_390be_row1_col7\" class=\"data row1 col7\" >2</td>\n",
       "                        <td id=\"T_390be_row1_col8\" class=\"data row1 col8\" >1</td>\n",
       "                        <td id=\"T_390be_row1_col9\" class=\"data row1 col9\" >1</td>\n",
       "                        <td id=\"T_390be_row1_col10\" class=\"data row1 col10\" >1</td>\n",
       "                        <td id=\"T_390be_row1_col11\" class=\"data row1 col11\" >HB</td>\n",
       "                        <td id=\"T_390be_row1_col12\" class=\"data row1 col12\" >GBR</td>\n",
       "                        <td id=\"T_390be_row1_col13\" class=\"data row1 col13\" >Offline TA/TO</td>\n",
       "                        <td id=\"T_390be_row1_col14\" class=\"data row1 col14\" >1</td>\n",
       "                        <td id=\"T_390be_row1_col15\" class=\"data row1 col15\" >1</td>\n",
       "                        <td id=\"T_390be_row1_col16\" class=\"data row1 col16\" >1</td>\n",
       "                        <td id=\"T_390be_row1_col17\" class=\"data row1 col17\" >D</td>\n",
       "                        <td id=\"T_390be_row1_col18\" class=\"data row1 col18\" >1</td>\n",
       "                        <td id=\"T_390be_row1_col19\" class=\"data row1 col19\" >Non Refund</td>\n",
       "                        <td id=\"T_390be_row1_col20\" class=\"data row1 col20\" >39</td>\n",
       "                        <td id=\"T_390be_row1_col21\" class=\"data row1 col21\" >Transient-Party</td>\n",
       "                        <td id=\"T_390be_row1_col22\" class=\"data row1 col22\" >90</td>\n",
       "                        <td id=\"T_390be_row1_col23\" class=\"data row1 col23\" >1</td>\n",
       "                        <td id=\"T_390be_row1_col24\" class=\"data row1 col24\" >1</td>\n",
       "            </tr>\n",
       "            <tr>\n",
       "                        <th id=\"T_390be_level0_row2\" class=\"row_heading level0 row2\" >type</th>\n",
       "                        <td id=\"T_390be_row2_col0\" class=\"data row2 col0\" >object</td>\n",
       "                        <td id=\"T_390be_row2_col1\" class=\"data row2 col1\" >int64</td>\n",
       "                        <td id=\"T_390be_row2_col2\" class=\"data row2 col2\" >int64</td>\n",
       "                        <td id=\"T_390be_row2_col3\" class=\"data row2 col3\" >int64</td>\n",
       "                        <td id=\"T_390be_row2_col4\" class=\"data row2 col4\" >object</td>\n",
       "                        <td id=\"T_390be_row2_col5\" class=\"data row2 col5\" >int64</td>\n",
       "                        <td id=\"T_390be_row2_col6\" class=\"data row2 col6\" >int64</td>\n",
       "                        <td id=\"T_390be_row2_col7\" class=\"data row2 col7\" >int64</td>\n",
       "                        <td id=\"T_390be_row2_col8\" class=\"data row2 col8\" >int64</td>\n",
       "                        <td id=\"T_390be_row2_col9\" class=\"data row2 col9\" >int64</td>\n",
       "                        <td id=\"T_390be_row2_col10\" class=\"data row2 col10\" >int32</td>\n",
       "                        <td id=\"T_390be_row2_col11\" class=\"data row2 col11\" >object</td>\n",
       "                        <td id=\"T_390be_row2_col12\" class=\"data row2 col12\" >object</td>\n",
       "                        <td id=\"T_390be_row2_col13\" class=\"data row2 col13\" >object</td>\n",
       "                        <td id=\"T_390be_row2_col14\" class=\"data row2 col14\" >int64</td>\n",
       "                        <td id=\"T_390be_row2_col15\" class=\"data row2 col15\" >int64</td>\n",
       "                        <td id=\"T_390be_row2_col16\" class=\"data row2 col16\" >int64</td>\n",
       "                        <td id=\"T_390be_row2_col17\" class=\"data row2 col17\" >object</td>\n",
       "                        <td id=\"T_390be_row2_col18\" class=\"data row2 col18\" >int64</td>\n",
       "                        <td id=\"T_390be_row2_col19\" class=\"data row2 col19\" >object</td>\n",
       "                        <td id=\"T_390be_row2_col20\" class=\"data row2 col20\" >int64</td>\n",
       "                        <td id=\"T_390be_row2_col21\" class=\"data row2 col21\" >object</td>\n",
       "                        <td id=\"T_390be_row2_col22\" class=\"data row2 col22\" >int32</td>\n",
       "                        <td id=\"T_390be_row2_col23\" class=\"data row2 col23\" >int64</td>\n",
       "                        <td id=\"T_390be_row2_col24\" class=\"data row2 col24\" >int64</td>\n",
       "            </tr>\n",
       "            <tr>\n",
       "                        <th id=\"T_390be_level0_row3\" class=\"row_heading level0 row3\" >num_unique</th>\n",
       "                        <td id=\"T_390be_row3_col0\" class=\"data row3 col0\" >2</td>\n",
       "                        <td id=\"T_390be_row3_col1\" class=\"data row3 col1\" >2</td>\n",
       "                        <td id=\"T_390be_row3_col2\" class=\"data row3 col2\" >479</td>\n",
       "                        <td id=\"T_390be_row3_col3\" class=\"data row3 col3\" >3</td>\n",
       "                        <td id=\"T_390be_row3_col4\" class=\"data row3 col4\" >12</td>\n",
       "                        <td id=\"T_390be_row3_col5\" class=\"data row3 col5\" >53</td>\n",
       "                        <td id=\"T_390be_row3_col6\" class=\"data row3 col6\" >31</td>\n",
       "                        <td id=\"T_390be_row3_col7\" class=\"data row3 col7\" >15</td>\n",
       "                        <td id=\"T_390be_row3_col8\" class=\"data row3 col8\" >31</td>\n",
       "                        <td id=\"T_390be_row3_col9\" class=\"data row3 col9\" >2</td>\n",
       "                        <td id=\"T_390be_row3_col10\" class=\"data row3 col10\" >6</td>\n",
       "                        <td id=\"T_390be_row3_col11\" class=\"data row3 col11\" >5</td>\n",
       "                        <td id=\"T_390be_row3_col12\" class=\"data row3 col12\" >175</td>\n",
       "                        <td id=\"T_390be_row3_col13\" class=\"data row3 col13\" >7</td>\n",
       "                        <td id=\"T_390be_row3_col14\" class=\"data row3 col14\" >2</td>\n",
       "                        <td id=\"T_390be_row3_col15\" class=\"data row3 col15\" >15</td>\n",
       "                        <td id=\"T_390be_row3_col16\" class=\"data row3 col16\" >73</td>\n",
       "                        <td id=\"T_390be_row3_col17\" class=\"data row3 col17\" >9</td>\n",
       "                        <td id=\"T_390be_row3_col18\" class=\"data row3 col18\" >19</td>\n",
       "                        <td id=\"T_390be_row3_col19\" class=\"data row3 col19\" >3</td>\n",
       "                        <td id=\"T_390be_row3_col20\" class=\"data row3 col20\" >127</td>\n",
       "                        <td id=\"T_390be_row3_col21\" class=\"data row3 col21\" >4</td>\n",
       "                        <td id=\"T_390be_row3_col22\" class=\"data row3 col22\" >368</td>\n",
       "                        <td id=\"T_390be_row3_col23\" class=\"data row3 col23\" >5</td>\n",
       "                        <td id=\"T_390be_row3_col24\" class=\"data row3 col24\" >6</td>\n",
       "            </tr>\n",
       "            <tr>\n",
       "                        <th id=\"T_390be_level0_row4\" class=\"row_heading level0 row4\" >is_na</th>\n",
       "                        <td id=\"T_390be_row4_col0\" class=\"data row4 col0\" >0</td>\n",
       "                        <td id=\"T_390be_row4_col1\" class=\"data row4 col1\" >0</td>\n",
       "                        <td id=\"T_390be_row4_col2\" class=\"data row4 col2\" >0</td>\n",
       "                        <td id=\"T_390be_row4_col3\" class=\"data row4 col3\" >0</td>\n",
       "                        <td id=\"T_390be_row4_col4\" class=\"data row4 col4\" >0</td>\n",
       "                        <td id=\"T_390be_row4_col5\" class=\"data row4 col5\" >0</td>\n",
       "                        <td id=\"T_390be_row4_col6\" class=\"data row4 col6\" >0</td>\n",
       "                        <td id=\"T_390be_row4_col7\" class=\"data row4 col7\" >0</td>\n",
       "                        <td id=\"T_390be_row4_col8\" class=\"data row4 col8\" >0</td>\n",
       "                        <td id=\"T_390be_row4_col9\" class=\"data row4 col9\" >0</td>\n",
       "                        <td id=\"T_390be_row4_col10\" class=\"data row4 col10\" >0</td>\n",
       "                        <td id=\"T_390be_row4_col11\" class=\"data row4 col11\" >0</td>\n",
       "                        <td id=\"T_390be_row4_col12\" class=\"data row4 col12\" >0</td>\n",
       "                        <td id=\"T_390be_row4_col13\" class=\"data row4 col13\" >0</td>\n",
       "                        <td id=\"T_390be_row4_col14\" class=\"data row4 col14\" >0</td>\n",
       "                        <td id=\"T_390be_row4_col15\" class=\"data row4 col15\" >0</td>\n",
       "                        <td id=\"T_390be_row4_col16\" class=\"data row4 col16\" >0</td>\n",
       "                        <td id=\"T_390be_row4_col17\" class=\"data row4 col17\" >0</td>\n",
       "                        <td id=\"T_390be_row4_col18\" class=\"data row4 col18\" >0</td>\n",
       "                        <td id=\"T_390be_row4_col19\" class=\"data row4 col19\" >0</td>\n",
       "                        <td id=\"T_390be_row4_col20\" class=\"data row4 col20\" >0</td>\n",
       "                        <td id=\"T_390be_row4_col21\" class=\"data row4 col21\" >0</td>\n",
       "                        <td id=\"T_390be_row4_col22\" class=\"data row4 col22\" >0</td>\n",
       "                        <td id=\"T_390be_row4_col23\" class=\"data row4 col23\" >0</td>\n",
       "                        <td id=\"T_390be_row4_col24\" class=\"data row4 col24\" >0</td>\n",
       "            </tr>\n",
       "    </tbody></table>"
      ],
      "text/plain": [
       "<pandas.io.formats.style.Styler at 0x19eecd36460>"
      ]
     },
     "execution_count": 18,
     "metadata": {},
     "output_type": "execute_result"
    }
   ],
   "source": [
    "data_info(data, True)"
   ]
  },
  {
   "cell_type": "code",
   "execution_count": 19,
   "id": "7dff244e-1349-4620-8f78-6476d563f552",
   "metadata": {},
   "outputs": [
    {
     "data": {
      "text/plain": [
       "0    70358\n",
       "1    41872\n",
       "Name: is_canceled, dtype: int64"
      ]
     },
     "execution_count": 19,
     "metadata": {},
     "output_type": "execute_result"
    }
   ],
   "source": [
    "data.is_canceled.value_counts()"
   ]
  },
  {
   "cell_type": "code",
   "execution_count": 20,
   "id": "c24ba4b9-59e4-4aa7-9439-b7da6846fe22",
   "metadata": {},
   "outputs": [
    {
     "name": "stdout",
     "output_type": "stream",
     "text": [
      "We have 37.31% cancels total\n"
     ]
    }
   ],
   "source": [
    "print(f\"We have {round(data.is_canceled.value_counts()[1]/len(data.is_canceled)*100, 2)}% cancels total\")"
   ]
  },
  {
   "cell_type": "markdown",
   "id": "da423067-8756-4d82-90c7-45c7f86bff5c",
   "metadata": {},
   "source": [
    "Look at dependencies by \"is_canceled\""
   ]
  },
  {
   "cell_type": "code",
   "execution_count": 21,
   "id": "536d0e45-1388-49ca-9412-13f8d6e2fa99",
   "metadata": {},
   "outputs": [
    {
     "data": {
      "image/png": "[encoded data removed]",
      "text/plain": [
       "<Figure size 1224x1080 with 12 Axes>"
      ]
     },
     "metadata": {
      "needs_background": "light"
     },
     "output_type": "display_data"
    }
   ],
   "source": [
    "columns_for_visual = data.nunique()[data.nunique()<10].drop([\"is_canceled\"]).index\n",
    "fig = plt.figure(figsize=(17,15))\n",
    "for index, col in enumerate(columns_for_visual):\n",
    "    ax = fig.add_subplot(4, 3, index+1)\n",
    "    ax.set_title(col,fontsize=15)\n",
    "    ax.tick_params(labelrotation=20)\n",
    "    sns.countplot(data[col], hue=data.is_canceled, ax=ax, palette=\"mako\")\n",
    "plt.tight_layout(pad=3);"
   ]
  },
  {
   "cell_type": "markdown",
   "id": "1ac1b11f-c5da-404d-8503-2c4deb32c694",
   "metadata": {},
   "source": [
    "We can see some intresting columns - \"hotel\", \"market_segment\", \"is_repeated_guest\", \"deposit_type\", \"customer_type\""
   ]
  },
  {
   "cell_type": "markdown",
   "id": "14a226fd-0312-49f8-b383-827e1b014731",
   "metadata": {},
   "source": [
    "Look at the data with percentages"
   ]
  },
  {
   "cell_type": "code",
   "execution_count": 22,
   "id": "55937239-e04f-48d9-9bfa-349b602648bf",
   "metadata": {},
   "outputs": [],
   "source": [
    "def perc_canceled_for_cols(data, *cols):\n",
    "    result_data = pd.DataFrame()\n",
    "    for col in cols:\n",
    "        temp_df = data.pivot_table(index=\"is_canceled\", columns=col, aggfunc=\"count\").adr\\\n",
    "                            .reset_index().drop(\"is_canceled\", axis=1).apply(lambda x: round(x/x.sum()*100, 2))\n",
    "        result_data = pd.concat([result_data, temp_df], axis=1)\n",
    "    return result_data"
   ]
  },
  {
   "cell_type": "code",
   "execution_count": 23,
   "id": "2e06f388-b77b-47c5-ad28-cc8afeda766c",
   "metadata": {},
   "outputs": [
    {
     "data": {
      "text/html": [
       "<div>\n",
       "<style scoped>\n",
       "    .dataframe tbody tr th:only-of-type {\n",
       "        vertical-align: middle;\n",
       "    }\n",
       "\n",
       "    .dataframe tbody tr th {\n",
       "        vertical-align: top;\n",
       "    }\n",
       "\n",
       "    .dataframe thead th {\n",
       "        text-align: right;\n",
       "    }\n",
       "</style>\n",
       "<table border=\"1\" class=\"dataframe\">\n",
       "  <thead>\n",
       "    <tr style=\"text-align: right;\">\n",
       "      <th></th>\n",
       "      <th>City Hotel</th>\n",
       "      <th>Resort Hotel</th>\n",
       "      <th>Aviation</th>\n",
       "      <th>Complementary</th>\n",
       "      <th>Corporate</th>\n",
       "      <th>Direct</th>\n",
       "      <th>Groups</th>\n",
       "      <th>Offline TA/TO</th>\n",
       "      <th>Online TA</th>\n",
       "    </tr>\n",
       "  </thead>\n",
       "  <tbody>\n",
       "    <tr>\n",
       "      <th>0</th>\n",
       "      <td>57.91</td>\n",
       "      <td>71.98</td>\n",
       "      <td>77.87</td>\n",
       "      <td>87.76</td>\n",
       "      <td>80.85</td>\n",
       "      <td>84.6</td>\n",
       "      <td>38.28</td>\n",
       "      <td>65.21</td>\n",
       "      <td>63.66</td>\n",
       "    </tr>\n",
       "    <tr>\n",
       "      <th>1</th>\n",
       "      <td>42.09</td>\n",
       "      <td>28.02</td>\n",
       "      <td>22.13</td>\n",
       "      <td>12.24</td>\n",
       "      <td>19.15</td>\n",
       "      <td>15.4</td>\n",
       "      <td>61.72</td>\n",
       "      <td>34.79</td>\n",
       "      <td>36.34</td>\n",
       "    </tr>\n",
       "  </tbody>\n",
       "</table>\n",
       "</div>"
      ],
      "text/plain": [
       "   City Hotel  Resort Hotel  Aviation  Complementary  Corporate  Direct  \\\n",
       "0       57.91         71.98     77.87          87.76      80.85    84.6   \n",
       "1       42.09         28.02     22.13          12.24      19.15    15.4   \n",
       "\n",
       "   Groups  Offline TA/TO  Online TA  \n",
       "0   38.28          65.21      63.66  \n",
       "1   61.72          34.79      36.34  "
      ]
     },
     "execution_count": 23,
     "metadata": {},
     "output_type": "execute_result"
    }
   ],
   "source": [
    "hotel_market = perc_canceled_for_cols(data, \"hotel\", \"market_segment\")\n",
    "hotel_market"
   ]
  },
  {
   "cell_type": "code",
   "execution_count": 24,
   "id": "766d8a9b-b880-4821-811c-d4c3a5f7e308",
   "metadata": {},
   "outputs": [
    {
     "data": {
      "text/html": [
       "<div>\n",
       "<style scoped>\n",
       "    .dataframe tbody tr th:only-of-type {\n",
       "        vertical-align: middle;\n",
       "    }\n",
       "\n",
       "    .dataframe tbody tr th {\n",
       "        vertical-align: top;\n",
       "    }\n",
       "\n",
       "    .dataframe thead th {\n",
       "        text-align: right;\n",
       "    }\n",
       "</style>\n",
       "<table border=\"1\" class=\"dataframe\">\n",
       "  <thead>\n",
       "    <tr style=\"text-align: right;\">\n",
       "      <th></th>\n",
       "      <th>0</th>\n",
       "      <th>1</th>\n",
       "      <th>No Deposit</th>\n",
       "      <th>Non Refund</th>\n",
       "      <th>Refundable</th>\n",
       "    </tr>\n",
       "  </thead>\n",
       "  <tbody>\n",
       "    <tr>\n",
       "      <th>0</th>\n",
       "      <td>61.92</td>\n",
       "      <td>85.22</td>\n",
       "      <td>71.93</td>\n",
       "      <td>0.63</td>\n",
       "      <td>79.08</td>\n",
       "    </tr>\n",
       "    <tr>\n",
       "      <th>1</th>\n",
       "      <td>38.08</td>\n",
       "      <td>14.78</td>\n",
       "      <td>28.07</td>\n",
       "      <td>99.37</td>\n",
       "      <td>20.92</td>\n",
       "    </tr>\n",
       "  </tbody>\n",
       "</table>\n",
       "</div>"
      ],
      "text/plain": [
       "       0      1  No Deposit  Non Refund  Refundable\n",
       "0  61.92  85.22       71.93        0.63       79.08\n",
       "1  38.08  14.78       28.07       99.37       20.92"
      ]
     },
     "execution_count": 24,
     "metadata": {},
     "output_type": "execute_result"
    }
   ],
   "source": [
    "repeat_deposit = perc_canceled_for_cols(data, \"is_repeated_guest\", \"deposit_type\")\n",
    "repeat_deposit"
   ]
  },
  {
   "cell_type": "code",
   "execution_count": 25,
   "id": "3325c238-30e0-4bfa-ae78-14e5a85f6d7d",
   "metadata": {},
   "outputs": [
    {
     "data": {
      "text/html": [
       "<div>\n",
       "<style scoped>\n",
       "    .dataframe tbody tr th:only-of-type {\n",
       "        vertical-align: middle;\n",
       "    }\n",
       "\n",
       "    .dataframe tbody tr th {\n",
       "        vertical-align: top;\n",
       "    }\n",
       "\n",
       "    .dataframe thead th {\n",
       "        text-align: right;\n",
       "    }\n",
       "</style>\n",
       "<table border=\"1\" class=\"dataframe\">\n",
       "  <thead>\n",
       "    <tr style=\"text-align: right;\">\n",
       "      <th>customer_type</th>\n",
       "      <th>Contract</th>\n",
       "      <th>Group</th>\n",
       "      <th>Transient</th>\n",
       "      <th>Transient-Party</th>\n",
       "    </tr>\n",
       "  </thead>\n",
       "  <tbody>\n",
       "    <tr>\n",
       "      <th>0</th>\n",
       "      <td>68.72</td>\n",
       "      <td>92.88</td>\n",
       "      <td>58.85</td>\n",
       "      <td>74.15</td>\n",
       "    </tr>\n",
       "    <tr>\n",
       "      <th>1</th>\n",
       "      <td>31.28</td>\n",
       "      <td>7.12</td>\n",
       "      <td>41.15</td>\n",
       "      <td>25.85</td>\n",
       "    </tr>\n",
       "  </tbody>\n",
       "</table>\n",
       "</div>"
      ],
      "text/plain": [
       "customer_type  Contract  Group  Transient  Transient-Party\n",
       "0                 68.72  92.88      58.85            74.15\n",
       "1                 31.28   7.12      41.15            25.85"
      ]
     },
     "execution_count": 25,
     "metadata": {},
     "output_type": "execute_result"
    }
   ],
   "source": [
    "customer_type_data = perc_canceled_for_cols(data, \"customer_type\")\n",
    "customer_type_data"
   ]
  },
  {
   "cell_type": "code",
   "execution_count": 26,
   "id": "4267fdba-3612-4e55-80aa-2eb160b50204",
   "metadata": {},
   "outputs": [
    {
     "name": "stdout",
     "output_type": "stream",
     "text": [
      "The City Hotel has 14.07 more cancels, than Resort Hotel\n",
      "The market segment \"Groups\" has 2-3 times more cancels, than other segments\n",
      "If a person has already been to the hotel, the probability of cancellation is 23.3% lower\n",
      "When choosing the deposit type \"Non Refund\", almost all bookings are canceled\n",
      "The customer types \"Groups\" has 3-4 times less cancels, than other types\n"
     ]
    }
   ],
   "source": [
    "print(f\"The City Hotel has {round(hotel_market.iloc[1, 0] - hotel_market.iloc[1, 1], 2)} more cancels, than Resort Hotel\")\n",
    "print(f\"The market segment \\\"Groups\\\" has 2-3 times more cancels, than other segments\")\n",
    "print(f\"If a person has already been to the hotel, the probability of cancellation is {round(repeat_deposit.iloc[1, 0] - repeat_deposit.iloc[1, 1], 2)}% lower\")\n",
    "print(f\"When choosing the deposit type \\\"Non Refund\\\", almost all bookings are canceled\")\n",
    "print(f\"The customer types \\\"Groups\\\" has 3-4 times less cancels, than other types\")"
   ]
  },
  {
   "cell_type": "markdown",
   "id": "dd911c76-8624-4fb6-8eb1-dbcc75d18e7f",
   "metadata": {},
   "source": [
    "Look at the canceled data by each month and year"
   ]
  },
  {
   "cell_type": "code",
   "execution_count": 27,
   "id": "b2d5e0cb-d167-4340-9e1c-6a595fb15e63",
   "metadata": {},
   "outputs": [
    {
     "data": {
      "text/html": [
       "<div>\n",
       "<style scoped>\n",
       "    .dataframe tbody tr th:only-of-type {\n",
       "        vertical-align: middle;\n",
       "    }\n",
       "\n",
       "    .dataframe tbody tr th {\n",
       "        vertical-align: top;\n",
       "    }\n",
       "\n",
       "    .dataframe thead th {\n",
       "        text-align: right;\n",
       "    }\n",
       "</style>\n",
       "<table border=\"1\" class=\"dataframe\">\n",
       "  <thead>\n",
       "    <tr style=\"text-align: right;\">\n",
       "      <th>arrival_date_year</th>\n",
       "      <th>2015</th>\n",
       "      <th>2016</th>\n",
       "      <th>2017</th>\n",
       "    </tr>\n",
       "    <tr>\n",
       "      <th>arrival_date_month</th>\n",
       "      <th></th>\n",
       "      <th></th>\n",
       "      <th></th>\n",
       "    </tr>\n",
       "  </thead>\n",
       "  <tbody>\n",
       "    <tr>\n",
       "      <th>April</th>\n",
       "      <td>0.0</td>\n",
       "      <td>1984.0</td>\n",
       "      <td>2278.0</td>\n",
       "    </tr>\n",
       "    <tr>\n",
       "      <th>August</th>\n",
       "      <td>1577.0</td>\n",
       "      <td>1597.0</td>\n",
       "      <td>1591.0</td>\n",
       "    </tr>\n",
       "    <tr>\n",
       "      <th>December</th>\n",
       "      <td>950.0</td>\n",
       "      <td>1281.0</td>\n",
       "      <td>0.0</td>\n",
       "    </tr>\n",
       "    <tr>\n",
       "      <th>February</th>\n",
       "      <td>0.0</td>\n",
       "      <td>1312.0</td>\n",
       "      <td>1273.0</td>\n",
       "    </tr>\n",
       "    <tr>\n",
       "      <th>January</th>\n",
       "      <td>0.0</td>\n",
       "      <td>552.0</td>\n",
       "      <td>1173.0</td>\n",
       "    </tr>\n",
       "    <tr>\n",
       "      <th>July</th>\n",
       "      <td>1238.0</td>\n",
       "      <td>1349.0</td>\n",
       "      <td>1757.0</td>\n",
       "    </tr>\n",
       "    <tr>\n",
       "      <th>June</th>\n",
       "      <td>0.0</td>\n",
       "      <td>2003.0</td>\n",
       "      <td>2306.0</td>\n",
       "    </tr>\n",
       "    <tr>\n",
       "      <th>March</th>\n",
       "      <td>0.0</td>\n",
       "      <td>1395.0</td>\n",
       "      <td>1593.0</td>\n",
       "    </tr>\n",
       "    <tr>\n",
       "      <th>May</th>\n",
       "      <td>0.0</td>\n",
       "      <td>1854.0</td>\n",
       "      <td>2634.0</td>\n",
       "    </tr>\n",
       "    <tr>\n",
       "      <th>November</th>\n",
       "      <td>486.0</td>\n",
       "      <td>1599.0</td>\n",
       "      <td>0.0</td>\n",
       "    </tr>\n",
       "    <tr>\n",
       "      <th>October</th>\n",
       "      <td>1701.0</td>\n",
       "      <td>2405.0</td>\n",
       "      <td>0.0</td>\n",
       "    </tr>\n",
       "    <tr>\n",
       "      <th>September</th>\n",
       "      <td>2057.0</td>\n",
       "      <td>1927.0</td>\n",
       "      <td>0.0</td>\n",
       "    </tr>\n",
       "  </tbody>\n",
       "</table>\n",
       "</div>"
      ],
      "text/plain": [
       "arrival_date_year     2015    2016    2017\n",
       "arrival_date_month                        \n",
       "April                  0.0  1984.0  2278.0\n",
       "August              1577.0  1597.0  1591.0\n",
       "December             950.0  1281.0     0.0\n",
       "February               0.0  1312.0  1273.0\n",
       "January                0.0   552.0  1173.0\n",
       "July                1238.0  1349.0  1757.0\n",
       "June                   0.0  2003.0  2306.0\n",
       "March                  0.0  1395.0  1593.0\n",
       "May                    0.0  1854.0  2634.0\n",
       "November             486.0  1599.0     0.0\n",
       "October             1701.0  2405.0     0.0\n",
       "September           2057.0  1927.0     0.0"
      ]
     },
     "execution_count": 27,
     "metadata": {},
     "output_type": "execute_result"
    }
   ],
   "source": [
    "canceled = data[data['is_canceled'] == 1]\n",
    "canceled_by_month_year = canceled.pivot_table(index=\"arrival_date_year\", columns=\"arrival_date_month\", aggfunc=\"count\").fillna(0).adr.T\n",
    "canceled_by_month_year "
   ]
  },
  {
   "cell_type": "code",
   "execution_count": 28,
   "id": "9d3d1369-192c-46cc-a749-fc67f21ac7e6",
   "metadata": {},
   "outputs": [
    {
     "data": {
      "text/html": [
       "<div>\n",
       "<style scoped>\n",
       "    .dataframe tbody tr th:only-of-type {\n",
       "        vertical-align: middle;\n",
       "    }\n",
       "\n",
       "    .dataframe tbody tr th {\n",
       "        vertical-align: top;\n",
       "    }\n",
       "\n",
       "    .dataframe thead th {\n",
       "        text-align: right;\n",
       "    }\n",
       "</style>\n",
       "<table border=\"1\" class=\"dataframe\">\n",
       "  <thead>\n",
       "    <tr style=\"text-align: right;\">\n",
       "      <th></th>\n",
       "      <th>hotel</th>\n",
       "      <th>is_canceled</th>\n",
       "      <th>lead_time</th>\n",
       "      <th>arrival_date_year</th>\n",
       "      <th>arrival_date_month</th>\n",
       "      <th>arrival_date_week_number</th>\n",
       "      <th>arrival_date_day_of_month</th>\n",
       "      <th>stays_in_weekend_nights</th>\n",
       "      <th>stays_in_week_nights</th>\n",
       "      <th>adults</th>\n",
       "      <th>...</th>\n",
       "      <th>previous_cancellations</th>\n",
       "      <th>previous_bookings_not_canceled</th>\n",
       "      <th>reserved_room_type</th>\n",
       "      <th>booking_changes</th>\n",
       "      <th>deposit_type</th>\n",
       "      <th>days_in_waiting_list</th>\n",
       "      <th>customer_type</th>\n",
       "      <th>adr</th>\n",
       "      <th>required_car_parking_spaces</th>\n",
       "      <th>total_of_special_requests</th>\n",
       "    </tr>\n",
       "  </thead>\n",
       "  <tbody>\n",
       "  </tbody>\n",
       "</table>\n",
       "<p>0 rows × 25 columns</p>\n",
       "</div>"
      ],
      "text/plain": [
       "Empty DataFrame\n",
       "Columns: [hotel, is_canceled, lead_time, arrival_date_year, arrival_date_month, arrival_date_week_number, arrival_date_day_of_month, stays_in_weekend_nights, stays_in_week_nights, adults, children, meal, country, market_segment, is_repeated_guest, previous_cancellations, previous_bookings_not_canceled, reserved_room_type, booking_changes, deposit_type, days_in_waiting_list, customer_type, adr, required_car_parking_spaces, total_of_special_requests]\n",
       "Index: []\n",
       "\n",
       "[0 rows x 25 columns]"
      ]
     },
     "execution_count": 28,
     "metadata": {},
     "output_type": "execute_result"
    }
   ],
   "source": [
    "# test by February 2015\n",
    "canceled[(canceled.arrival_date_year==2015)&(data.arrival_date_month==\"February\")]"
   ]
  },
  {
   "cell_type": "markdown",
   "id": "12d0c1e3-d2d4-43da-8ffa-f053eb458adf",
   "metadata": {},
   "source": [
    "Reindex data in the right order by month and visualize data"
   ]
  },
  {
   "cell_type": "code",
   "execution_count": 29,
   "id": "535284b9-0c28-40a3-a465-bc09ac6db9b5",
   "metadata": {},
   "outputs": [
    {
     "data": {
      "image/png": "[encoded data removed]",
      "text/plain": [
       "<Figure size 1080x360 with 1 Axes>"
      ]
     },
     "metadata": {
      "needs_background": "light"
     },
     "output_type": "display_data"
    }
   ],
   "source": [
    "canceled_by_month_year = canceled_by_month_year.reindex(calendar.month_name[1:])\n",
    "plt.figure(figsize=(15, 5));\n",
    "plt.title(\"Count of canceled orders by month and year\");\n",
    "sns.lineplot(data=canceled_by_month_year, palette=\"mako_r\", linewidth=2);"
   ]
  },
  {
   "cell_type": "markdown",
   "id": "02000aec-91dd-46e2-b900-2d29bb8c281e",
   "metadata": {},
   "source": [
    "Look at the data by each month"
   ]
  },
  {
   "cell_type": "code",
   "execution_count": 30,
   "id": "d574978f-f38e-471e-8542-dbdf5c21fa63",
   "metadata": {},
   "outputs": [
    {
     "data": {
      "image/png": "[encoded data removed]",
      "text/plain": [
       "<Figure size 1080x360 with 1 Axes>"
      ]
     },
     "metadata": {
      "needs_background": "light"
     },
     "output_type": "display_data"
    }
   ],
   "source": [
    "plt.figure(figsize=(15, 5));\n",
    "plt.title(\"Count of orders by month\");\n",
    "sns.countplot(data.arrival_date_month, hue=data.is_canceled, palette=\"mako\", order=calendar.month_name[1:]);"
   ]
  },
  {
   "cell_type": "code",
   "execution_count": 31,
   "id": "830b2508-3b0c-4673-ba38-5254ea757e80",
   "metadata": {},
   "outputs": [
    {
     "data": {
      "text/html": [
       "<div>\n",
       "<style scoped>\n",
       "    .dataframe tbody tr th:only-of-type {\n",
       "        vertical-align: middle;\n",
       "    }\n",
       "\n",
       "    .dataframe tbody tr th {\n",
       "        vertical-align: top;\n",
       "    }\n",
       "\n",
       "    .dataframe thead th {\n",
       "        text-align: right;\n",
       "    }\n",
       "</style>\n",
       "<table border=\"1\" class=\"dataframe\">\n",
       "  <thead>\n",
       "    <tr style=\"text-align: right;\">\n",
       "      <th>arrival_date_month</th>\n",
       "      <th>April</th>\n",
       "      <th>August</th>\n",
       "      <th>December</th>\n",
       "      <th>February</th>\n",
       "      <th>January</th>\n",
       "      <th>July</th>\n",
       "      <th>June</th>\n",
       "      <th>March</th>\n",
       "      <th>May</th>\n",
       "      <th>November</th>\n",
       "      <th>October</th>\n",
       "      <th>September</th>\n",
       "    </tr>\n",
       "  </thead>\n",
       "  <tbody>\n",
       "    <tr>\n",
       "      <th>0</th>\n",
       "      <td>59.03</td>\n",
       "      <td>61.94</td>\n",
       "      <td>64.96</td>\n",
       "      <td>66.11</td>\n",
       "      <td>69.43</td>\n",
       "      <td>61.81</td>\n",
       "      <td>58.31</td>\n",
       "      <td>67.71</td>\n",
       "      <td>60.24</td>\n",
       "      <td>68.42</td>\n",
       "      <td>61.63</td>\n",
       "      <td>60.61</td>\n",
       "    </tr>\n",
       "    <tr>\n",
       "      <th>1</th>\n",
       "      <td>40.97</td>\n",
       "      <td>38.06</td>\n",
       "      <td>35.04</td>\n",
       "      <td>33.89</td>\n",
       "      <td>30.57</td>\n",
       "      <td>38.19</td>\n",
       "      <td>41.69</td>\n",
       "      <td>32.29</td>\n",
       "      <td>39.76</td>\n",
       "      <td>31.58</td>\n",
       "      <td>38.37</td>\n",
       "      <td>39.39</td>\n",
       "    </tr>\n",
       "  </tbody>\n",
       "</table>\n",
       "</div>"
      ],
      "text/plain": [
       "arrival_date_month  April  August  December  February  January   July   June  \\\n",
       "0                   59.03   61.94     64.96     66.11    69.43  61.81  58.31   \n",
       "1                   40.97   38.06     35.04     33.89    30.57  38.19  41.69   \n",
       "\n",
       "arrival_date_month  March    May  November  October  September  \n",
       "0                   67.71  60.24     68.42    61.63      60.61  \n",
       "1                   32.29  39.76     31.58    38.37      39.39  "
      ]
     },
     "execution_count": 31,
     "metadata": {},
     "output_type": "execute_result"
    }
   ],
   "source": [
    "perc_canceled_for_cols(data, \"arrival_date_month\")"
   ]
  },
  {
   "cell_type": "markdown",
   "id": "3fff0630-f0fd-406c-8e26-d6c68354b8af",
   "metadata": {},
   "source": [
    "Most canceled - April, less canceled - January, but we have NaN in first half of 2015 and second half 2017, so look at the data by 2016"
   ]
  },
  {
   "cell_type": "code",
   "execution_count": 32,
   "id": "45eb6249-cd83-4264-9b41-20d939aaf413",
   "metadata": {},
   "outputs": [
    {
     "data": {
      "text/html": [
       "<div>\n",
       "<style scoped>\n",
       "    .dataframe tbody tr th:only-of-type {\n",
       "        vertical-align: middle;\n",
       "    }\n",
       "\n",
       "    .dataframe tbody tr th {\n",
       "        vertical-align: top;\n",
       "    }\n",
       "\n",
       "    .dataframe thead th {\n",
       "        text-align: right;\n",
       "    }\n",
       "</style>\n",
       "<table border=\"1\" class=\"dataframe\">\n",
       "  <thead>\n",
       "    <tr style=\"text-align: right;\">\n",
       "      <th>arrival_date_month</th>\n",
       "      <th>April</th>\n",
       "      <th>August</th>\n",
       "      <th>December</th>\n",
       "      <th>February</th>\n",
       "      <th>January</th>\n",
       "      <th>July</th>\n",
       "      <th>June</th>\n",
       "      <th>March</th>\n",
       "      <th>May</th>\n",
       "      <th>November</th>\n",
       "      <th>October</th>\n",
       "      <th>September</th>\n",
       "    </tr>\n",
       "  </thead>\n",
       "  <tbody>\n",
       "    <tr>\n",
       "      <th>0</th>\n",
       "      <td>61.54</td>\n",
       "      <td>63.88</td>\n",
       "      <td>64.03</td>\n",
       "      <td>64.71</td>\n",
       "      <td>74.52</td>\n",
       "      <td>66.22</td>\n",
       "      <td>60.05</td>\n",
       "      <td>69.14</td>\n",
       "      <td>64.68</td>\n",
       "      <td>62.89</td>\n",
       "      <td>58.92</td>\n",
       "      <td>62.22</td>\n",
       "    </tr>\n",
       "    <tr>\n",
       "      <th>1</th>\n",
       "      <td>38.46</td>\n",
       "      <td>36.12</td>\n",
       "      <td>35.97</td>\n",
       "      <td>35.29</td>\n",
       "      <td>25.48</td>\n",
       "      <td>33.78</td>\n",
       "      <td>39.95</td>\n",
       "      <td>30.86</td>\n",
       "      <td>35.32</td>\n",
       "      <td>37.11</td>\n",
       "      <td>41.08</td>\n",
       "      <td>37.78</td>\n",
       "    </tr>\n",
       "  </tbody>\n",
       "</table>\n",
       "</div>"
      ],
      "text/plain": [
       "arrival_date_month  April  August  December  February  January   July   June  \\\n",
       "0                   61.54   63.88     64.03     64.71    74.52  66.22  60.05   \n",
       "1                   38.46   36.12     35.97     35.29    25.48  33.78  39.95   \n",
       "\n",
       "arrival_date_month  March    May  November  October  September  \n",
       "0                   69.14  64.68     62.89    58.92      62.22  \n",
       "1                   30.86  35.32     37.11    41.08      37.78  "
      ]
     },
     "execution_count": 32,
     "metadata": {},
     "output_type": "execute_result"
    }
   ],
   "source": [
    "perc_canceled_for_cols(data[data.arrival_date_year==2016], \"arrival_date_month\")"
   ]
  },
  {
   "cell_type": "markdown",
   "id": "5d7e36b3-cd6c-4a81-819a-10d7e6e59770",
   "metadata": {},
   "source": [
    "So January canceled less than other, the most canceled months - October, June, April"
   ]
  },
  {
   "cell_type": "code",
   "execution_count": 33,
   "id": "202d2cec-c066-45f2-8c13-06498a193d6b",
   "metadata": {},
   "outputs": [
    {
     "data": {
      "text/html": [
       "<style  type=\"text/css\" >\n",
       "    #T_7cb6e_ .row2 {\n",
       "          background-color: lavender;\n",
       "    }    #T_7cb6e_ .row3 {\n",
       "          background-color: lavender;\n",
       "    }    #T_7cb6e_ .row4 {\n",
       "          background-color: lavender;\n",
       "    }</style><table id=\"T_7cb6e_\" ><thead>    <tr>        <th class=\"blank level0\" ></th>        <th class=\"col_heading level0 col0\" >hotel</th>        <th class=\"col_heading level0 col1\" >is_canceled</th>        <th class=\"col_heading level0 col2\" >lead_time</th>        <th class=\"col_heading level0 col3\" >arrival_date_year</th>        <th class=\"col_heading level0 col4\" >arrival_date_month</th>        <th class=\"col_heading level0 col5\" >arrival_date_week_number</th>        <th class=\"col_heading level0 col6\" >arrival_date_day_of_month</th>        <th class=\"col_heading level0 col7\" >stays_in_weekend_nights</th>        <th class=\"col_heading level0 col8\" >stays_in_week_nights</th>        <th class=\"col_heading level0 col9\" >adults</th>        <th class=\"col_heading level0 col10\" >children</th>        <th class=\"col_heading level0 col11\" >meal</th>        <th class=\"col_heading level0 col12\" >country</th>        <th class=\"col_heading level0 col13\" >market_segment</th>        <th class=\"col_heading level0 col14\" >is_repeated_guest</th>        <th class=\"col_heading level0 col15\" >previous_cancellations</th>        <th class=\"col_heading level0 col16\" >previous_bookings_not_canceled</th>        <th class=\"col_heading level0 col17\" >reserved_room_type</th>        <th class=\"col_heading level0 col18\" >booking_changes</th>        <th class=\"col_heading level0 col19\" >deposit_type</th>        <th class=\"col_heading level0 col20\" >days_in_waiting_list</th>        <th class=\"col_heading level0 col21\" >customer_type</th>        <th class=\"col_heading level0 col22\" >adr</th>        <th class=\"col_heading level0 col23\" >required_car_parking_spaces</th>        <th class=\"col_heading level0 col24\" >total_of_special_requests</th>    </tr></thead><tbody>\n",
       "                <tr>\n",
       "                        <th id=\"T_7cb6e_level0_row0\" class=\"row_heading level0 row0\" >unique_value_1</th>\n",
       "                        <td id=\"T_7cb6e_row0_col0\" class=\"data row0 col0\" >City Hotel</td>\n",
       "                        <td id=\"T_7cb6e_row0_col1\" class=\"data row0 col1\" >0</td>\n",
       "                        <td id=\"T_7cb6e_row0_col2\" class=\"data row0 col2\" >0</td>\n",
       "                        <td id=\"T_7cb6e_row0_col3\" class=\"data row0 col3\" >2016</td>\n",
       "                        <td id=\"T_7cb6e_row0_col4\" class=\"data row0 col4\" >August</td>\n",
       "                        <td id=\"T_7cb6e_row0_col5\" class=\"data row0 col5\" >33</td>\n",
       "                        <td id=\"T_7cb6e_row0_col6\" class=\"data row0 col6\" >17</td>\n",
       "                        <td id=\"T_7cb6e_row0_col7\" class=\"data row0 col7\" >0</td>\n",
       "                        <td id=\"T_7cb6e_row0_col8\" class=\"data row0 col8\" >2</td>\n",
       "                        <td id=\"T_7cb6e_row0_col9\" class=\"data row0 col9\" >2</td>\n",
       "                        <td id=\"T_7cb6e_row0_col10\" class=\"data row0 col10\" >0</td>\n",
       "                        <td id=\"T_7cb6e_row0_col11\" class=\"data row0 col11\" >BB</td>\n",
       "                        <td id=\"T_7cb6e_row0_col12\" class=\"data row0 col12\" >PRT</td>\n",
       "                        <td id=\"T_7cb6e_row0_col13\" class=\"data row0 col13\" >Online TA</td>\n",
       "                        <td id=\"T_7cb6e_row0_col14\" class=\"data row0 col14\" >0</td>\n",
       "                        <td id=\"T_7cb6e_row0_col15\" class=\"data row0 col15\" >0</td>\n",
       "                        <td id=\"T_7cb6e_row0_col16\" class=\"data row0 col16\" >0</td>\n",
       "                        <td id=\"T_7cb6e_row0_col17\" class=\"data row0 col17\" >A</td>\n",
       "                        <td id=\"T_7cb6e_row0_col18\" class=\"data row0 col18\" >0</td>\n",
       "                        <td id=\"T_7cb6e_row0_col19\" class=\"data row0 col19\" >No Deposit</td>\n",
       "                        <td id=\"T_7cb6e_row0_col20\" class=\"data row0 col20\" >0</td>\n",
       "                        <td id=\"T_7cb6e_row0_col21\" class=\"data row0 col21\" >Transient</td>\n",
       "                        <td id=\"T_7cb6e_row0_col22\" class=\"data row0 col22\" >62</td>\n",
       "                        <td id=\"T_7cb6e_row0_col23\" class=\"data row0 col23\" >0</td>\n",
       "                        <td id=\"T_7cb6e_row0_col24\" class=\"data row0 col24\" >0</td>\n",
       "            </tr>\n",
       "            <tr>\n",
       "                        <th id=\"T_7cb6e_level0_row1\" class=\"row_heading level0 row1\" >unique_value_2</th>\n",
       "                        <td id=\"T_7cb6e_row1_col0\" class=\"data row1 col0\" >Resort Hotel</td>\n",
       "                        <td id=\"T_7cb6e_row1_col1\" class=\"data row1 col1\" >1</td>\n",
       "                        <td id=\"T_7cb6e_row1_col2\" class=\"data row1 col2\" >1</td>\n",
       "                        <td id=\"T_7cb6e_row1_col3\" class=\"data row1 col3\" >2017</td>\n",
       "                        <td id=\"T_7cb6e_row1_col4\" class=\"data row1 col4\" >July</td>\n",
       "                        <td id=\"T_7cb6e_row1_col5\" class=\"data row1 col5\" >18</td>\n",
       "                        <td id=\"T_7cb6e_row1_col6\" class=\"data row1 col6\" >5</td>\n",
       "                        <td id=\"T_7cb6e_row1_col7\" class=\"data row1 col7\" >2</td>\n",
       "                        <td id=\"T_7cb6e_row1_col8\" class=\"data row1 col8\" >1</td>\n",
       "                        <td id=\"T_7cb6e_row1_col9\" class=\"data row1 col9\" >1</td>\n",
       "                        <td id=\"T_7cb6e_row1_col10\" class=\"data row1 col10\" >1</td>\n",
       "                        <td id=\"T_7cb6e_row1_col11\" class=\"data row1 col11\" >HB</td>\n",
       "                        <td id=\"T_7cb6e_row1_col12\" class=\"data row1 col12\" >GBR</td>\n",
       "                        <td id=\"T_7cb6e_row1_col13\" class=\"data row1 col13\" >Offline TA/TO</td>\n",
       "                        <td id=\"T_7cb6e_row1_col14\" class=\"data row1 col14\" >1</td>\n",
       "                        <td id=\"T_7cb6e_row1_col15\" class=\"data row1 col15\" >1</td>\n",
       "                        <td id=\"T_7cb6e_row1_col16\" class=\"data row1 col16\" >1</td>\n",
       "                        <td id=\"T_7cb6e_row1_col17\" class=\"data row1 col17\" >D</td>\n",
       "                        <td id=\"T_7cb6e_row1_col18\" class=\"data row1 col18\" >1</td>\n",
       "                        <td id=\"T_7cb6e_row1_col19\" class=\"data row1 col19\" >Non Refund</td>\n",
       "                        <td id=\"T_7cb6e_row1_col20\" class=\"data row1 col20\" >39</td>\n",
       "                        <td id=\"T_7cb6e_row1_col21\" class=\"data row1 col21\" >Transient-Party</td>\n",
       "                        <td id=\"T_7cb6e_row1_col22\" class=\"data row1 col22\" >90</td>\n",
       "                        <td id=\"T_7cb6e_row1_col23\" class=\"data row1 col23\" >1</td>\n",
       "                        <td id=\"T_7cb6e_row1_col24\" class=\"data row1 col24\" >1</td>\n",
       "            </tr>\n",
       "            <tr>\n",
       "                        <th id=\"T_7cb6e_level0_row2\" class=\"row_heading level0 row2\" >type</th>\n",
       "                        <td id=\"T_7cb6e_row2_col0\" class=\"data row2 col0\" >object</td>\n",
       "                        <td id=\"T_7cb6e_row2_col1\" class=\"data row2 col1\" >int64</td>\n",
       "                        <td id=\"T_7cb6e_row2_col2\" class=\"data row2 col2\" >int64</td>\n",
       "                        <td id=\"T_7cb6e_row2_col3\" class=\"data row2 col3\" >int64</td>\n",
       "                        <td id=\"T_7cb6e_row2_col4\" class=\"data row2 col4\" >object</td>\n",
       "                        <td id=\"T_7cb6e_row2_col5\" class=\"data row2 col5\" >int64</td>\n",
       "                        <td id=\"T_7cb6e_row2_col6\" class=\"data row2 col6\" >int64</td>\n",
       "                        <td id=\"T_7cb6e_row2_col7\" class=\"data row2 col7\" >int64</td>\n",
       "                        <td id=\"T_7cb6e_row2_col8\" class=\"data row2 col8\" >int64</td>\n",
       "                        <td id=\"T_7cb6e_row2_col9\" class=\"data row2 col9\" >int64</td>\n",
       "                        <td id=\"T_7cb6e_row2_col10\" class=\"data row2 col10\" >int32</td>\n",
       "                        <td id=\"T_7cb6e_row2_col11\" class=\"data row2 col11\" >object</td>\n",
       "                        <td id=\"T_7cb6e_row2_col12\" class=\"data row2 col12\" >object</td>\n",
       "                        <td id=\"T_7cb6e_row2_col13\" class=\"data row2 col13\" >object</td>\n",
       "                        <td id=\"T_7cb6e_row2_col14\" class=\"data row2 col14\" >int64</td>\n",
       "                        <td id=\"T_7cb6e_row2_col15\" class=\"data row2 col15\" >int64</td>\n",
       "                        <td id=\"T_7cb6e_row2_col16\" class=\"data row2 col16\" >int64</td>\n",
       "                        <td id=\"T_7cb6e_row2_col17\" class=\"data row2 col17\" >object</td>\n",
       "                        <td id=\"T_7cb6e_row2_col18\" class=\"data row2 col18\" >int64</td>\n",
       "                        <td id=\"T_7cb6e_row2_col19\" class=\"data row2 col19\" >object</td>\n",
       "                        <td id=\"T_7cb6e_row2_col20\" class=\"data row2 col20\" >int64</td>\n",
       "                        <td id=\"T_7cb6e_row2_col21\" class=\"data row2 col21\" >object</td>\n",
       "                        <td id=\"T_7cb6e_row2_col22\" class=\"data row2 col22\" >int32</td>\n",
       "                        <td id=\"T_7cb6e_row2_col23\" class=\"data row2 col23\" >int64</td>\n",
       "                        <td id=\"T_7cb6e_row2_col24\" class=\"data row2 col24\" >int64</td>\n",
       "            </tr>\n",
       "            <tr>\n",
       "                        <th id=\"T_7cb6e_level0_row3\" class=\"row_heading level0 row3\" >num_unique</th>\n",
       "                        <td id=\"T_7cb6e_row3_col0\" class=\"data row3 col0\" >2</td>\n",
       "                        <td id=\"T_7cb6e_row3_col1\" class=\"data row3 col1\" >2</td>\n",
       "                        <td id=\"T_7cb6e_row3_col2\" class=\"data row3 col2\" >479</td>\n",
       "                        <td id=\"T_7cb6e_row3_col3\" class=\"data row3 col3\" >3</td>\n",
       "                        <td id=\"T_7cb6e_row3_col4\" class=\"data row3 col4\" >12</td>\n",
       "                        <td id=\"T_7cb6e_row3_col5\" class=\"data row3 col5\" >53</td>\n",
       "                        <td id=\"T_7cb6e_row3_col6\" class=\"data row3 col6\" >31</td>\n",
       "                        <td id=\"T_7cb6e_row3_col7\" class=\"data row3 col7\" >15</td>\n",
       "                        <td id=\"T_7cb6e_row3_col8\" class=\"data row3 col8\" >31</td>\n",
       "                        <td id=\"T_7cb6e_row3_col9\" class=\"data row3 col9\" >2</td>\n",
       "                        <td id=\"T_7cb6e_row3_col10\" class=\"data row3 col10\" >6</td>\n",
       "                        <td id=\"T_7cb6e_row3_col11\" class=\"data row3 col11\" >5</td>\n",
       "                        <td id=\"T_7cb6e_row3_col12\" class=\"data row3 col12\" >175</td>\n",
       "                        <td id=\"T_7cb6e_row3_col13\" class=\"data row3 col13\" >7</td>\n",
       "                        <td id=\"T_7cb6e_row3_col14\" class=\"data row3 col14\" >2</td>\n",
       "                        <td id=\"T_7cb6e_row3_col15\" class=\"data row3 col15\" >15</td>\n",
       "                        <td id=\"T_7cb6e_row3_col16\" class=\"data row3 col16\" >73</td>\n",
       "                        <td id=\"T_7cb6e_row3_col17\" class=\"data row3 col17\" >9</td>\n",
       "                        <td id=\"T_7cb6e_row3_col18\" class=\"data row3 col18\" >19</td>\n",
       "                        <td id=\"T_7cb6e_row3_col19\" class=\"data row3 col19\" >3</td>\n",
       "                        <td id=\"T_7cb6e_row3_col20\" class=\"data row3 col20\" >127</td>\n",
       "                        <td id=\"T_7cb6e_row3_col21\" class=\"data row3 col21\" >4</td>\n",
       "                        <td id=\"T_7cb6e_row3_col22\" class=\"data row3 col22\" >368</td>\n",
       "                        <td id=\"T_7cb6e_row3_col23\" class=\"data row3 col23\" >5</td>\n",
       "                        <td id=\"T_7cb6e_row3_col24\" class=\"data row3 col24\" >6</td>\n",
       "            </tr>\n",
       "            <tr>\n",
       "                        <th id=\"T_7cb6e_level0_row4\" class=\"row_heading level0 row4\" >is_na</th>\n",
       "                        <td id=\"T_7cb6e_row4_col0\" class=\"data row4 col0\" >0</td>\n",
       "                        <td id=\"T_7cb6e_row4_col1\" class=\"data row4 col1\" >0</td>\n",
       "                        <td id=\"T_7cb6e_row4_col2\" class=\"data row4 col2\" >0</td>\n",
       "                        <td id=\"T_7cb6e_row4_col3\" class=\"data row4 col3\" >0</td>\n",
       "                        <td id=\"T_7cb6e_row4_col4\" class=\"data row4 col4\" >0</td>\n",
       "                        <td id=\"T_7cb6e_row4_col5\" class=\"data row4 col5\" >0</td>\n",
       "                        <td id=\"T_7cb6e_row4_col6\" class=\"data row4 col6\" >0</td>\n",
       "                        <td id=\"T_7cb6e_row4_col7\" class=\"data row4 col7\" >0</td>\n",
       "                        <td id=\"T_7cb6e_row4_col8\" class=\"data row4 col8\" >0</td>\n",
       "                        <td id=\"T_7cb6e_row4_col9\" class=\"data row4 col9\" >0</td>\n",
       "                        <td id=\"T_7cb6e_row4_col10\" class=\"data row4 col10\" >0</td>\n",
       "                        <td id=\"T_7cb6e_row4_col11\" class=\"data row4 col11\" >0</td>\n",
       "                        <td id=\"T_7cb6e_row4_col12\" class=\"data row4 col12\" >0</td>\n",
       "                        <td id=\"T_7cb6e_row4_col13\" class=\"data row4 col13\" >0</td>\n",
       "                        <td id=\"T_7cb6e_row4_col14\" class=\"data row4 col14\" >0</td>\n",
       "                        <td id=\"T_7cb6e_row4_col15\" class=\"data row4 col15\" >0</td>\n",
       "                        <td id=\"T_7cb6e_row4_col16\" class=\"data row4 col16\" >0</td>\n",
       "                        <td id=\"T_7cb6e_row4_col17\" class=\"data row4 col17\" >0</td>\n",
       "                        <td id=\"T_7cb6e_row4_col18\" class=\"data row4 col18\" >0</td>\n",
       "                        <td id=\"T_7cb6e_row4_col19\" class=\"data row4 col19\" >0</td>\n",
       "                        <td id=\"T_7cb6e_row4_col20\" class=\"data row4 col20\" >0</td>\n",
       "                        <td id=\"T_7cb6e_row4_col21\" class=\"data row4 col21\" >0</td>\n",
       "                        <td id=\"T_7cb6e_row4_col22\" class=\"data row4 col22\" >0</td>\n",
       "                        <td id=\"T_7cb6e_row4_col23\" class=\"data row4 col23\" >0</td>\n",
       "                        <td id=\"T_7cb6e_row4_col24\" class=\"data row4 col24\" >0</td>\n",
       "            </tr>\n",
       "    </tbody></table>"
      ],
      "text/plain": [
       "<pandas.io.formats.style.Styler at 0x19ef6e71610>"
      ]
     },
     "execution_count": 33,
     "metadata": {},
     "output_type": "execute_result"
    }
   ],
   "source": [
    "data_info(data, True)"
   ]
  },
  {
   "cell_type": "markdown",
   "id": "e9c84edd-0b4d-4dfe-b9fc-f617d58aec27",
   "metadata": {},
   "source": [
    "Look at the other columns in DF"
   ]
  },
  {
   "cell_type": "code",
   "execution_count": 34,
   "id": "dc98c005-e5b8-47d9-9afc-68433e16772c",
   "metadata": {},
   "outputs": [
    {
     "data": {
      "image/png": "[encoded data removed]",
      "text/plain": [
       "<Figure size 1224x1080 with 8 Axes>"
      ]
     },
     "metadata": {
      "needs_background": "light"
     },
     "output_type": "display_data"
    }
   ],
   "source": [
    "columns_for_visual_2 = [\"lead_time\", \"stays_in_weekend_nights\", \"stays_in_week_nights\",\n",
    "                        \"previous_cancellations\", \"previous_bookings_not_canceled\", \n",
    "                      \"booking_changes\", \"days_in_waiting_list\", \"adr\"]\n",
    "fig = plt.figure(figsize=(17,15))\n",
    "for index, col in enumerate(columns_for_visual_2):\n",
    "    ax = fig.add_subplot(3, 3, index+1)\n",
    "    ax.set_title(col,fontsize=15)\n",
    "    ax.tick_params(labelrotation=20)\n",
    "    sns.boxplot(data.is_canceled, data[col], ax=ax, palette=\"mako\")\n",
    "plt.tight_layout(pad=3);"
   ]
  },
  {
   "cell_type": "code",
   "execution_count": 35,
   "id": "fa5b56b6-a595-434d-bf98-fb4342c51813",
   "metadata": {},
   "outputs": [
    {
     "name": "stdout",
     "output_type": "stream",
     "text": [
      "Median of days (from booking to arrive) = 115 for canceled orders \n",
      "Median of days (from booking to arrive) = 44 for not canceled orders\n"
     ]
    }
   ],
   "source": [
    "# The most intresting column - \"lead_time\"\n",
    "print(f\"Median of days (from booking to arrive) = {round(data[data.is_canceled==1].lead_time.median())} for canceled orders \\n\\\n",
    "Median of days (from booking to arrive) = {round(data[data.is_canceled==0].lead_time.median())} for not canceled orders\")"
   ]
  },
  {
   "cell_type": "markdown",
   "id": "ec095c82-d7a2-4c62-8da8-5d05c448ff2f",
   "metadata": {},
   "source": [
    "\n",
    "Also we can see strong outliers in columns \"adr\" and \"days_in_waiting_list\""
   ]
  },
  {
   "cell_type": "code",
   "execution_count": 36,
   "id": "05fd7aa5-2cd6-4616-92ee-32cb2cf7e8c5",
   "metadata": {},
   "outputs": [
    {
     "data": {
      "image/png": "[encoded data removed]",
      "text/plain": [
       "<Figure size 1080x360 with 3 Axes>"
      ]
     },
     "metadata": {
      "needs_background": "light"
     },
     "output_type": "display_data"
    }
   ],
   "source": [
    "fig, ax = plt.subplots(1, 3, figsize=(15, 5));\n",
    "sns.histplot(data.adr, ax=ax[0]);\n",
    "sns.histplot(data[data.adr<data.adr.quantile(0.99)].adr, ax=ax[1]);\n",
    "sns.histplot(data[data.adr<data.adr.quantile(0.9)].adr, ax=ax[2]);\n",
    "ax[0].set_title(\"All adr\");\n",
    "ax[1].set_title(\"Adr < 0.99 quantile\");\n",
    "ax[2].set_title(\"Adr < 0.9 quantile\");"
   ]
  },
  {
   "cell_type": "code",
   "execution_count": 37,
   "id": "a305e00a-9b29-468a-b3a2-dc4d90930fb7",
   "metadata": {},
   "outputs": [],
   "source": [
    "# drop outliers and check data\n",
    "data.adr.clip(0, data.adr.quantile(0.99), inplace=True)\n",
    "data.days_in_waiting_list.clip(0, data.days_in_waiting_list.quantile(0.99), inplace=True)"
   ]
  },
  {
   "cell_type": "code",
   "execution_count": 38,
   "id": "3d33ee84-944c-4b21-b514-2dc88ade3097",
   "metadata": {},
   "outputs": [
    {
     "data": {
      "image/png": "[encoded data removed]",
      "text/plain": [
       "<Figure size 1080x360 with 2 Axes>"
      ]
     },
     "metadata": {
      "needs_background": "light"
     },
     "output_type": "display_data"
    }
   ],
   "source": [
    "fig, ax = plt.subplots(1, 2, figsize=(15,5))\n",
    "sns.boxplot(data.is_canceled, data.adr, palette=\"mako\", ax=ax[0]);\n",
    "sns.boxplot(data.is_canceled, data.days_in_waiting_list, palette=\"mako\", ax=ax[1]);"
   ]
  },
  {
   "cell_type": "code",
   "execution_count": 39,
   "id": "2a3645fc-91e0-491f-909f-649b967c7dfa",
   "metadata": {},
   "outputs": [
    {
     "data": {
      "text/html": [
       "<div>\n",
       "<style scoped>\n",
       "    .dataframe tbody tr th:only-of-type {\n",
       "        vertical-align: middle;\n",
       "    }\n",
       "\n",
       "    .dataframe tbody tr th {\n",
       "        vertical-align: top;\n",
       "    }\n",
       "\n",
       "    .dataframe thead th {\n",
       "        text-align: right;\n",
       "    }\n",
       "</style>\n",
       "<table border=\"1\" class=\"dataframe\">\n",
       "  <thead>\n",
       "    <tr style=\"text-align: right;\">\n",
       "      <th></th>\n",
       "      <th>hotel</th>\n",
       "      <th>is_canceled</th>\n",
       "      <th>lead_time</th>\n",
       "      <th>arrival_date_year</th>\n",
       "      <th>arrival_date_month</th>\n",
       "      <th>arrival_date_week_number</th>\n",
       "      <th>arrival_date_day_of_month</th>\n",
       "      <th>stays_in_weekend_nights</th>\n",
       "      <th>stays_in_week_nights</th>\n",
       "      <th>adults</th>\n",
       "      <th>...</th>\n",
       "      <th>previous_cancellations</th>\n",
       "      <th>previous_bookings_not_canceled</th>\n",
       "      <th>reserved_room_type</th>\n",
       "      <th>booking_changes</th>\n",
       "      <th>deposit_type</th>\n",
       "      <th>days_in_waiting_list</th>\n",
       "      <th>customer_type</th>\n",
       "      <th>adr</th>\n",
       "      <th>required_car_parking_spaces</th>\n",
       "      <th>total_of_special_requests</th>\n",
       "    </tr>\n",
       "  </thead>\n",
       "  <tbody>\n",
       "    <tr>\n",
       "      <th>0</th>\n",
       "      <td>Resort Hotel</td>\n",
       "      <td>0</td>\n",
       "      <td>342</td>\n",
       "      <td>2015</td>\n",
       "      <td>July</td>\n",
       "      <td>27</td>\n",
       "      <td>1</td>\n",
       "      <td>0</td>\n",
       "      <td>0</td>\n",
       "      <td>2</td>\n",
       "      <td>...</td>\n",
       "      <td>0</td>\n",
       "      <td>0</td>\n",
       "      <td>C</td>\n",
       "      <td>3</td>\n",
       "      <td>No Deposit</td>\n",
       "      <td>0</td>\n",
       "      <td>Transient</td>\n",
       "      <td>0.0</td>\n",
       "      <td>0</td>\n",
       "      <td>0</td>\n",
       "    </tr>\n",
       "    <tr>\n",
       "      <th>1</th>\n",
       "      <td>Resort Hotel</td>\n",
       "      <td>0</td>\n",
       "      <td>737</td>\n",
       "      <td>2015</td>\n",
       "      <td>July</td>\n",
       "      <td>27</td>\n",
       "      <td>1</td>\n",
       "      <td>0</td>\n",
       "      <td>0</td>\n",
       "      <td>2</td>\n",
       "      <td>...</td>\n",
       "      <td>0</td>\n",
       "      <td>0</td>\n",
       "      <td>C</td>\n",
       "      <td>4</td>\n",
       "      <td>No Deposit</td>\n",
       "      <td>0</td>\n",
       "      <td>Transient</td>\n",
       "      <td>0.0</td>\n",
       "      <td>0</td>\n",
       "      <td>0</td>\n",
       "    </tr>\n",
       "    <tr>\n",
       "      <th>2</th>\n",
       "      <td>Resort Hotel</td>\n",
       "      <td>0</td>\n",
       "      <td>7</td>\n",
       "      <td>2015</td>\n",
       "      <td>July</td>\n",
       "      <td>27</td>\n",
       "      <td>1</td>\n",
       "      <td>0</td>\n",
       "      <td>1</td>\n",
       "      <td>1</td>\n",
       "      <td>...</td>\n",
       "      <td>0</td>\n",
       "      <td>0</td>\n",
       "      <td>A</td>\n",
       "      <td>0</td>\n",
       "      <td>No Deposit</td>\n",
       "      <td>0</td>\n",
       "      <td>Transient</td>\n",
       "      <td>75.0</td>\n",
       "      <td>0</td>\n",
       "      <td>0</td>\n",
       "    </tr>\n",
       "    <tr>\n",
       "      <th>3</th>\n",
       "      <td>Resort Hotel</td>\n",
       "      <td>0</td>\n",
       "      <td>13</td>\n",
       "      <td>2015</td>\n",
       "      <td>July</td>\n",
       "      <td>27</td>\n",
       "      <td>1</td>\n",
       "      <td>0</td>\n",
       "      <td>1</td>\n",
       "      <td>1</td>\n",
       "      <td>...</td>\n",
       "      <td>0</td>\n",
       "      <td>0</td>\n",
       "      <td>A</td>\n",
       "      <td>0</td>\n",
       "      <td>No Deposit</td>\n",
       "      <td>0</td>\n",
       "      <td>Transient</td>\n",
       "      <td>75.0</td>\n",
       "      <td>0</td>\n",
       "      <td>0</td>\n",
       "    </tr>\n",
       "    <tr>\n",
       "      <th>4</th>\n",
       "      <td>Resort Hotel</td>\n",
       "      <td>0</td>\n",
       "      <td>14</td>\n",
       "      <td>2015</td>\n",
       "      <td>July</td>\n",
       "      <td>27</td>\n",
       "      <td>1</td>\n",
       "      <td>0</td>\n",
       "      <td>2</td>\n",
       "      <td>2</td>\n",
       "      <td>...</td>\n",
       "      <td>0</td>\n",
       "      <td>0</td>\n",
       "      <td>A</td>\n",
       "      <td>0</td>\n",
       "      <td>No Deposit</td>\n",
       "      <td>0</td>\n",
       "      <td>Transient</td>\n",
       "      <td>98.0</td>\n",
       "      <td>0</td>\n",
       "      <td>1</td>\n",
       "    </tr>\n",
       "  </tbody>\n",
       "</table>\n",
       "<p>5 rows × 25 columns</p>\n",
       "</div>"
      ],
      "text/plain": [
       "          hotel  is_canceled  lead_time  arrival_date_year arrival_date_month  \\\n",
       "0  Resort Hotel            0        342               2015               July   \n",
       "1  Resort Hotel            0        737               2015               July   \n",
       "2  Resort Hotel            0          7               2015               July   \n",
       "3  Resort Hotel            0         13               2015               July   \n",
       "4  Resort Hotel            0         14               2015               July   \n",
       "\n",
       "   arrival_date_week_number  arrival_date_day_of_month  \\\n",
       "0                        27                          1   \n",
       "1                        27                          1   \n",
       "2                        27                          1   \n",
       "3                        27                          1   \n",
       "4                        27                          1   \n",
       "\n",
       "   stays_in_weekend_nights  stays_in_week_nights  adults  ...  \\\n",
       "0                        0                     0       2  ...   \n",
       "1                        0                     0       2  ...   \n",
       "2                        0                     1       1  ...   \n",
       "3                        0                     1       1  ...   \n",
       "4                        0                     2       2  ...   \n",
       "\n",
       "   previous_cancellations previous_bookings_not_canceled reserved_room_type  \\\n",
       "0                       0                              0                  C   \n",
       "1                       0                              0                  C   \n",
       "2                       0                              0                  A   \n",
       "3                       0                              0                  A   \n",
       "4                       0                              0                  A   \n",
       "\n",
       "  booking_changes  deposit_type  days_in_waiting_list  customer_type   adr  \\\n",
       "0               3    No Deposit                     0      Transient   0.0   \n",
       "1               4    No Deposit                     0      Transient   0.0   \n",
       "2               0    No Deposit                     0      Transient  75.0   \n",
       "3               0    No Deposit                     0      Transient  75.0   \n",
       "4               0    No Deposit                     0      Transient  98.0   \n",
       "\n",
       "   required_car_parking_spaces total_of_special_requests  \n",
       "0                            0                         0  \n",
       "1                            0                         0  \n",
       "2                            0                         0  \n",
       "3                            0                         0  \n",
       "4                            0                         1  \n",
       "\n",
       "[5 rows x 25 columns]"
      ]
     },
     "execution_count": 39,
     "metadata": {},
     "output_type": "execute_result"
    }
   ],
   "source": [
    "data.head()"
   ]
  },
  {
   "cell_type": "code",
   "execution_count": 40,
   "id": "84c2bb92-c784-4a67-bb47-f6ae13be2f5f",
   "metadata": {},
   "outputs": [
    {
     "name": "stdout",
     "output_type": "stream",
     "text": [
      "| 79281 rows, 25 columns \n",
      "| 1982025 elements summary \n",
      "| 15.4 Mb\n"
     ]
    }
   ],
   "source": [
    "data.drop_duplicates(inplace=True)\n",
    "size_of_df(data)"
   ]
  },
  {
   "cell_type": "code",
   "execution_count": 41,
   "id": "93457940-94b7-4f4e-9fa2-18e5f1624813",
   "metadata": {},
   "outputs": [
    {
     "data": {
      "text/html": [
       "<style  type=\"text/css\" >\n",
       "    #T_5d1f7_ .row2 {\n",
       "          background-color: lavender;\n",
       "    }    #T_5d1f7_ .row3 {\n",
       "          background-color: lavender;\n",
       "    }    #T_5d1f7_ .row4 {\n",
       "          background-color: lavender;\n",
       "    }</style><table id=\"T_5d1f7_\" ><thead>    <tr>        <th class=\"blank level0\" ></th>        <th class=\"col_heading level0 col0\" >hotel</th>        <th class=\"col_heading level0 col1\" >is_canceled</th>        <th class=\"col_heading level0 col2\" >lead_time</th>        <th class=\"col_heading level0 col3\" >arrival_date_year</th>        <th class=\"col_heading level0 col4\" >arrival_date_month</th>        <th class=\"col_heading level0 col5\" >arrival_date_week_number</th>        <th class=\"col_heading level0 col6\" >arrival_date_day_of_month</th>        <th class=\"col_heading level0 col7\" >stays_in_weekend_nights</th>        <th class=\"col_heading level0 col8\" >stays_in_week_nights</th>        <th class=\"col_heading level0 col9\" >adults</th>        <th class=\"col_heading level0 col10\" >children</th>        <th class=\"col_heading level0 col11\" >meal</th>        <th class=\"col_heading level0 col12\" >country</th>        <th class=\"col_heading level0 col13\" >market_segment</th>        <th class=\"col_heading level0 col14\" >is_repeated_guest</th>        <th class=\"col_heading level0 col15\" >previous_cancellations</th>        <th class=\"col_heading level0 col16\" >previous_bookings_not_canceled</th>        <th class=\"col_heading level0 col17\" >reserved_room_type</th>        <th class=\"col_heading level0 col18\" >booking_changes</th>        <th class=\"col_heading level0 col19\" >deposit_type</th>        <th class=\"col_heading level0 col20\" >days_in_waiting_list</th>        <th class=\"col_heading level0 col21\" >customer_type</th>        <th class=\"col_heading level0 col22\" >adr</th>        <th class=\"col_heading level0 col23\" >required_car_parking_spaces</th>        <th class=\"col_heading level0 col24\" >total_of_special_requests</th>    </tr></thead><tbody>\n",
       "                <tr>\n",
       "                        <th id=\"T_5d1f7_level0_row0\" class=\"row_heading level0 row0\" >unique_value_1</th>\n",
       "                        <td id=\"T_5d1f7_row0_col0\" class=\"data row0 col0\" >City Hotel</td>\n",
       "                        <td id=\"T_5d1f7_row0_col1\" class=\"data row0 col1\" >0</td>\n",
       "                        <td id=\"T_5d1f7_row0_col2\" class=\"data row0 col2\" >0</td>\n",
       "                        <td id=\"T_5d1f7_row0_col3\" class=\"data row0 col3\" >2016</td>\n",
       "                        <td id=\"T_5d1f7_row0_col4\" class=\"data row0 col4\" >August</td>\n",
       "                        <td id=\"T_5d1f7_row0_col5\" class=\"data row0 col5\" >33</td>\n",
       "                        <td id=\"T_5d1f7_row0_col6\" class=\"data row0 col6\" >2</td>\n",
       "                        <td id=\"T_5d1f7_row0_col7\" class=\"data row0 col7\" >0</td>\n",
       "                        <td id=\"T_5d1f7_row0_col8\" class=\"data row0 col8\" >1</td>\n",
       "                        <td id=\"T_5d1f7_row0_col9\" class=\"data row0 col9\" >2</td>\n",
       "                        <td id=\"T_5d1f7_row0_col10\" class=\"data row0 col10\" >0</td>\n",
       "                        <td id=\"T_5d1f7_row0_col11\" class=\"data row0 col11\" >BB</td>\n",
       "                        <td id=\"T_5d1f7_row0_col12\" class=\"data row0 col12\" >PRT</td>\n",
       "                        <td id=\"T_5d1f7_row0_col13\" class=\"data row0 col13\" >Online TA</td>\n",
       "                        <td id=\"T_5d1f7_row0_col14\" class=\"data row0 col14\" >0</td>\n",
       "                        <td id=\"T_5d1f7_row0_col15\" class=\"data row0 col15\" >0</td>\n",
       "                        <td id=\"T_5d1f7_row0_col16\" class=\"data row0 col16\" >0</td>\n",
       "                        <td id=\"T_5d1f7_row0_col17\" class=\"data row0 col17\" >A</td>\n",
       "                        <td id=\"T_5d1f7_row0_col18\" class=\"data row0 col18\" >0</td>\n",
       "                        <td id=\"T_5d1f7_row0_col19\" class=\"data row0 col19\" >No Deposit</td>\n",
       "                        <td id=\"T_5d1f7_row0_col20\" class=\"data row0 col20\" >0</td>\n",
       "                        <td id=\"T_5d1f7_row0_col21\" class=\"data row0 col21\" >Transient</td>\n",
       "                        <td id=\"T_5d1f7_row0_col22\" class=\"data row0 col22\" >80.000000</td>\n",
       "                        <td id=\"T_5d1f7_row0_col23\" class=\"data row0 col23\" >0</td>\n",
       "                        <td id=\"T_5d1f7_row0_col24\" class=\"data row0 col24\" >0</td>\n",
       "            </tr>\n",
       "            <tr>\n",
       "                        <th id=\"T_5d1f7_level0_row1\" class=\"row_heading level0 row1\" >unique_value_2</th>\n",
       "                        <td id=\"T_5d1f7_row1_col0\" class=\"data row1 col0\" >Resort Hotel</td>\n",
       "                        <td id=\"T_5d1f7_row1_col1\" class=\"data row1 col1\" >1</td>\n",
       "                        <td id=\"T_5d1f7_row1_col2\" class=\"data row1 col2\" >1</td>\n",
       "                        <td id=\"T_5d1f7_row1_col3\" class=\"data row1 col3\" >2017</td>\n",
       "                        <td id=\"T_5d1f7_row1_col4\" class=\"data row1 col4\" >July</td>\n",
       "                        <td id=\"T_5d1f7_row1_col5\" class=\"data row1 col5\" >34</td>\n",
       "                        <td id=\"T_5d1f7_row1_col6\" class=\"data row1 col6\" >17</td>\n",
       "                        <td id=\"T_5d1f7_row1_col7\" class=\"data row1 col7\" >2</td>\n",
       "                        <td id=\"T_5d1f7_row1_col8\" class=\"data row1 col8\" >2</td>\n",
       "                        <td id=\"T_5d1f7_row1_col9\" class=\"data row1 col9\" >1</td>\n",
       "                        <td id=\"T_5d1f7_row1_col10\" class=\"data row1 col10\" >1</td>\n",
       "                        <td id=\"T_5d1f7_row1_col11\" class=\"data row1 col11\" >SC</td>\n",
       "                        <td id=\"T_5d1f7_row1_col12\" class=\"data row1 col12\" >GBR</td>\n",
       "                        <td id=\"T_5d1f7_row1_col13\" class=\"data row1 col13\" >Offline TA/TO</td>\n",
       "                        <td id=\"T_5d1f7_row1_col14\" class=\"data row1 col14\" >1</td>\n",
       "                        <td id=\"T_5d1f7_row1_col15\" class=\"data row1 col15\" >1</td>\n",
       "                        <td id=\"T_5d1f7_row1_col16\" class=\"data row1 col16\" >1</td>\n",
       "                        <td id=\"T_5d1f7_row1_col17\" class=\"data row1 col17\" >D</td>\n",
       "                        <td id=\"T_5d1f7_row1_col18\" class=\"data row1 col18\" >1</td>\n",
       "                        <td id=\"T_5d1f7_row1_col19\" class=\"data row1 col19\" >Non Refund</td>\n",
       "                        <td id=\"T_5d1f7_row1_col20\" class=\"data row1 col20\" >77</td>\n",
       "                        <td id=\"T_5d1f7_row1_col21\" class=\"data row1 col21\" >Transient-Party</td>\n",
       "                        <td id=\"T_5d1f7_row1_col22\" class=\"data row1 col22\" >0.000000</td>\n",
       "                        <td id=\"T_5d1f7_row1_col23\" class=\"data row1 col23\" >1</td>\n",
       "                        <td id=\"T_5d1f7_row1_col24\" class=\"data row1 col24\" >1</td>\n",
       "            </tr>\n",
       "            <tr>\n",
       "                        <th id=\"T_5d1f7_level0_row2\" class=\"row_heading level0 row2\" >type</th>\n",
       "                        <td id=\"T_5d1f7_row2_col0\" class=\"data row2 col0\" >object</td>\n",
       "                        <td id=\"T_5d1f7_row2_col1\" class=\"data row2 col1\" >int64</td>\n",
       "                        <td id=\"T_5d1f7_row2_col2\" class=\"data row2 col2\" >int64</td>\n",
       "                        <td id=\"T_5d1f7_row2_col3\" class=\"data row2 col3\" >int64</td>\n",
       "                        <td id=\"T_5d1f7_row2_col4\" class=\"data row2 col4\" >object</td>\n",
       "                        <td id=\"T_5d1f7_row2_col5\" class=\"data row2 col5\" >int64</td>\n",
       "                        <td id=\"T_5d1f7_row2_col6\" class=\"data row2 col6\" >int64</td>\n",
       "                        <td id=\"T_5d1f7_row2_col7\" class=\"data row2 col7\" >int64</td>\n",
       "                        <td id=\"T_5d1f7_row2_col8\" class=\"data row2 col8\" >int64</td>\n",
       "                        <td id=\"T_5d1f7_row2_col9\" class=\"data row2 col9\" >int64</td>\n",
       "                        <td id=\"T_5d1f7_row2_col10\" class=\"data row2 col10\" >int32</td>\n",
       "                        <td id=\"T_5d1f7_row2_col11\" class=\"data row2 col11\" >object</td>\n",
       "                        <td id=\"T_5d1f7_row2_col12\" class=\"data row2 col12\" >object</td>\n",
       "                        <td id=\"T_5d1f7_row2_col13\" class=\"data row2 col13\" >object</td>\n",
       "                        <td id=\"T_5d1f7_row2_col14\" class=\"data row2 col14\" >int64</td>\n",
       "                        <td id=\"T_5d1f7_row2_col15\" class=\"data row2 col15\" >int64</td>\n",
       "                        <td id=\"T_5d1f7_row2_col16\" class=\"data row2 col16\" >int64</td>\n",
       "                        <td id=\"T_5d1f7_row2_col17\" class=\"data row2 col17\" >object</td>\n",
       "                        <td id=\"T_5d1f7_row2_col18\" class=\"data row2 col18\" >int64</td>\n",
       "                        <td id=\"T_5d1f7_row2_col19\" class=\"data row2 col19\" >object</td>\n",
       "                        <td id=\"T_5d1f7_row2_col20\" class=\"data row2 col20\" >int64</td>\n",
       "                        <td id=\"T_5d1f7_row2_col21\" class=\"data row2 col21\" >object</td>\n",
       "                        <td id=\"T_5d1f7_row2_col22\" class=\"data row2 col22\" >float64</td>\n",
       "                        <td id=\"T_5d1f7_row2_col23\" class=\"data row2 col23\" >int64</td>\n",
       "                        <td id=\"T_5d1f7_row2_col24\" class=\"data row2 col24\" >int64</td>\n",
       "            </tr>\n",
       "            <tr>\n",
       "                        <th id=\"T_5d1f7_level0_row3\" class=\"row_heading level0 row3\" >num_unique</th>\n",
       "                        <td id=\"T_5d1f7_row3_col0\" class=\"data row3 col0\" >2</td>\n",
       "                        <td id=\"T_5d1f7_row3_col1\" class=\"data row3 col1\" >2</td>\n",
       "                        <td id=\"T_5d1f7_row3_col2\" class=\"data row3 col2\" >479</td>\n",
       "                        <td id=\"T_5d1f7_row3_col3\" class=\"data row3 col3\" >3</td>\n",
       "                        <td id=\"T_5d1f7_row3_col4\" class=\"data row3 col4\" >12</td>\n",
       "                        <td id=\"T_5d1f7_row3_col5\" class=\"data row3 col5\" >53</td>\n",
       "                        <td id=\"T_5d1f7_row3_col6\" class=\"data row3 col6\" >31</td>\n",
       "                        <td id=\"T_5d1f7_row3_col7\" class=\"data row3 col7\" >15</td>\n",
       "                        <td id=\"T_5d1f7_row3_col8\" class=\"data row3 col8\" >31</td>\n",
       "                        <td id=\"T_5d1f7_row3_col9\" class=\"data row3 col9\" >2</td>\n",
       "                        <td id=\"T_5d1f7_row3_col10\" class=\"data row3 col10\" >6</td>\n",
       "                        <td id=\"T_5d1f7_row3_col11\" class=\"data row3 col11\" >5</td>\n",
       "                        <td id=\"T_5d1f7_row3_col12\" class=\"data row3 col12\" >175</td>\n",
       "                        <td id=\"T_5d1f7_row3_col13\" class=\"data row3 col13\" >7</td>\n",
       "                        <td id=\"T_5d1f7_row3_col14\" class=\"data row3 col14\" >2</td>\n",
       "                        <td id=\"T_5d1f7_row3_col15\" class=\"data row3 col15\" >15</td>\n",
       "                        <td id=\"T_5d1f7_row3_col16\" class=\"data row3 col16\" >73</td>\n",
       "                        <td id=\"T_5d1f7_row3_col17\" class=\"data row3 col17\" >9</td>\n",
       "                        <td id=\"T_5d1f7_row3_col18\" class=\"data row3 col18\" >19</td>\n",
       "                        <td id=\"T_5d1f7_row3_col19\" class=\"data row3 col19\" >3</td>\n",
       "                        <td id=\"T_5d1f7_row3_col20\" class=\"data row3 col20\" >74</td>\n",
       "                        <td id=\"T_5d1f7_row3_col21\" class=\"data row3 col21\" >4</td>\n",
       "                        <td id=\"T_5d1f7_row3_col22\" class=\"data row3 col22\" >246</td>\n",
       "                        <td id=\"T_5d1f7_row3_col23\" class=\"data row3 col23\" >5</td>\n",
       "                        <td id=\"T_5d1f7_row3_col24\" class=\"data row3 col24\" >6</td>\n",
       "            </tr>\n",
       "            <tr>\n",
       "                        <th id=\"T_5d1f7_level0_row4\" class=\"row_heading level0 row4\" >is_na</th>\n",
       "                        <td id=\"T_5d1f7_row4_col0\" class=\"data row4 col0\" >0</td>\n",
       "                        <td id=\"T_5d1f7_row4_col1\" class=\"data row4 col1\" >0</td>\n",
       "                        <td id=\"T_5d1f7_row4_col2\" class=\"data row4 col2\" >0</td>\n",
       "                        <td id=\"T_5d1f7_row4_col3\" class=\"data row4 col3\" >0</td>\n",
       "                        <td id=\"T_5d1f7_row4_col4\" class=\"data row4 col4\" >0</td>\n",
       "                        <td id=\"T_5d1f7_row4_col5\" class=\"data row4 col5\" >0</td>\n",
       "                        <td id=\"T_5d1f7_row4_col6\" class=\"data row4 col6\" >0</td>\n",
       "                        <td id=\"T_5d1f7_row4_col7\" class=\"data row4 col7\" >0</td>\n",
       "                        <td id=\"T_5d1f7_row4_col8\" class=\"data row4 col8\" >0</td>\n",
       "                        <td id=\"T_5d1f7_row4_col9\" class=\"data row4 col9\" >0</td>\n",
       "                        <td id=\"T_5d1f7_row4_col10\" class=\"data row4 col10\" >0</td>\n",
       "                        <td id=\"T_5d1f7_row4_col11\" class=\"data row4 col11\" >0</td>\n",
       "                        <td id=\"T_5d1f7_row4_col12\" class=\"data row4 col12\" >0</td>\n",
       "                        <td id=\"T_5d1f7_row4_col13\" class=\"data row4 col13\" >0</td>\n",
       "                        <td id=\"T_5d1f7_row4_col14\" class=\"data row4 col14\" >0</td>\n",
       "                        <td id=\"T_5d1f7_row4_col15\" class=\"data row4 col15\" >0</td>\n",
       "                        <td id=\"T_5d1f7_row4_col16\" class=\"data row4 col16\" >0</td>\n",
       "                        <td id=\"T_5d1f7_row4_col17\" class=\"data row4 col17\" >0</td>\n",
       "                        <td id=\"T_5d1f7_row4_col18\" class=\"data row4 col18\" >0</td>\n",
       "                        <td id=\"T_5d1f7_row4_col19\" class=\"data row4 col19\" >0</td>\n",
       "                        <td id=\"T_5d1f7_row4_col20\" class=\"data row4 col20\" >0</td>\n",
       "                        <td id=\"T_5d1f7_row4_col21\" class=\"data row4 col21\" >0</td>\n",
       "                        <td id=\"T_5d1f7_row4_col22\" class=\"data row4 col22\" >0</td>\n",
       "                        <td id=\"T_5d1f7_row4_col23\" class=\"data row4 col23\" >0</td>\n",
       "                        <td id=\"T_5d1f7_row4_col24\" class=\"data row4 col24\" >0</td>\n",
       "            </tr>\n",
       "    </tbody></table>"
      ],
      "text/plain": [
       "<pandas.io.formats.style.Styler at 0x19ef65be070>"
      ]
     },
     "execution_count": 41,
     "metadata": {},
     "output_type": "execute_result"
    }
   ],
   "source": [
    "data_info(data, True)"
   ]
  },
  {
   "cell_type": "markdown",
   "id": "4bde799e-0147-40c1-9b62-98d4c519c047",
   "metadata": {},
   "source": [
    "### Predict cancelations"
   ]
  },
  {
   "cell_type": "code",
   "execution_count": 42,
   "id": "70782cfd-e5ea-4e19-bcc1-41953da386c6",
   "metadata": {},
   "outputs": [],
   "source": [
    "data = pd.get_dummies(data)"
   ]
  },
  {
   "cell_type": "code",
   "execution_count": 43,
   "id": "553f321b-c5fe-4cb7-978a-86cdcd5a02fa",
   "metadata": {},
   "outputs": [],
   "source": [
    "X = data.drop(\"is_canceled\", axis=1)\n",
    "y = data.is_canceled"
   ]
  },
  {
   "cell_type": "code",
   "execution_count": 44,
   "id": "e3a257fd-c890-4754-99a0-1b77c662095a",
   "metadata": {},
   "outputs": [],
   "source": [
    "X_train, X_test, y_train, y_test = train_test_split(X, y, test_size=0.3, random_state=22, stratify=y)"
   ]
  },
  {
   "cell_type": "code",
   "execution_count": 45,
   "id": "3ae95e1b-3cdc-451c-890e-0f2ceb8c46e4",
   "metadata": {},
   "outputs": [
    {
     "data": {
      "text/plain": [
       "((55496, 233), (23785, 233))"
      ]
     },
     "execution_count": 45,
     "metadata": {},
     "output_type": "execute_result"
    }
   ],
   "source": [
    "X_train.shape, X_test.shape"
   ]
  },
  {
   "cell_type": "code",
   "execution_count": 46,
   "id": "2876b1cc-0afc-4737-963b-c74aff93bf9b",
   "metadata": {},
   "outputs": [],
   "source": [
    "sc = StandardScaler()\n",
    "\n",
    "X_train = sc.fit_transform(X_train)\n",
    "X_test = sc.transform(X_test)"
   ]
  },
  {
   "cell_type": "code",
   "execution_count": 91,
   "id": "612e5d7b-9f49-4e9c-8135-ceb1c8799c10",
   "metadata": {},
   "outputs": [],
   "source": [
    "results = pd.DataFrame(columns=['Model','Test_Score','CV Mean','CV STDEV'])\n",
    "ensemble_models= {}\n",
    "def save(model, modelname):\n",
    "    global results\n",
    "    # Once best model is found, establish more evaluation metrics.\n",
    "    model.best_estimator_.fit(X_train, y_train)\n",
    "    scores = cross_val_score(model.best_estimator_, X_train, y_train, cv=5,\n",
    "                             scoring='roc_auc', verbose =0)\n",
    "    CV_scores = scores.mean()\n",
    "    STDev = scores.std()\n",
    "    Test_scores = model.score(X_test, y_test)\n",
    "\n",
    "    # CV and Save scores\n",
    "    results = results.append({'Model': modelname,'Test_Score': Test_scores,\n",
    "                             'CV Mean':CV_scores, 'CV STDEV': STDev}, ignore_index=True)\n",
    "    ensemble_models[modelname] = model.best_estimator_\n",
    "    \n",
    "    # Print Evaluation\n",
    "    print(\"\\nEvaluation Method: {}\".format(\"roc_auc\"))\n",
    "    print(\"Train CV RocAuc Score: %0.2f (+/- %0.2f) [%s]\" % (CV_scores, STDev, modelname))\n",
    "    print('Test_Score:', Test_scores)\n",
    "        \n",
    "    # Scikit Confusion Matrix\n",
    "    model.best_estimator_.fit(X_train, y_train)\n",
    "    pred = model.predict(X_test)\n",
    "    skplt.metrics.plot_confusion_matrix(y_test, pred, title=\"{} Confusion Matrix\".format(modelname),\n",
    "                normalize=True,figsize=(6,6),text_fontsize='large')\n",
    "    plt.show()\n",
    "\n",
    "# ROC Curve Plot\n",
    "# http://scikit-plot.readthedocs.io/en/stable/metrics.html\n",
    "def eval_plot(model):\n",
    "    skplt.metrics.plot_roc_curve(y_test, model.predict_proba(X_test))\n",
    "    plt.show()"
   ]
  },
  {
   "cell_type": "markdown",
   "id": "d92bdf5c-e76c-4825-b171-f02489ac42ce",
   "metadata": {},
   "source": [
    "#### Random Forest"
   ]
  },
  {
   "cell_type": "code",
   "execution_count": 48,
   "id": "afad98f0-d91b-49c4-89d2-3e575e6dae87",
   "metadata": {},
   "outputs": [],
   "source": [
    "skf = StratifiedKFold(n_splits=5, shuffle=True, random_state=22)\n",
    "\n",
    "n_estimators = [int(x) for x in np.linspace(start = 50, stop = 500, num = 10)]\n",
    "max_features = ['auto', 'sqrt']\n",
    "max_depth = [int(x) for x in np.linspace(10, 110, num = 11)]\n",
    "max_depth.append(None)\n",
    "min_samples_split = [2, 5, 10]\n",
    "min_samples_leaf = [1, 2, 4]\n",
    "bootstrap = [True, False]\n",
    "\n",
    "parameters = {'n_estimators': n_estimators,\n",
    "               'max_features': max_features,\n",
    "               'max_depth': max_depth,\n",
    "               'min_samples_split': min_samples_split,\n",
    "               'min_samples_leaf': min_samples_leaf,\n",
    "               'bootstrap': bootstrap}\n",
    "rfc = RandomForestClassifier()\n",
    "rf_random = RandomizedSearchCV(estimator = rfc, param_distributions = parameters, scoring=\"roc_auc\", \n",
    "                               n_iter = 20, cv = 3, verbose=2, random_state=22, n_jobs = -1)"
   ]
  },
  {
   "cell_type": "code",
   "execution_count": 49,
   "id": "05787551-c717-4c52-a19e-4a1b84223986",
   "metadata": {},
   "outputs": [
    {
     "name": "stdout",
     "output_type": "stream",
     "text": [
      "Fitting 3 folds for each of 20 candidates, totalling 60 fits\n"
     ]
    },
    {
     "data": {
      "text/plain": [
       "RandomizedSearchCV(cv=3, estimator=RandomForestClassifier(), n_iter=20,\n",
       "                   n_jobs=-1,\n",
       "                   param_distributions={'bootstrap': [True, False],\n",
       "                                        'max_depth': [10, 20, 30, 40, 50, 60,\n",
       "                                                      70, 80, 90, 100, 110,\n",
       "                                                      None],\n",
       "                                        'max_features': ['auto', 'sqrt'],\n",
       "                                        'min_samples_leaf': [1, 2, 4],\n",
       "                                        'min_samples_split': [2, 5, 10],\n",
       "                                        'n_estimators': [50, 100, 150, 200, 250,\n",
       "                                                         300, 350, 400, 450,\n",
       "                                                         500]},\n",
       "                   random_state=22, scoring='roc_auc', verbose=2)"
      ]
     },
     "execution_count": 49,
     "metadata": {},
     "output_type": "execute_result"
    }
   ],
   "source": [
    "rf_random.fit(X_train, y_train)"
   ]
  },
  {
   "cell_type": "code",
   "execution_count": 50,
   "id": "0ad22f0b-8f6a-4cea-9778-48417b57c46c",
   "metadata": {},
   "outputs": [
    {
     "data": {
      "text/plain": [
       "(RandomForestClassifier(bootstrap=False, max_depth=90, min_samples_split=10,\n",
       "                        n_estimators=500),\n",
       " 0.8949816311256956)"
      ]
     },
     "execution_count": 50,
     "metadata": {},
     "output_type": "execute_result"
    }
   ],
   "source": [
    "rf_random.best_estimator_, rf_random.best_score_"
   ]
  },
  {
   "cell_type": "code",
   "execution_count": 51,
   "id": "437743da-6366-4593-8bf1-8c1dbc23f42b",
   "metadata": {},
   "outputs": [
    {
     "name": "stdout",
     "output_type": "stream",
     "text": [
      "\n",
      "Evaluation Method: roc_auc\n",
      "Train CV Accuracy: 0.90 (+/- 0.00) [RandomForest]\n",
      "Test_Score: 0.8985228525781163\n"
     ]
    },
    {
     "data": {
      "image/png": "[encoded data removed]",
      "text/plain": [
       "<Figure size 432x432 with 2 Axes>"
      ]
     },
     "metadata": {
      "needs_background": "light"
     },
     "output_type": "display_data"
    }
   ],
   "source": [
    "save(rf_random, \"RandomForest\")"
   ]
  },
  {
   "cell_type": "code",
   "execution_count": 78,
   "id": "2caff8d1-3035-42ef-8fdb-010a91d2bdec",
   "metadata": {},
   "outputs": [
    {
     "data": {
      "image/png": "[encoded data removed]",
      "text/plain": [
       "<Figure size 432x288 with 1 Axes>"
      ]
     },
     "metadata": {
      "needs_background": "light"
     },
     "output_type": "display_data"
    }
   ],
   "source": [
    "eval_plot(rf_random)"
   ]
  },
  {
   "cell_type": "markdown",
   "id": "6261706b-bcef-45f2-a3fd-29419840753a",
   "metadata": {},
   "source": [
    "#### Linear SVC"
   ]
  },
  {
   "cell_type": "code",
   "execution_count": 52,
   "id": "f8ccf198-dd62-459d-86da-8ee44edbcaf7",
   "metadata": {},
   "outputs": [],
   "source": [
    "penalty = [\"l1\", \"l2\"]\n",
    "C = [0.1, 0.5, 1, 10, 20, 50, 100]\n",
    "\n",
    "parameters = {'penalty': penalty,\n",
    "               'C': C}\n",
    "lsvc = LinearSVC()\n",
    "lsvc_random = RandomizedSearchCV(estimator = lsvc, param_distributions = parameters, scoring=\"roc_auc\", \n",
    "                               n_iter = 100, cv = 3, verbose=2, random_state=22, n_jobs = -1)"
   ]
  },
  {
   "cell_type": "code",
   "execution_count": 53,
   "id": "59b5f6b0-88cf-454b-bf38-85f2b67dbb44",
   "metadata": {},
   "outputs": [
    {
     "name": "stdout",
     "output_type": "stream",
     "text": [
      "Fitting 3 folds for each of 14 candidates, totalling 42 fits\n"
     ]
    },
    {
     "data": {
      "text/plain": [
       "RandomizedSearchCV(cv=3, estimator=LinearSVC(), n_iter=100, n_jobs=-1,\n",
       "                   param_distributions={'C': [0.1, 0.5, 1, 10, 20, 50, 100],\n",
       "                                        'penalty': ['l1', 'l2']},\n",
       "                   random_state=22, scoring='roc_auc', verbose=2)"
      ]
     },
     "execution_count": 53,
     "metadata": {},
     "output_type": "execute_result"
    }
   ],
   "source": [
    "lsvc_random.fit(X_train, y_train)"
   ]
  },
  {
   "cell_type": "code",
   "execution_count": 54,
   "id": "c24f35f3-81ac-4fd3-a0d7-c0c32d441cbb",
   "metadata": {},
   "outputs": [
    {
     "data": {
      "text/plain": [
       "(LinearSVC(C=0.1), 0.8340906521466397)"
      ]
     },
     "execution_count": 54,
     "metadata": {},
     "output_type": "execute_result"
    }
   ],
   "source": [
    "lsvc_random.best_estimator_, lsvc_random.best_score_"
   ]
  },
  {
   "cell_type": "code",
   "execution_count": 56,
   "id": "1948a9b3-8e28-4728-b324-dbce24cd046a",
   "metadata": {},
   "outputs": [
    {
     "name": "stdout",
     "output_type": "stream",
     "text": [
      "\n",
      "Evaluation Method: roc_auc\n",
      "Train CV Accuracy: 0.83 (+/- 0.00) [LinearSVC]\n",
      "Test_Score: 0.8305002307190494\n"
     ]
    },
    {
     "data": {
      "image/png": "[encoded data removed]",
      "text/plain": [
       "<Figure size 432x432 with 2 Axes>"
      ]
     },
     "metadata": {
      "needs_background": "light"
     },
     "output_type": "display_data"
    }
   ],
   "source": [
    "save(lsvc_random, \"LinearSVC\")"
   ]
  },
  {
   "cell_type": "markdown",
   "id": "8cc44f22-e130-49e4-9fb3-5a45c1cd8b40",
   "metadata": {},
   "source": [
    "#### Logistic Regression"
   ]
  },
  {
   "cell_type": "code",
   "execution_count": 57,
   "id": "29deaba3-a5c7-4bd9-b08c-51e8b68928f6",
   "metadata": {},
   "outputs": [],
   "source": [
    "penalty = ['l1', 'l2', 'elasticnet']\n",
    "C = [100, 10, 1.0, 0.1, 0.01]\n",
    "solver = ['newton-cg', 'lbfgs', 'liblinear']\n",
    "\n",
    "parameters = {'penalty': penalty,\n",
    "               'C': C, \n",
    "               'solver': solver}\n",
    "lr = LogisticRegression()\n",
    "lr_random = RandomizedSearchCV(estimator = lr, param_distributions = parameters, scoring=\"roc_auc\", \n",
    "                               n_iter = 100, cv = 3, verbose=2, random_state=22, n_jobs = -1)"
   ]
  },
  {
   "cell_type": "code",
   "execution_count": 58,
   "id": "edda72c6-7992-4172-86fe-41124a7c407b",
   "metadata": {},
   "outputs": [
    {
     "name": "stdout",
     "output_type": "stream",
     "text": [
      "Fitting 3 folds for each of 45 candidates, totalling 135 fits\n"
     ]
    },
    {
     "data": {
      "text/plain": [
       "RandomizedSearchCV(cv=3, estimator=LogisticRegression(), n_iter=100, n_jobs=-1,\n",
       "                   param_distributions={'C': [100, 10, 1.0, 0.1, 0.01],\n",
       "                                        'penalty': ['l1', 'l2', 'elasticnet'],\n",
       "                                        'solver': ['newton-cg', 'lbfgs',\n",
       "                                                   'liblinear']},\n",
       "                   random_state=22, scoring='roc_auc', verbose=2)"
      ]
     },
     "execution_count": 58,
     "metadata": {},
     "output_type": "execute_result"
    }
   ],
   "source": [
    "lr_random.fit(X_train, y_train)"
   ]
  },
  {
   "cell_type": "code",
   "execution_count": 59,
   "id": "8168fadc-90ae-4b2a-a3c8-5955e44c2360",
   "metadata": {},
   "outputs": [
    {
     "data": {
      "text/plain": [
       "(LogisticRegression(C=100, solver='newton-cg'), 0.8361556218115928)"
      ]
     },
     "execution_count": 59,
     "metadata": {},
     "output_type": "execute_result"
    }
   ],
   "source": [
    "lr_random.best_estimator_, lr_random.best_score_"
   ]
  },
  {
   "cell_type": "code",
   "execution_count": 60,
   "id": "2b598c11-81c6-4896-9dfa-1a18a0e27f40",
   "metadata": {},
   "outputs": [
    {
     "name": "stdout",
     "output_type": "stream",
     "text": [
      "\n",
      "Evaluation Method: roc_auc\n",
      "Train CV Accuracy: 0.84 (+/- 0.00) [LogisticRegression]\n",
      "Test_Score: 0.8332907777126506\n"
     ]
    },
    {
     "data": {
      "image/png": "[encoded data removed]",
      "text/plain": [
       "<Figure size 432x432 with 2 Axes>"
      ]
     },
     "metadata": {
      "needs_background": "light"
     },
     "output_type": "display_data"
    }
   ],
   "source": [
    "save(lr_random, \"LogisticRegression\")"
   ]
  },
  {
   "cell_type": "code",
   "execution_count": 86,
   "id": "199fad3c-9690-4d97-91dd-b976a897a795",
   "metadata": {},
   "outputs": [
    {
     "data": {
      "image/png": "[encoded data removed]",
      "text/plain": [
       "<Figure size 432x288 with 1 Axes>"
      ]
     },
     "metadata": {
      "needs_background": "light"
     },
     "output_type": "display_data"
    }
   ],
   "source": [
    "skplt.metrics.plot_roc_curve(y_test, lr_random.predict_log_proba(X_test))\n",
    "plt.show()"
   ]
  },
  {
   "cell_type": "markdown",
   "id": "21794887-e448-41a8-bded-1746e61ee623",
   "metadata": {},
   "source": [
    "#### Ridge Classifier"
   ]
  },
  {
   "cell_type": "code",
   "execution_count": 61,
   "id": "f42ef129-3036-49a5-a1e5-86469221fadf",
   "metadata": {},
   "outputs": [],
   "source": [
    "alpha = np.arange(0, 1, 0.1)\n",
    "parameters = {'alpha': alpha}\n",
    "lc = RidgeClassifier()\n",
    "lc_random = RandomizedSearchCV(estimator = lc, param_distributions = parameters, scoring=\"roc_auc\",\n",
    "                               n_iter = 100, cv = 3, verbose=2, random_state=22, n_jobs = -1)"
   ]
  },
  {
   "cell_type": "code",
   "execution_count": 62,
   "id": "f7879a68-72ba-4420-90e5-64d1da508a07",
   "metadata": {},
   "outputs": [
    {
     "name": "stdout",
     "output_type": "stream",
     "text": [
      "Fitting 3 folds for each of 10 candidates, totalling 30 fits\n"
     ]
    },
    {
     "data": {
      "text/plain": [
       "RandomizedSearchCV(cv=3, estimator=RidgeClassifier(), n_iter=100, n_jobs=-1,\n",
       "                   param_distributions={'alpha': array([0. , 0.1, 0.2, 0.3, 0.4, 0.5, 0.6, 0.7, 0.8, 0.9])},\n",
       "                   random_state=22, scoring='roc_auc', verbose=2)"
      ]
     },
     "execution_count": 62,
     "metadata": {},
     "output_type": "execute_result"
    }
   ],
   "source": [
    "lc_random.fit(X_train, y_train)"
   ]
  },
  {
   "cell_type": "code",
   "execution_count": 63,
   "id": "83a651ec-a81d-475d-be4a-9ab6f2947aa8",
   "metadata": {},
   "outputs": [
    {
     "data": {
      "text/plain": [
       "(RidgeClassifier(alpha=0.8), 0.8268878693898459)"
      ]
     },
     "execution_count": 63,
     "metadata": {},
     "output_type": "execute_result"
    }
   ],
   "source": [
    "lc_random.best_estimator_, lc_random.best_score_"
   ]
  },
  {
   "cell_type": "code",
   "execution_count": 64,
   "id": "2549aa4a-fbc2-403c-be3e-87324e1409c6",
   "metadata": {},
   "outputs": [
    {
     "data": {
      "text/plain": [
       "array([0.80650755, 0.8268818 , 0.82688301, 0.82688395, 0.82688465,\n",
       "       0.82688533, 0.82688608, 0.8268865 , 0.82688787, 0.82688747])"
      ]
     },
     "execution_count": 64,
     "metadata": {},
     "output_type": "execute_result"
    }
   ],
   "source": [
    "lc_random.cv_results_['mean_test_score']"
   ]
  },
  {
   "cell_type": "code",
   "execution_count": 65,
   "id": "71e02228-7d59-46de-ab5a-fba3e62be1d6",
   "metadata": {},
   "outputs": [
    {
     "name": "stdout",
     "output_type": "stream",
     "text": [
      "\n",
      "Evaluation Method: roc_auc\n",
      "Train CV Accuracy: 0.83 (+/- 0.00) [RidgeClassifier]\n",
      "Test_Score: 0.8228532361145647\n"
     ]
    },
    {
     "data": {
      "image/png": "[encoded data removed]",
      "text/plain": [
       "<Figure size 432x432 with 2 Axes>"
      ]
     },
     "metadata": {
      "needs_background": "light"
     },
     "output_type": "display_data"
    }
   ],
   "source": [
    "save(lc_random, \"RidgeClassifier\")"
   ]
  },
  {
   "cell_type": "markdown",
   "id": "930c949a-749a-41ce-a982-97b0fba415ef",
   "metadata": {},
   "source": [
    "#### Bagging Classifier"
   ]
  },
  {
   "cell_type": "code",
   "execution_count": 66,
   "id": "a1bfc64b-a097-47a0-909b-fa5d7858d781",
   "metadata": {},
   "outputs": [],
   "source": [
    "n_estimators = [10, 100, 500]\n",
    "parameters = {'n_estimators': n_estimators}\n",
    "bc = BaggingClassifier()\n",
    "bc_random = RandomizedSearchCV(estimator = bc, param_distributions = parameters, scoring=\"roc_auc\",\n",
    "                               n_iter = 50, cv = 3, verbose=2, random_state=22, n_jobs = -1)"
   ]
  },
  {
   "cell_type": "code",
   "execution_count": 67,
   "id": "85c28e64-e779-468d-bb03-f689ac0c8ba9",
   "metadata": {},
   "outputs": [
    {
     "name": "stdout",
     "output_type": "stream",
     "text": [
      "Fitting 3 folds for each of 3 candidates, totalling 9 fits\n"
     ]
    },
    {
     "data": {
      "text/plain": [
       "RandomizedSearchCV(cv=3, estimator=BaggingClassifier(), n_iter=50, n_jobs=-1,\n",
       "                   param_distributions={'n_estimators': [10, 100, 500]},\n",
       "                   random_state=22, scoring='roc_auc', verbose=2)"
      ]
     },
     "execution_count": 67,
     "metadata": {},
     "output_type": "execute_result"
    }
   ],
   "source": [
    "bc_random.fit(X_train, y_train)"
   ]
  },
  {
   "cell_type": "code",
   "execution_count": 68,
   "id": "2c3ec19d-162f-4b63-ab3b-16198fbef3c9",
   "metadata": {},
   "outputs": [
    {
     "data": {
      "text/plain": [
       "(BaggingClassifier(n_estimators=500), 0.888633391343006)"
      ]
     },
     "execution_count": 68,
     "metadata": {},
     "output_type": "execute_result"
    }
   ],
   "source": [
    "bc_random.best_estimator_, bc_random.best_score_"
   ]
  },
  {
   "cell_type": "code",
   "execution_count": 69,
   "id": "1eb001ec-54f3-4649-beeb-77ac8e068aa7",
   "metadata": {},
   "outputs": [
    {
     "name": "stdout",
     "output_type": "stream",
     "text": [
      "\n",
      "Evaluation Method: roc_auc\n",
      "Train CV Accuracy: 0.89 (+/- 0.00) [BaggingClassifier]\n",
      "Test_Score: 0.8943551694512766\n"
     ]
    },
    {
     "data": {
      "image/png": "[encoded data removed]",
      "text/plain": [
       "<Figure size 432x432 with 2 Axes>"
      ]
     },
     "metadata": {
      "needs_background": "light"
     },
     "output_type": "display_data"
    }
   ],
   "source": [
    "save(bc_random, \"BaggingClassifier\")"
   ]
  },
  {
   "cell_type": "code",
   "execution_count": 76,
   "id": "726c80d9-e66e-431a-9a8d-5eb5b0e0e58d",
   "metadata": {},
   "outputs": [
    {
     "data": {
      "image/png": "[encoded data removed]",
      "text/plain": [
       "<Figure size 432x288 with 1 Axes>"
      ]
     },
     "metadata": {
      "needs_background": "light"
     },
     "output_type": "display_data"
    }
   ],
   "source": [
    "eval_plot(bc_random)"
   ]
  },
  {
   "cell_type": "markdown",
   "id": "3742a15f-316e-4cc4-be0c-4ebccd2c86cb",
   "metadata": {},
   "source": [
    "#### XGBClassifier"
   ]
  },
  {
   "cell_type": "code",
   "execution_count": 70,
   "id": "260be23e-df52-4670-a1d8-567f426baa45",
   "metadata": {},
   "outputs": [],
   "source": [
    "learning_rate = [0.05, 0.10, 0.15, 0.20, 0.25, 0.30 ] \n",
    "max_depth = [ 3, 4, 5, 6, 8, 10, 12, 15]\n",
    "gamma = [ 0.0, 0.1, 0.2 , 0.3, 0.4 ]\n",
    "colsample_bytree = [ 0.3, 0.4, 0.5 , 0.7 ]\n",
    "parameters = {'learning_rate': learning_rate,\n",
    "             'max_depth': max_depth,\n",
    "             'gamma': gamma,\n",
    "             'colsample_bytree': colsample_bytree}\n",
    "xgb = XGBClassifier()\n",
    "xgb_random = RandomizedSearchCV(estimator = xgb, param_distributions = parameters, scoring=\"roc_auc\",\n",
    "                               n_iter = 50, cv = 3, verbose=2, random_state=22, n_jobs = -1)"
   ]
  },
  {
   "cell_type": "code",
   "execution_count": 71,
   "id": "286101d0-8b94-48ec-92de-30c620b395bc",
   "metadata": {},
   "outputs": [
    {
     "name": "stdout",
     "output_type": "stream",
     "text": [
      "Fitting 3 folds for each of 50 candidates, totalling 150 fits\n",
      "[00:40:41] WARNING: ..\\src\\learner.cc:1095: Starting in XGBoost 1.3.0, the default evaluation metric used with the objective 'binary:logistic' was changed from 'error' to 'logloss'. Explicitly set eval_metric if you'd like to restore the old behavior.\n"
     ]
    },
    {
     "data": {
      "text/plain": [
       "RandomizedSearchCV(cv=3,\n",
       "                   estimator=XGBClassifier(base_score=None, booster=None,\n",
       "                                           colsample_bylevel=None,\n",
       "                                           colsample_bynode=None,\n",
       "                                           colsample_bytree=None, gamma=None,\n",
       "                                           gpu_id=None, importance_type='gain',\n",
       "                                           interaction_constraints=None,\n",
       "                                           learning_rate=None,\n",
       "                                           max_delta_step=None, max_depth=None,\n",
       "                                           min_child_weight=None, missing=nan,\n",
       "                                           monotone_constraints=None,\n",
       "                                           n_estimators=100,...\n",
       "                                           random_state=None, reg_alpha=None,\n",
       "                                           reg_lambda=None,\n",
       "                                           scale_pos_weight=None,\n",
       "                                           subsample=None, tree_method=None,\n",
       "                                           validate_parameters=None,\n",
       "                                           verbosity=None),\n",
       "                   n_iter=50, n_jobs=-1,\n",
       "                   param_distributions={'colsample_bytree': [0.3, 0.4, 0.5,\n",
       "                                                             0.7],\n",
       "                                        'gamma': [0.0, 0.1, 0.2, 0.3, 0.4],\n",
       "                                        'learning_rate': [0.05, 0.1, 0.15, 0.2,\n",
       "                                                          0.25, 0.3],\n",
       "                                        'max_depth': [3, 4, 5, 6, 8, 10, 12,\n",
       "                                                      15]},\n",
       "                   random_state=22, scoring='roc_auc', verbose=2)"
      ]
     },
     "execution_count": 71,
     "metadata": {},
     "output_type": "execute_result"
    }
   ],
   "source": [
    "xgb_random.fit(X_train, y_train)"
   ]
  },
  {
   "cell_type": "code",
   "execution_count": 72,
   "id": "639eb662-8b21-452b-bfed-9cd2a79fd0aa",
   "metadata": {},
   "outputs": [
    {
     "data": {
      "text/plain": [
       "(XGBClassifier(base_score=0.5, booster='gbtree', colsample_bylevel=1,\n",
       "               colsample_bynode=1, colsample_bytree=0.7, gamma=0.2, gpu_id=-1,\n",
       "               importance_type='gain', interaction_constraints='',\n",
       "               learning_rate=0.1, max_delta_step=0, max_depth=12,\n",
       "               min_child_weight=1, missing=nan, monotone_constraints='()',\n",
       "               n_estimators=100, n_jobs=8, num_parallel_tree=1, random_state=0,\n",
       "               reg_alpha=0, reg_lambda=1, scale_pos_weight=1, subsample=1,\n",
       "               tree_method='exact', validate_parameters=1, verbosity=None),\n",
       " 0.9003834295961868)"
      ]
     },
     "execution_count": 72,
     "metadata": {},
     "output_type": "execute_result"
    }
   ],
   "source": [
    "xgb_random.best_estimator_, xgb_random.best_score_"
   ]
  },
  {
   "cell_type": "code",
   "execution_count": 73,
   "id": "234e7e88-f4a1-4c62-a4f8-4d8c459eef77",
   "metadata": {},
   "outputs": [
    {
     "name": "stdout",
     "output_type": "stream",
     "text": [
      "[00:41:07] WARNING: ..\\src\\learner.cc:1095: Starting in XGBoost 1.3.0, the default evaluation metric used with the objective 'binary:logistic' was changed from 'error' to 'logloss'. Explicitly set eval_metric if you'd like to restore the old behavior.\n",
      "[00:41:28] WARNING: ..\\src\\learner.cc:1095: Starting in XGBoost 1.3.0, the default evaluation metric used with the objective 'binary:logistic' was changed from 'error' to 'logloss'. Explicitly set eval_metric if you'd like to restore the old behavior.\n",
      "[00:41:45] WARNING: ..\\src\\learner.cc:1095: Starting in XGBoost 1.3.0, the default evaluation metric used with the objective 'binary:logistic' was changed from 'error' to 'logloss'. Explicitly set eval_metric if you'd like to restore the old behavior.\n",
      "[00:42:02] WARNING: ..\\src\\learner.cc:1095: Starting in XGBoost 1.3.0, the default evaluation metric used with the objective 'binary:logistic' was changed from 'error' to 'logloss'. Explicitly set eval_metric if you'd like to restore the old behavior.\n",
      "[00:42:19] WARNING: ..\\src\\learner.cc:1095: Starting in XGBoost 1.3.0, the default evaluation metric used with the objective 'binary:logistic' was changed from 'error' to 'logloss'. Explicitly set eval_metric if you'd like to restore the old behavior.\n",
      "[00:42:35] WARNING: ..\\src\\learner.cc:1095: Starting in XGBoost 1.3.0, the default evaluation metric used with the objective 'binary:logistic' was changed from 'error' to 'logloss'. Explicitly set eval_metric if you'd like to restore the old behavior.\n",
      "\n",
      "Evaluation Method: roc_auc\n",
      "Train CV Accuracy: 0.90 (+/- 0.00) [XGBClassifier]\n",
      "Test_Score: 0.9037869377698529\n",
      "[00:42:52] WARNING: ..\\src\\learner.cc:1095: Starting in XGBoost 1.3.0, the default evaluation metric used with the objective 'binary:logistic' was changed from 'error' to 'logloss'. Explicitly set eval_metric if you'd like to restore the old behavior.\n"
     ]
    },
    {
     "data": {
      "image/png": "[encoded data removed]",
      "text/plain": [
       "<Figure size 432x432 with 2 Axes>"
      ]
     },
     "metadata": {
      "needs_background": "light"
     },
     "output_type": "display_data"
    }
   ],
   "source": [
    "save(xgb_random, \"XGBClassifier\")"
   ]
  },
  {
   "cell_type": "code",
   "execution_count": 75,
   "id": "0189b805-8eb7-4419-8725-732997d147a0",
   "metadata": {},
   "outputs": [
    {
     "data": {
      "image/png": "[encoded data removed]",
      "text/plain": [
       "<Figure size 432x288 with 1 Axes>"
      ]
     },
     "metadata": {
      "needs_background": "light"
     },
     "output_type": "display_data"
    }
   ],
   "source": [
    "eval_plot(xgb_random)"
   ]
  },
  {
   "cell_type": "code",
   "execution_count": 74,
   "id": "d861beb4-5986-4d98-b5e5-9432020b6b74",
   "metadata": {},
   "outputs": [
    {
     "data": {
      "text/html": [
       "<div>\n",
       "<style scoped>\n",
       "    .dataframe tbody tr th:only-of-type {\n",
       "        vertical-align: middle;\n",
       "    }\n",
       "\n",
       "    .dataframe tbody tr th {\n",
       "        vertical-align: top;\n",
       "    }\n",
       "\n",
       "    .dataframe thead th {\n",
       "        text-align: right;\n",
       "    }\n",
       "</style>\n",
       "<table border=\"1\" class=\"dataframe\">\n",
       "  <thead>\n",
       "    <tr style=\"text-align: right;\">\n",
       "      <th></th>\n",
       "      <th>Model</th>\n",
       "      <th>Test_Score</th>\n",
       "      <th>CV Mean</th>\n",
       "      <th>CV STDEV</th>\n",
       "    </tr>\n",
       "  </thead>\n",
       "  <tbody>\n",
       "    <tr>\n",
       "      <th>0</th>\n",
       "      <td>RandomForest</td>\n",
       "      <td>0.898523</td>\n",
       "      <td>0.896764</td>\n",
       "      <td>0.003589</td>\n",
       "    </tr>\n",
       "    <tr>\n",
       "      <th>1</th>\n",
       "      <td>LinearSVC</td>\n",
       "      <td>0.830500</td>\n",
       "      <td>0.834131</td>\n",
       "      <td>0.003513</td>\n",
       "    </tr>\n",
       "    <tr>\n",
       "      <th>2</th>\n",
       "      <td>LogisticRegression</td>\n",
       "      <td>0.833291</td>\n",
       "      <td>0.836258</td>\n",
       "      <td>0.003509</td>\n",
       "    </tr>\n",
       "    <tr>\n",
       "      <th>3</th>\n",
       "      <td>RidgeClassifier</td>\n",
       "      <td>0.822853</td>\n",
       "      <td>0.827045</td>\n",
       "      <td>0.003442</td>\n",
       "    </tr>\n",
       "    <tr>\n",
       "      <th>4</th>\n",
       "      <td>BaggingClassifier</td>\n",
       "      <td>0.894355</td>\n",
       "      <td>0.890812</td>\n",
       "      <td>0.003395</td>\n",
       "    </tr>\n",
       "    <tr>\n",
       "      <th>5</th>\n",
       "      <td>XGBClassifier</td>\n",
       "      <td>0.903787</td>\n",
       "      <td>0.902348</td>\n",
       "      <td>0.003184</td>\n",
       "    </tr>\n",
       "  </tbody>\n",
       "</table>\n",
       "</div>"
      ],
      "text/plain": [
       "                Model  Test_Score   CV Mean  CV STDEV\n",
       "0        RandomForest    0.898523  0.896764  0.003589\n",
       "1           LinearSVC    0.830500  0.834131  0.003513\n",
       "2  LogisticRegression    0.833291  0.836258  0.003509\n",
       "3     RidgeClassifier    0.822853  0.827045  0.003442\n",
       "4   BaggingClassifier    0.894355  0.890812  0.003395\n",
       "5       XGBClassifier    0.903787  0.902348  0.003184"
      ]
     },
     "execution_count": 74,
     "metadata": {},
     "output_type": "execute_result"
    }
   ],
   "source": [
    "results"
   ]
  },
  {
   "cell_type": "code",
   "execution_count": 92,
   "id": "16f5e87e-fd13-4be0-9dc6-70ba24955dea",
   "metadata": {},
   "outputs": [
    {
     "data": {
      "text/plain": [
       "0.6845817937520994"
      ]
     },
     "execution_count": 92,
     "metadata": {},
     "output_type": "execute_result"
    }
   ],
   "source": [
    "from sklearn.metrics import f1_score\n",
    "predict = xgb_random.predict(X_test)\n",
    "f1_score(y_test, predict)"
   ]
  },
  {
   "cell_type": "code",
   "execution_count": 93,
   "id": "bd660f4d-f298-4965-b335-5b31489b38fc",
   "metadata": {},
   "outputs": [
    {
     "data": {
      "text/plain": [
       "0.775706407232818"
      ]
     },
     "execution_count": 93,
     "metadata": {},
     "output_type": "execute_result"
    }
   ],
   "source": [
    "from sklearn.metrics import roc_auc_score\n",
    "roc_auc_score(y_test, predict)"
   ]
  },
  {
   "cell_type": "code",
   "execution_count": null,
   "id": "f6392801-3181-47b9-9d89-9b311e936825",
   "metadata": {},
   "outputs": [],
   "source": []
  }
 ],
 "metadata": {
  "kernelspec": {
   "display_name": "Python 3",
   "language": "python",
   "name": "python3"
  },
  "language_info": {
   "codemirror_mode": {
    "name": "ipython",
    "version": 3
   },
   "file_extension": ".py",
   "mimetype": "text/x-python",
   "name": "python",
   "nbconvert_exporter": "python",
   "pygments_lexer": "ipython3",
   "version": "3.8.8"
  }
 },
 "nbformat": 4,
 "nbformat_minor": 5
}
